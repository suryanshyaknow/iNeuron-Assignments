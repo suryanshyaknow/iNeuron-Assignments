{
 "cells": [
  {
   "cell_type": "code",
   "execution_count": 1,
   "id": "83f33f34",
   "metadata": {},
   "outputs": [],
   "source": [
    "import logging as lg\n",
    "\n",
    "lg.basicConfig(level=lg.INFO)"
   ]
  },
  {
   "cell_type": "markdown",
   "id": "29cc31c3",
   "metadata": {},
   "source": [
    "### 1.\n",
    "Write a function that takes a list and a number as arguments. Add the number to the end of\n",
    "the list, then remove the first element of the list. The function should then return the updated\n",
    "list.\n",
    "\n",
    "**Examples:**\n",
    "    \n",
    "next_in_line([5, 6, 7, 8, 9], 1) ➞ [6, 7, 8, 9, 1]<br>\n",
    "next_in_line([7, 6, 3, 23, 17], 10) ➞ [6, 3, 23, 17, 10]<br>\n",
    "next_in_line([1, 10, 20, 42 ], 6) ➞ [10, 20, 42, 6]<br>\n",
    "next_in_line([], 6) ➞ &quot;No list has been selected&quot;<br>"
   ]
  },
  {
   "cell_type": "code",
   "execution_count": 2,
   "id": "5389db8f",
   "metadata": {},
   "outputs": [],
   "source": [
    "from typing import List\n",
    "\n",
    "def next_in_line(lst: list, ele: int) -> List:\n",
    "    try:\n",
    "        if len(lst) == 0:\n",
    "            return \"No list has been selected!\"\n",
    "        lst.pop(0)\n",
    "        lst.append(ele)\n",
    "        return lst\n",
    "        ...\n",
    "    except Exception as e:\n",
    "        lg.exception(e)"
   ]
  },
  {
   "cell_type": "code",
   "execution_count": 3,
   "id": "ae5d4516",
   "metadata": {},
   "outputs": [
    {
     "name": "stdout",
     "output_type": "stream",
     "text": [
      "[6, 7, 8, 9, 1]\n",
      "[6, 3, 23, 17, 10]\n",
      "[10, 20, 42, 6]\n",
      "No list has been selected!\n"
     ]
    }
   ],
   "source": [
    "## Examples\n",
    "\n",
    "print(next_in_line([5, 6, 7, 8, 9], 1))\n",
    "print(next_in_line([7, 6, 3, 23, 17], 10))\n",
    "print(next_in_line([1, 10, 20, 42 ], 6))\n",
    "print(next_in_line([], 6))"
   ]
  },
  {
   "cell_type": "markdown",
   "id": "bed150c6",
   "metadata": {},
   "source": [
    "### 2.\n",
    "Create the function that takes a list of dictionaries and returns the sum of people&#39;s budgets.\n",
    "\n",
    "**Examples:**\n",
    "\n",
    "get_budgets([<br>\n",
    "{ &quot;name&quot;: &quot;John&quot;, &quot;age&quot;: 21, &quot;budget&quot;: 23000 },<br>\n",
    "{ &quot;name&quot;: &quot;Steve&quot;, &quot;age&quot;: 32, &quot;budget&quot;: 40000 },<br>\n",
    "{ &quot;name&quot;: &quot;Martin&quot;, &quot;age&quot;: 16, &quot;budget&quot;: 2700 }<br>\n",
    "]) ➞ 65700\n",
    "\n",
    "get_budgets([<br>\n",
    "{ &quot;name&quot;: &quot;John&quot;, &quot;age&quot;: 21, &quot;budget&quot;: 29000 },<br>\n",
    "{ &quot;name&quot;: &quot;Steve&quot;, &quot;age&quot;: 32, &quot;budget&quot;: 32000 },<br>\n",
    "{ &quot;name&quot;: &quot;Martin&quot;, &quot;age&quot;: 16, &quot;budget&quot;: 1600 }<br>\n",
    "]) ➞ 62600"
   ]
  },
  {
   "cell_type": "code",
   "execution_count": 4,
   "id": "001ef942",
   "metadata": {},
   "outputs": [],
   "source": [
    "def get_budgets(lst: list) -> int:\n",
    "    try:\n",
    "        budgets = 0\n",
    "        for i in lst:\n",
    "            budgets += i[\"budget\"]\n",
    "        return budgets\n",
    "        ...\n",
    "    except Exception as e:\n",
    "        lg.exception(e)"
   ]
  },
  {
   "cell_type": "code",
   "execution_count": 5,
   "id": "0365e230",
   "metadata": {},
   "outputs": [
    {
     "name": "stdout",
     "output_type": "stream",
     "text": [
      "65700\n",
      "62600\n"
     ]
    }
   ],
   "source": [
    "## Examples:\n",
    "\n",
    "print(get_budgets([\n",
    "    {\"name\": \"John\", \"age\": 21, \"budget\": 23000 },\n",
    "    {\"name\": \"Steve\", \"age\": 32, \"budget\": 40000 },\n",
    "    {\"name\": \"Martin\", \"age\": 16, \"budget\": 2700 }\n",
    "]))\n",
    "\n",
    "print(get_budgets([\n",
    "    {\"name\": \"John\", \"age\": 21, \"budget\": 29000 },\n",
    "    {\"name\": \"Steve\", \"age\": 32, \"budget\": 32000 },\n",
    "    {\"name\": \"Martin\", \"age\": 16, \"budget\": 1600 }\n",
    "]))"
   ]
  },
  {
   "cell_type": "markdown",
   "id": "b29418c1",
   "metadata": {},
   "source": [
    "### 3.\n",
    "Create a function that takes a string and returns a string with its letters in alphabetical order.\n",
    "\n",
    "**Examples:**\n",
    "    \n",
    "alphabet_soup(&quot;hello&quot;) ➞ &quot;ehllo&quot;<br>\n",
    "alphabet_soup(&quot;edabit&quot;) ➞ &quot;abdeit&quot;<br>\n",
    "alphabet_soup(&quot;hacker&quot;) ➞ &quot;acehkr&quot;<br>\n",
    "alphabet_soup(&quot;geek&quot;) ➞ &quot;eegk&quot;<br>\n",
    "alphabet_soup(&quot;javascript&quot;) ➞ &quot;aacijprstv&quot;<br>"
   ]
  },
  {
   "cell_type": "code",
   "execution_count": 6,
   "id": "b74f1d84",
   "metadata": {},
   "outputs": [],
   "source": [
    "def alphabet_soup(string: str):\n",
    "    try:\n",
    "        chars = [i for i in string]\n",
    "        chars.sort()\n",
    "        return \"\".join(chars)\n",
    "        ...\n",
    "    except Exception as e:\n",
    "        lg.exception(e)"
   ]
  },
  {
   "cell_type": "code",
   "execution_count": 7,
   "id": "fd98dc0f",
   "metadata": {},
   "outputs": [
    {
     "name": "stdout",
     "output_type": "stream",
     "text": [
      "ehllo\n",
      "abdeit\n",
      "acehkr\n",
      "eegk\n",
      "aacijprstv\n"
     ]
    }
   ],
   "source": [
    "## Examples:\n",
    "\n",
    "print(alphabet_soup(\"hello\"))\n",
    "print(alphabet_soup(\"edabit\"))\n",
    "print(alphabet_soup(\"hacker\"))\n",
    "print(alphabet_soup(\"geek\"))\n",
    "print(alphabet_soup(\"javascript\"))"
   ]
  },
  {
   "cell_type": "markdown",
   "id": "e19c96ae",
   "metadata": {},
   "source": [
    "### 4.\n",
    "Suppose that you invest $10,000 for 10 years at an interest rate of 6% compounded monthly.\n",
    "What will be the value of your investment at the end of the 10 year period?\n",
    "\n",
    "Create a function that accepts the principal p, the term in years t, the interest rate r, and the\n",
    "number of compounding periods per year n. The function returns the value at the end of term\n",
    "rounded to the nearest cent.\n",
    "\n",
    "For the example above:\n",
    "compound_interest(10000, 10, 0.06, 12) ➞ 18193.97\n",
    "\n",
    "Note that the interest rate is given as a decimal and n=12 because with monthly compounding\n",
    "there are 12 periods per year. Compounding can also be done annually, quarterly, weekly, or\n",
    "daily.\n",
    "\n",
    "**Examples:**\n",
    "    \n",
    "compound_interest(100, 1, 0.05, 1) ➞ 105.0<br>\n",
    "compound_interest(3500, 15, 0.1, 4) ➞ 15399.26<br>\n",
    "compound_interest(100000, 20, 0.15, 365) ➞ 2007316.26<br>"
   ]
  },
  {
   "cell_type": "code",
   "execution_count": 8,
   "id": "956fe4b4",
   "metadata": {},
   "outputs": [],
   "source": [
    "def compound_interest(P: int, T: int, r: float, n: int) -> float:\n",
    "    try:\n",
    "        amount = P*(1 + (r/n))**(n*T)\n",
    "        return round(amount, 2)\n",
    "        ...\n",
    "    except Exception as e:\n",
    "        lg.exception(e)"
   ]
  },
  {
   "cell_type": "code",
   "execution_count": 9,
   "id": "d2063ae0",
   "metadata": {},
   "outputs": [
    {
     "name": "stdout",
     "output_type": "stream",
     "text": [
      "105.0\n",
      "15399.26\n",
      "2007316.26\n"
     ]
    }
   ],
   "source": [
    "## Examples\n",
    "\n",
    "print(compound_interest(100, 1, 0.05, 1))\n",
    "print(compound_interest(3500, 15, 0.1, 4))\n",
    "print(compound_interest(100000, 20, 0.15, 365))"
   ]
  },
  {
   "cell_type": "markdown",
   "id": "fa1a7a7a",
   "metadata": {},
   "source": [
    "### 5.\n",
    "Write a function that takes a list of elements and returns only the integers.\n",
    "\n",
    "**Examples:**\n",
    "    \n",
    "return_only_integer([9, 2, &quot;space&quot;, &quot;car&quot;, &quot;lion&quot;, 16]) ➞ [9, 2, 16]<br>\n",
    "return_only_integer([&quot;hello&quot;, 81, &quot;basketball&quot;, 123, &quot;fox&quot;]) ➞ [81, 123]<br>\n",
    "return_only_integer([10, &quot;121&quot;, 56, 20, &quot;car&quot;, 3, &quot;lion&quot;]) ➞ [10, 56, 20,\n",
    "3]<br>\n",
    "return_only_integer([&quot;String&quot;, True, 3.3, 1]) ➞ [1]<br>"
   ]
  },
  {
   "cell_type": "code",
   "execution_count": 10,
   "id": "6a9c4255",
   "metadata": {},
   "outputs": [],
   "source": [
    "def return_only_integers(lst: list) -> List:\n",
    "    try:\n",
    "        res = []\n",
    "        [res.append(i) for i in lst if type(i)==int]\n",
    "        return res\n",
    "        ...\n",
    "    except Exception as e:\n",
    "        lg.exception(e)"
   ]
  },
  {
   "cell_type": "code",
   "execution_count": 11,
   "id": "b0a804c6",
   "metadata": {},
   "outputs": [
    {
     "name": "stdout",
     "output_type": "stream",
     "text": [
      "[9, 2, 16]\n",
      "[81, 123]\n",
      "[10, 56, 20, 3]\n",
      "[1]\n"
     ]
    }
   ],
   "source": [
    "## Examples:\n",
    "\n",
    "print(return_only_integers([9, 2, \"space\", \"car\", \"lion\", 16]))\n",
    "print(return_only_integers([\"hello\", 81, \"basketball\", 123, \"fox\"]))\n",
    "print(return_only_integers([10, \"121\", 56, 20, \"car\", 3, \"lion\"]))\n",
    "print(return_only_integers([\"String\", True, 3.3, 1]))"
   ]
  }
 ],
 "metadata": {
  "kernelspec": {
   "display_name": "Python 3 (ipykernel)",
   "language": "python",
   "name": "python3"
  },
  "language_info": {
   "codemirror_mode": {
    "name": "ipython",
    "version": 3
   },
   "file_extension": ".py",
   "mimetype": "text/x-python",
   "name": "python",
   "nbconvert_exporter": "python",
   "pygments_lexer": "ipython3",
   "version": "3.9.12"
  }
 },
 "nbformat": 4,
 "nbformat_minor": 5
}
