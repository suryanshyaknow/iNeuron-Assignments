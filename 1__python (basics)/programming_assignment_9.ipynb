{
 "cells": [
  {
   "cell_type": "markdown",
   "id": "ef1bc91c",
   "metadata": {},
   "source": [
    "### 1. Write a Python program to check if the given number is a Disarium Number."
   ]
  },
  {
   "cell_type": "markdown",
   "id": "fc198e6c",
   "metadata": {},
   "source": [
    "A number is called `Disarium` if sum of its digits powered with their respective positions is equal to the number itself."
   ]
  },
  {
   "cell_type": "code",
   "execution_count": 1,
   "id": "7e312747",
   "metadata": {},
   "outputs": [],
   "source": [
    "def is_disarium(n):\n",
    "    \"\"\"\n",
    "    Determines whether the given number is Disarium or not. \n",
    "    Returns True if it is.\n",
    "    \"\"\"\n",
    "    try:\n",
    "        num_str = str(n)\n",
    "        sum_of_powered_digits = 0\n",
    "\n",
    "        for i, digit in enumerate(num_str):\n",
    "            digit = int(digit)\n",
    "            sum_of_powered_digits += digit**(i+1)\n",
    "\n",
    "        if sum_of_powered_digits == n:\n",
    "            return True\n",
    "        else:\n",
    "            return False\n",
    "    except Exception as e:\n",
    "        print(e)"
   ]
  },
  {
   "cell_type": "code",
   "execution_count": 2,
   "id": "5af1f87d",
   "metadata": {},
   "outputs": [
    {
     "name": "stdout",
     "output_type": "stream",
     "text": [
      "True\n",
      "True\n",
      "True\n",
      "False\n",
      "False\n"
     ]
    }
   ],
   "source": [
    "# Examples\n",
    "\n",
    "print(is_disarium(89))\n",
    "print(is_disarium(135))\n",
    "print(is_disarium(518))\n",
    "print(is_disarium(1972))\n",
    "print(is_disarium(1976))"
   ]
  },
  {
   "cell_type": "markdown",
   "id": "de47e9bf",
   "metadata": {},
   "source": [
    "### 2. Write a Python program to print all disarium numbers between 1 to 100."
   ]
  },
  {
   "cell_type": "code",
   "execution_count": 3,
   "id": "83c6b3f4",
   "metadata": {},
   "outputs": [],
   "source": [
    "def print_disarium_within_range(start, end):\n",
    "    \"\"\"Prints all disarium numbers between `start` and `end`.\"\"\"\n",
    "    for i in range(start, end+1):\n",
    "        if is_disarium(i):\n",
    "            print(i)"
   ]
  },
  {
   "cell_type": "code",
   "execution_count": 4,
   "id": "e34eb177",
   "metadata": {},
   "outputs": [
    {
     "name": "stdout",
     "output_type": "stream",
     "text": [
      "1\n",
      "2\n",
      "3\n",
      "4\n",
      "5\n",
      "6\n",
      "7\n",
      "8\n",
      "9\n",
      "89\n"
     ]
    }
   ],
   "source": [
    "## Print all Disarium numbers bwtween 1 to 100\n",
    "\n",
    "print_disarium_within_range(1, 100)"
   ]
  },
  {
   "cell_type": "markdown",
   "id": "21fde0db",
   "metadata": {},
   "source": [
    "### 3. Write a Python program to check if the given number is Happy Number."
   ]
  },
  {
   "cell_type": "markdown",
   "id": "a7da0b3f",
   "metadata": {},
   "source": [
    "A `Happy` is a number which eventually reaches 1 when replaced by the sum of the square of each digit. \n",
    "\n",
    "An `Unhappy` is unhappy because the number that started the sequence will get repeated in periods, and so the process continues in an infinite cycle without ever reaching 1"
   ]
  },
  {
   "cell_type": "code",
   "execution_count": 5,
   "id": "b3045eaf",
   "metadata": {},
   "outputs": [],
   "source": [
    "def get_squared_sum_of_digits(n):\n",
    "    \"\"\"Returns squared sum of digits of the provided number.\"\"\"\n",
    "    try:\n",
    "        squared_sum = 0\n",
    "        while(n):  # or n != False, i.e. supposedly zero \n",
    "            squared_sum += (n%10)**2\n",
    "            n = int(n/10)\n",
    "        return squared_sum\n",
    "    except Exception as e:\n",
    "        print(e)\n",
    "\n",
    "def is_happy(n):\n",
    "    \"\"\"Determines whether the given number is `happy` or not. Returns True if it is.\"\"\"\n",
    "    try:\n",
    "        squared_sums = set()\n",
    "\n",
    "        while (n != 1):\n",
    "            n = get_squared_sum_of_digits(n)\n",
    "            # break if current squared sum is already there in squared_sums\n",
    "            if n in squared_sums:\n",
    "                return False\n",
    "            # Add squred sum to squared_sums\n",
    "            squared_sums.add(n)\n",
    "            \n",
    "        return True\n",
    "    except Exception as e:\n",
    "        print(e)"
   ]
  },
  {
   "cell_type": "code",
   "execution_count": 6,
   "id": "2be0693e",
   "metadata": {},
   "outputs": [
    {
     "name": "stdout",
     "output_type": "stream",
     "text": [
      "True\n",
      "True\n",
      "True\n",
      "False\n",
      "False\n"
     ]
    }
   ],
   "source": [
    "## Examples\n",
    "\n",
    "print(is_happy(7))\n",
    "print(is_happy(13))\n",
    "print(is_happy(28))\n",
    "print(is_happy(4))\n",
    "print(is_happy(16))"
   ]
  },
  {
   "cell_type": "markdown",
   "id": "1168c1b6",
   "metadata": {},
   "source": [
    "### 4. Write a Python program to print all happy numbers between 1 and 100."
   ]
  },
  {
   "cell_type": "code",
   "execution_count": 7,
   "id": "525e91f7",
   "metadata": {},
   "outputs": [],
   "source": [
    "def print_happy_within_range(start, end):\n",
    "    \"\"\"Prints all Happy numbers between `start` and `end`.\"\"\"\n",
    "    try:\n",
    "        for i in range(start, end+1):\n",
    "            if is_happy(i):\n",
    "                print(i)\n",
    "    except Exception as e:\n",
    "        print(e)"
   ]
  },
  {
   "cell_type": "code",
   "execution_count": 8,
   "id": "c59cef49",
   "metadata": {},
   "outputs": [
    {
     "name": "stdout",
     "output_type": "stream",
     "text": [
      "1\n",
      "7\n",
      "10\n",
      "13\n",
      "19\n",
      "23\n",
      "28\n",
      "31\n",
      "32\n",
      "44\n",
      "49\n",
      "68\n",
      "70\n",
      "79\n",
      "82\n",
      "86\n",
      "91\n",
      "94\n",
      "97\n",
      "100\n"
     ]
    }
   ],
   "source": [
    "## Print all Happy numbers bwtween 1 to 100\n",
    "\n",
    "print_happy_within_range(1, 100)"
   ]
  },
  {
   "cell_type": "markdown",
   "id": "33d5edac",
   "metadata": {},
   "source": [
    "### 5. Write a Python program to determine whether the given number is a Harshad Number."
   ]
  },
  {
   "cell_type": "markdown",
   "id": "72a5d160",
   "metadata": {},
   "source": [
    "`Harshad` number is an integer number in base 10 which is divisible by the sum of its digits. An n-Harshad number is an integer number divisible by the sum of its digit in base n."
   ]
  },
  {
   "cell_type": "code",
   "execution_count": 9,
   "id": "ab7ef7ee",
   "metadata": {},
   "outputs": [],
   "source": [
    "def get_sum_of_digits(n):\n",
    "    \"\"\"Returns sum of digits of the given number.\"\"\"\n",
    "    sum_of_digs = 0\n",
    "    while(n):\n",
    "        sum_of_digs += n%10\n",
    "        n = int(n/10)\n",
    "    return sum_of_digs\n",
    "        \n",
    "\n",
    "def is_harshad(n):\n",
    "    \"\"\"Determines if the given number in base-10 is Harshad or not. \n",
    "    Returns True is it is.\"\"\"\n",
    "    try:\n",
    "        if (n % get_sum_of_digits(n)) == 0:\n",
    "            return True\n",
    "        return False\n",
    "    except Exception as e:\n",
    "        print(e)"
   ]
  },
  {
   "cell_type": "code",
   "execution_count": 10,
   "id": "76165bee",
   "metadata": {},
   "outputs": [
    {
     "name": "stdout",
     "output_type": "stream",
     "text": [
      "True\n",
      "True\n",
      "True\n",
      "False\n",
      "False\n"
     ]
    }
   ],
   "source": [
    "## Examples\n",
    "\n",
    "print(is_harshad(10))\n",
    "print(is_harshad(12))\n",
    "print(is_harshad(18))\n",
    "print(is_harshad(15))\n",
    "print(is_harshad(11))"
   ]
  },
  {
   "cell_type": "markdown",
   "id": "9393be39",
   "metadata": {},
   "source": [
    "### 6. Write a Python program to print all pronic numbers between 1 and 100."
   ]
  },
  {
   "cell_type": "markdown",
   "id": "60feb3f1",
   "metadata": {},
   "source": [
    "`Pronic` number is a number which is the product of two consecutive integers, that is, a number n is a product of x and (x+1)."
   ]
  },
  {
   "cell_type": "code",
   "execution_count": 11,
   "id": "953d8279",
   "metadata": {},
   "outputs": [],
   "source": [
    "def is_pronic(n):\n",
    "    \"\"\"Determines whether the given number is `Pronic` or not. \n",
    "    Returns True if damn right it is.\"\"\"\n",
    "    try:\n",
    "        for i in range(n):\n",
    "            consec_prod = (i-1)*i\n",
    "            if consec_prod == n:\n",
    "                return True\n",
    "        return False\n",
    "    except Exception as e:\n",
    "        print(e)"
   ]
  },
  {
   "cell_type": "code",
   "execution_count": 12,
   "id": "ec2f3314",
   "metadata": {},
   "outputs": [
    {
     "name": "stdout",
     "output_type": "stream",
     "text": [
      "True\n",
      "True\n",
      "True\n",
      "False\n",
      "False\n"
     ]
    }
   ],
   "source": [
    "## Examples:\n",
    "\n",
    "print(is_pronic(20))\n",
    "print(is_pronic(56))\n",
    "print(is_pronic(72))\n",
    "print(is_pronic(81))\n",
    "print(is_pronic(54))"
   ]
  },
  {
   "cell_type": "code",
   "execution_count": 13,
   "id": "1be0d8d7",
   "metadata": {},
   "outputs": [],
   "source": [
    "def print_pronic_within_range(start, end):\n",
    "    \"\"\"Prints all Pronic numbers between `start` and `end`.\"\"\"\n",
    "    try:\n",
    "        for i in range(start, end+1):\n",
    "            if is_pronic(i):\n",
    "                print(i)\n",
    "    except Exception as e:\n",
    "        print(e)"
   ]
  },
  {
   "cell_type": "code",
   "execution_count": 14,
   "id": "069f7294",
   "metadata": {},
   "outputs": [
    {
     "name": "stdout",
     "output_type": "stream",
     "text": [
      "6\n",
      "12\n",
      "20\n",
      "30\n",
      "42\n",
      "56\n",
      "72\n",
      "90\n"
     ]
    }
   ],
   "source": [
    "## Print all Pronic numbers bwtween 1 to 100\n",
    "\n",
    "print_pronic_within_range(1, 100)"
   ]
  }
 ],
 "metadata": {
  "kernelspec": {
   "display_name": "Python 3 (ipykernel)",
   "language": "python",
   "name": "python3"
  },
  "language_info": {
   "codemirror_mode": {
    "name": "ipython",
    "version": 3
   },
   "file_extension": ".py",
   "mimetype": "text/x-python",
   "name": "python",
   "nbconvert_exporter": "python",
   "pygments_lexer": "ipython3",
   "version": "3.9.12"
  }
 },
 "nbformat": 4,
 "nbformat_minor": 5
}
