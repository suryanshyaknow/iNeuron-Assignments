{
 "cells": [
  {
   "cell_type": "markdown",
   "id": "286fd717",
   "metadata": {},
   "source": [
    "### 1. What are escape characters, and how do you use them?\n",
    "**Ans:** To insert characters that are illegal in a string, we use an **escape character.**\n",
    "\n",
    "**An escape character is a backslash \\ followed by the character we want to insert.**\n",
    "\n",
    "An example of an **illegal character** is a double quote inside a string that is surrounded by double quotes:"
   ]
  },
  {
   "cell_type": "code",
   "execution_count": 3,
   "id": "8f0b509d",
   "metadata": {},
   "outputs": [
    {
     "ename": "SyntaxError",
     "evalue": "invalid syntax (Temp/ipykernel_23004/1606740105.py, line 1)",
     "output_type": "error",
     "traceback": [
      "\u001b[1;36m  File \u001b[1;32m\"C:\\Users\\SURYAN~1\\AppData\\Local\\Temp/ipykernel_23004/1606740105.py\"\u001b[1;36m, line \u001b[1;32m1\u001b[0m\n\u001b[1;33m    t=\"We ain't doing this \"shit\" no more!\"\u001b[0m\n\u001b[1;37m                            ^\u001b[0m\n\u001b[1;31mSyntaxError\u001b[0m\u001b[1;31m:\u001b[0m invalid syntax\n"
     ]
    }
   ],
   "source": [
    "t=\"We ain't doing this \"shit\" no more!\""
   ]
  },
  {
   "cell_type": "markdown",
   "id": "a1933ad1",
   "metadata": {},
   "source": [
    "### To fix this problem, use the escape character:"
   ]
  },
  {
   "cell_type": "code",
   "execution_count": 10,
   "id": "d89cebf2",
   "metadata": {},
   "outputs": [
    {
     "data": {
      "text/plain": [
       "'We ain\\'t doing this \"shit\" no more!'"
      ]
     },
     "execution_count": 10,
     "metadata": {},
     "output_type": "execute_result"
    }
   ],
   "source": [
    "txt=\"We ain't doing this \\\"shit\\\" no more!\"\n",
    "txt"
   ]
  },
  {
   "cell_type": "markdown",
   "id": "f3a8b167",
   "metadata": {},
   "source": [
    "### Other escape charcters used in python:\n",
    "\n",
    "#### \\ '\t&emsp;&emsp;Single Quote\t\n",
    "#### \\ \\\t&emsp;&emsp;Backslash\t\n",
    "#### \\n\t&emsp;&emsp;New Line\t\n",
    "#### \\r\t&emsp;&emsp;Carriage Return\t\n",
    "#### \\t\t&emsp;&emsp;Tab\t\n",
    "#### \\b\t&emsp;&emsp;Backspace\t\n",
    "#### \\f\t&emsp;&emsp;Form Feed\t\n",
    "#### \\ooo&emsp;&emsp;Octal value\t\n",
    "#### \\xhh&emsp;&emsp;Hex value"
   ]
  },
  {
   "cell_type": "markdown",
   "id": "4b9c10bc",
   "metadata": {},
   "source": [
    "### 2. What do the escape characters n and t stand for?\n",
    "**Ans:** n for new line **AND** t for tab."
   ]
  },
  {
   "cell_type": "markdown",
   "id": "1aece7a3",
   "metadata": {},
   "source": [
    "### 3. What is the way to include backslash characters in a string?\n",
    "**Ans:** By using **two backslases** back to back i.e. **\"\\\\\"**."
   ]
  },
  {
   "cell_type": "code",
   "execution_count": 8,
   "id": "e3eca79c",
   "metadata": {},
   "outputs": [
    {
     "name": "stdout",
     "output_type": "stream",
     "text": [
      "..\\..\n"
     ]
    }
   ],
   "source": [
    "print(\"..\\\\..\")"
   ]
  },
  {
   "cell_type": "markdown",
   "id": "fe4d7ad3",
   "metadata": {},
   "source": [
    "### 4. The string &quot;Howl&#39;s Moving Castle&quot; is a correct value. Why isn&#39;t the single quote character in the word Howl&#39;s not escaped a problem?\n",
    "**Ans:** Because the whole string is quoted within double quotes. To expect a problem, we'd have to quote the same string within single quotes."
   ]
  },
  {
   "cell_type": "code",
   "execution_count": 10,
   "id": "acf56abd",
   "metadata": {},
   "outputs": [
    {
     "name": "stdout",
     "output_type": "stream",
     "text": [
      "Howl's Moving Castle\n"
     ]
    }
   ],
   "source": [
    "print(\"Howl's Moving Castle\")"
   ]
  },
  {
   "cell_type": "code",
   "execution_count": 9,
   "id": "42af14e0",
   "metadata": {},
   "outputs": [
    {
     "ename": "SyntaxError",
     "evalue": "invalid syntax (Temp/ipykernel_10712/2399584445.py, line 1)",
     "output_type": "error",
     "traceback": [
      "\u001b[1;36m  File \u001b[1;32m\"C:\\Users\\SURYAN~1\\AppData\\Local\\Temp/ipykernel_10712/2399584445.py\"\u001b[1;36m, line \u001b[1;32m1\u001b[0m\n\u001b[1;33m    print('Howl's Moving Castle')\u001b[0m\n\u001b[1;37m                ^\u001b[0m\n\u001b[1;31mSyntaxError\u001b[0m\u001b[1;31m:\u001b[0m invalid syntax\n"
     ]
    }
   ],
   "source": [
    "print('Howl's Moving Castle')"
   ]
  },
  {
   "cell_type": "markdown",
   "id": "356b714b",
   "metadata": {},
   "source": [
    "### 5. How do you write a string of newlines if you don&#39;t want to use the n character?\n",
    "**Ans:** If using print() to print the string, **an alternative would to be to call print() exactly with no data**, resulting in a blank line because **print() function** have a parameter **end (whose function is to append something after the very last value)** by default set to **\"\\n\"**."
   ]
  },
  {
   "cell_type": "markdown",
   "id": "b8b836db",
   "metadata": {},
   "source": [
    "### 6. What are the values of the given expressions?\n",
    "**&#39;Hello, world!&#39;[1]<br>\n",
    "&#39;Hello, world!&#39;[0:5]<br>\n",
    "&#39;Hello, world!&#39;[:5]<br>\n",
    "&#39;Hello, world!&#39;[3:]**<br>\n",
    "\n",
    "**Ans:** respectively:<br>\n",
    "**'e'**<br>\n",
    "**'Hello'**<br>\n",
    "**'Hello'**<br>\n",
    "**'lo world!'**<br>"
   ]
  },
  {
   "cell_type": "markdown",
   "id": "b0e3760d",
   "metadata": {},
   "source": [
    "### 7. What are the values of the following expressions?\n",
    "**&#39;Hello&#39;.upper()<br>\n",
    "&#39;Hello&#39;.upper().isupper()<br>\n",
    "&#39;Hello&#39;.upper().lower()**<br>\n",
    "\n",
    "**Ans:** respectively:<br>\n",
    "**'HELLO'**<br>\n",
    "**True**<br>\n",
    "**'hello'**<br>"
   ]
  },
  {
   "cell_type": "markdown",
   "id": "6b432ff7",
   "metadata": {},
   "source": [
    "### 8. What are the values of the following expressions?\n",
    "**&#39;Remember, remember, the fifth of July.&#39;.split()**<br>\n",
    "**&#39;-&#39;.join(&#39;There can only one.&#39;.split())**<br>\n",
    "\n",
    "**Ans:** respectively:<br>\n",
    "\n",
    "**['Remember,', 'remember,', 'the', 'fifth', 'of', 'July.']**<br>\n",
    "**'There-can-only-one.'**"
   ]
  },
  {
   "cell_type": "code",
   "execution_count": 15,
   "id": "20d2ecb5",
   "metadata": {},
   "outputs": [
    {
     "data": {
      "text/plain": [
       "'There-can-only-one.'"
      ]
     },
     "execution_count": 15,
     "metadata": {},
     "output_type": "execute_result"
    }
   ],
   "source": [
    "'-'.join('There can only one.'.split())"
   ]
  },
  {
   "cell_type": "markdown",
   "id": "6b47bc15",
   "metadata": {},
   "source": [
    "### 9. What are the methods for right-justifying, left-justifying, and centering a string?\n",
    "**Ans:**\n",
    "\n",
    "### .ljust(): for left-justifying"
   ]
  },
  {
   "cell_type": "code",
   "execution_count": 20,
   "id": "6e97e8ad",
   "metadata": {},
   "outputs": [
    {
     "data": {
      "text/plain": [
       "'banana**************'"
      ]
     },
     "execution_count": 20,
     "metadata": {},
     "output_type": "execute_result"
    }
   ],
   "source": [
    "txt = \"banana\"\n",
    "x = txt.ljust(20, \"*\")\n",
    "x"
   ]
  },
  {
   "cell_type": "markdown",
   "id": "f489081b",
   "metadata": {},
   "source": [
    "### .rjust(): for right-justifying"
   ]
  },
  {
   "cell_type": "code",
   "execution_count": 21,
   "id": "4507675f",
   "metadata": {},
   "outputs": [
    {
     "data": {
      "text/plain": [
       "'**************banana'"
      ]
     },
     "execution_count": 21,
     "metadata": {},
     "output_type": "execute_result"
    }
   ],
   "source": [
    "txt = \"banana\"\n",
    "x = txt.rjust(20, \"*\")\n",
    "x"
   ]
  },
  {
   "cell_type": "markdown",
   "id": "4ff252aa",
   "metadata": {},
   "source": [
    "### .center(): for centering"
   ]
  },
  {
   "cell_type": "code",
   "execution_count": 22,
   "id": "95fd654c",
   "metadata": {},
   "outputs": [
    {
     "data": {
      "text/plain": [
       "'*******banana*******'"
      ]
     },
     "execution_count": 22,
     "metadata": {},
     "output_type": "execute_result"
    }
   ],
   "source": [
    "txt = \"banana\"\n",
    "x = txt.center(20, \"*\")\n",
    "x"
   ]
  },
  {
   "cell_type": "markdown",
   "id": "5b80c91d",
   "metadata": {},
   "source": [
    "### 10. What is the best way to remove whitespace characters from the start or end?\n",
    "**Ans:** **.strip()** and **.replace(\" \", \"\")**"
   ]
  }
 ],
 "metadata": {
  "kernelspec": {
   "display_name": "Python 3 (ipykernel)",
   "language": "python",
   "name": "python3"
  },
  "language_info": {
   "codemirror_mode": {
    "name": "ipython",
    "version": 3
   },
   "file_extension": ".py",
   "mimetype": "text/x-python",
   "name": "python",
   "nbconvert_exporter": "python",
   "pygments_lexer": "ipython3",
   "version": "3.9.7"
  }
 },
 "nbformat": 4,
 "nbformat_minor": 5
}
