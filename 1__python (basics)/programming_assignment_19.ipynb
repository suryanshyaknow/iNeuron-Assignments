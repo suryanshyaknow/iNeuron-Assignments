{
 "cells": [
  {
   "cell_type": "code",
   "execution_count": 1,
   "id": "35262ab1",
   "metadata": {},
   "outputs": [],
   "source": [
    "import logging as lg\n",
    "\n",
    "lg.basicConfig(level=lg.INFO)"
   ]
  },
  {
   "cell_type": "markdown",
   "id": "4d2f4e8a",
   "metadata": {},
   "source": [
    "### 1.\n",
    "Create a function that takes a string and returns a string in which each character is repeated\n",
    "once.\n",
    "\n",
    "**Examples:**\n",
    "\n",
    "double_char(&quot;String&quot;) ➞ &quot;SSttrriinngg&quot;<br>\n",
    "double_char(&quot;Hello World!&quot;) ➞ &quot;HHeelllloo WWoorrlldd!!&quot;<br>\n",
    "double_char(&quot;1234!_ &quot;) ➞ &quot;11223344!!__ &quot;<br>"
   ]
  },
  {
   "cell_type": "code",
   "execution_count": 2,
   "id": "9096536e",
   "metadata": {},
   "outputs": [],
   "source": [
    "def double_char(string: str) -> str:\n",
    "    try:\n",
    "        res = \"\"\n",
    "        for char in string:\n",
    "            res+=char*2\n",
    "        return res\n",
    "        ...\n",
    "    except Exception as e:\n",
    "        lg.exception(e)"
   ]
  },
  {
   "cell_type": "code",
   "execution_count": 3,
   "id": "ccdb58ba",
   "metadata": {},
   "outputs": [
    {
     "name": "stdout",
     "output_type": "stream",
     "text": [
      "SSttrriinngg\n",
      "HHeelllloo  WWoorrlldd!!\n",
      "11223344!!__  \n"
     ]
    }
   ],
   "source": [
    "## Examples\n",
    "\n",
    "print(double_char(\"String\"))\n",
    "print(double_char(\"Hello World!\"))\n",
    "print(double_char(\"1234!_ \"))"
   ]
  },
  {
   "cell_type": "markdown",
   "id": "fa630f39",
   "metadata": {},
   "source": [
    "### 2.\n",
    "Create a function that reverses a boolean value and returns the string &quot;boolean expected&quot;\n",
    "if another variable type is given.\n",
    "\n",
    "**Examples:**\n",
    "\n",
    "reverse(True) ➞ False<br>\n",
    "reverse(False) ➞ True<br>\n",
    "reverse(0) ➞ &quot;boolean expected&quot;<br>\n",
    "reverse(None) ➞ &quot;boolean expected&quot;<br>"
   ]
  },
  {
   "cell_type": "code",
   "execution_count": 4,
   "id": "332e2a6e",
   "metadata": {},
   "outputs": [],
   "source": [
    "def reverse(bool_val: bool):\n",
    "    try:\n",
    "        if type(bool_val) != bool:\n",
    "            return \"boolean expected\"\n",
    "        return not bool_val       \n",
    "        ...\n",
    "    except Exception as e:\n",
    "        lg.exception(e)"
   ]
  },
  {
   "cell_type": "code",
   "execution_count": 5,
   "id": "68b5705c",
   "metadata": {},
   "outputs": [
    {
     "data": {
      "text/plain": [
       "bool"
      ]
     },
     "execution_count": 5,
     "metadata": {},
     "output_type": "execute_result"
    }
   ],
   "source": [
    "type(True)"
   ]
  },
  {
   "cell_type": "code",
   "execution_count": 6,
   "id": "f22fc0d6",
   "metadata": {},
   "outputs": [
    {
     "name": "stdout",
     "output_type": "stream",
     "text": [
      "False\n",
      "True\n",
      "boolean expected\n",
      "boolean expected\n"
     ]
    }
   ],
   "source": [
    "## Examples\n",
    "\n",
    "print(reverse(True))\n",
    "print(reverse(False))\n",
    "print(reverse(0))\n",
    "print(reverse(None))"
   ]
  },
  {
   "cell_type": "markdown",
   "id": "ff9ce2c7",
   "metadata": {},
   "source": [
    "### 3.\n",
    "Create a function that returns the thickness (in meters) of a piece of paper after folding it n\n",
    "number of times. The paper starts off with a thickness of 0.5mm.\n",
    "\n",
    "**Examples:**\n",
    "    \n",
    "num_layers(1) ➞ &quot;0.001m&quot;<br>\n",
    "\\# Paper folded once is 1mm (equal to 0.001m)<br>\n",
    "num_layers(4) ➞ &quot;0.008m&quot;<br>\n",
    "\\# Paper folded 4 times is 8mm (equal to 0.008m)<br>\n",
    "num_layers(21) ➞ &quot;1048.576m&quot;<br>\n",
    "\\# Paper folded 21 times is 1048576mm (equal to 1048.576m)"
   ]
  },
  {
   "cell_type": "code",
   "execution_count": 7,
   "id": "c450bdc1",
   "metadata": {},
   "outputs": [],
   "source": [
    "# 1m = 1000mm\n",
    "\n",
    "def num_layers(n_folds: int) -> str:\n",
    "    try:\n",
    "        thickness = 0.5\n",
    "        return f\"{n_folds*thickness/1000}m\"\n",
    "        ...\n",
    "    except Exception as e:\n",
    "        lg.exception(e)"
   ]
  },
  {
   "cell_type": "code",
   "execution_count": 8,
   "id": "ac9e70fb",
   "metadata": {},
   "outputs": [
    {
     "name": "stdout",
     "output_type": "stream",
     "text": [
      "0.0005m\n",
      "0.002m\n",
      "0.0105m\n"
     ]
    }
   ],
   "source": [
    "## Examples:\n",
    "\n",
    "print(num_layers(1))\n",
    "print(num_layers(4))\n",
    "print(num_layers(21))"
   ]
  },
  {
   "cell_type": "markdown",
   "id": "347774bb",
   "metadata": {},
   "source": [
    "### 4.\n",
    "Create a function that takes a single string as argument and returns an ordered list containing\n",
    "the indices of all capital letters in the string.\n",
    "\n",
    "**Examples:**\n",
    "    \n",
    "index_of_caps(&quot;eDaBiT&quot;) ➞ [1, 3, 5]<br>\n",
    "index_of_caps(&quot;eQuINoX&quot;) ➞ [1, 3, 4, 6]<br>\n",
    "index_of_caps(&quot;determine&quot;) ➞ []<br>\n",
    "index_of_caps(&quot;STRIKE&quot;) ➞ [0, 1, 2, 3, 4, 5]<br>\n",
    "index_of_caps(&quot;sUn&quot;) ➞ [1]<br>"
   ]
  },
  {
   "cell_type": "code",
   "execution_count": 9,
   "id": "7dd33a8d",
   "metadata": {},
   "outputs": [],
   "source": [
    "from typing import List\n",
    "\n",
    "def index_of_caps(string: str) -> List:\n",
    "    try:\n",
    "        idx_caps = []\n",
    "#         for i, j in enumerate(string):\n",
    "#             if j.isupper():\n",
    "#                 idx_caps.append(i)\n",
    "        [idx_caps.append(i) for i, j in enumerate(string) if j.isupper()]\n",
    "        return idx_caps\n",
    "        ...\n",
    "    except Exception as e:\n",
    "        lg.exception(e)"
   ]
  },
  {
   "cell_type": "code",
   "execution_count": 10,
   "id": "9f262ecd",
   "metadata": {},
   "outputs": [
    {
     "name": "stdout",
     "output_type": "stream",
     "text": [
      "[1, 3, 5]\n",
      "[1, 3, 4, 6]\n",
      "[]\n",
      "[0, 1, 2, 3, 4, 5]\n",
      "[1]\n"
     ]
    }
   ],
   "source": [
    "## Examples\n",
    "\n",
    "print(index_of_caps(\"eDaBiT\"))\n",
    "print(index_of_caps(\"eQuINoX\"))\n",
    "print(index_of_caps(\"determine\")) \n",
    "print(index_of_caps(\"STRIKE\"))\n",
    "print(index_of_caps(\"sUn\")) "
   ]
  },
  {
   "cell_type": "markdown",
   "id": "91f6cfae",
   "metadata": {},
   "source": [
    "### 5.\n",
    "Using list comprehensions, create a function that finds all even numbers from 1 to the given\n",
    "number.\n",
    "\n",
    "**Examples:**\n",
    "\n",
    "find_even_nums(8) ➞ [2, 4, 6, 8]<br>\n",
    "find_even_nums(4) ➞ [2, 4]<br>\n",
    "find_even_nums(2) ➞ [2]<br>"
   ]
  },
  {
   "cell_type": "code",
   "execution_count": 11,
   "id": "0a64d8d1",
   "metadata": {},
   "outputs": [],
   "source": [
    "def find_even_numbers(n: int) -> List:\n",
    "    try:\n",
    "        res = []\n",
    "        [res.append(i) for i in range(1, n+1) if i%2==0]\n",
    "        return res\n",
    "        ...\n",
    "    except Exception as e:\n",
    "        lg.exception(e)"
   ]
  },
  {
   "cell_type": "code",
   "execution_count": 12,
   "id": "f5065ea5",
   "metadata": {},
   "outputs": [
    {
     "name": "stdout",
     "output_type": "stream",
     "text": [
      "[2, 4, 6, 8]\n",
      "[2, 4]\n",
      "[2]\n"
     ]
    }
   ],
   "source": [
    "## Examples\n",
    "\n",
    "print(find_even_numbers(8))\n",
    "print(find_even_numbers(4))\n",
    "print(find_even_numbers(2))"
   ]
  }
 ],
 "metadata": {
  "kernelspec": {
   "display_name": "Python 3 (ipykernel)",
   "language": "python",
   "name": "python3"
  },
  "language_info": {
   "codemirror_mode": {
    "name": "ipython",
    "version": 3
   },
   "file_extension": ".py",
   "mimetype": "text/x-python",
   "name": "python",
   "nbconvert_exporter": "python",
   "pygments_lexer": "ipython3",
   "version": "3.9.12"
  }
 },
 "nbformat": 4,
 "nbformat_minor": 5
}
