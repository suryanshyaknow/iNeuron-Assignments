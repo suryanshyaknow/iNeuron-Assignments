{
 "cells": [
  {
   "cell_type": "markdown",
   "id": "3175fccc",
   "metadata": {},
   "source": [
    "## 1. Write a Python program to print \"Hello Python\"?"
   ]
  },
  {
   "cell_type": "code",
   "execution_count": 4,
   "id": "82a383c2",
   "metadata": {},
   "outputs": [
    {
     "name": "stdout",
     "output_type": "stream",
     "text": [
      "Hello Python\n"
     ]
    }
   ],
   "source": [
    "print(\"Hello Python\")"
   ]
  },
  {
   "cell_type": "markdown",
   "id": "118e7be4",
   "metadata": {},
   "source": [
    "## 2. Write a Python program to do arithmetical operations addition and division?"
   ]
  },
  {
   "cell_type": "code",
   "execution_count": 14,
   "id": "30ea07b0",
   "metadata": {},
   "outputs": [
    {
     "name": "stdout",
     "output_type": "stream",
     "text": [
      "Enter the first number: 67.9\n",
      "Enter the second number: 23.6767676767676767676767\n"
     ]
    },
    {
     "data": {
      "text/plain": [
       "91.57676767676769"
      ]
     },
     "execution_count": 14,
     "metadata": {},
     "output_type": "execute_result"
    }
   ],
   "source": [
    "class AddDiv:\n",
    "    def __init__(self):\n",
    "        try:\n",
    "            self.a = float(input(\"Enter the first number: \"))\n",
    "            self.b = float(input(\"Enter the second number: \"))\n",
    "        except Exception as e:\n",
    "            print(e)\n",
    "            \n",
    "    def add(self):\n",
    "        return self.a+self.b\n",
    "    \n",
    "    def div(self):\n",
    "        return self.a/self.b\n",
    "    \n",
    "AddDiv().add()"
   ]
  },
  {
   "cell_type": "code",
   "execution_count": 15,
   "id": "ef2cbeae",
   "metadata": {},
   "outputs": [
    {
     "name": "stdout",
     "output_type": "stream",
     "text": [
      "Enter the first number: 45.4545454545\n",
      "Enter the second number: 3\n"
     ]
    },
    {
     "data": {
      "text/plain": [
       "15.1515151515"
      ]
     },
     "execution_count": 15,
     "metadata": {},
     "output_type": "execute_result"
    }
   ],
   "source": [
    "AddDiv().div()"
   ]
  },
  {
   "cell_type": "markdown",
   "id": "f9cd4bd0",
   "metadata": {},
   "source": [
    "## 3. Write a Python program to find the area of a triangle?"
   ]
  },
  {
   "cell_type": "code",
   "execution_count": 10,
   "id": "c0630a25",
   "metadata": {},
   "outputs": [
    {
     "name": "stdout",
     "output_type": "stream",
     "text": [
      "Enter the base of the Triangle: 89\n",
      "Enter the height of the Triangle: 98\n"
     ]
    },
    {
     "data": {
      "text/plain": [
       "'4361.0 units square'"
      ]
     },
     "execution_count": 10,
     "metadata": {},
     "output_type": "execute_result"
    }
   ],
   "source": [
    "class Tri:\n",
    "    try:\n",
    "        def __init__(self):\n",
    "            self.base = float(input(\"Enter the base of the Triangle: \"))\n",
    "            self.height = float(input(\"Enter the height of the Triangle: \"))\n",
    "        \n",
    "        def area(self):\n",
    "            return f\"{1/2 * self.base * self.height} units square\"\n",
    "        \n",
    "    except Exception as e:\n",
    "        print(e)\n",
    "        \n",
    "Tri().area()"
   ]
  },
  {
   "cell_type": "markdown",
   "id": "6ea37fea",
   "metadata": {},
   "source": [
    "## 4. Write a Python program to swap two variables?"
   ]
  },
  {
   "cell_type": "code",
   "execution_count": 12,
   "id": "5a482e49",
   "metadata": {},
   "outputs": [
    {
     "name": "stdout",
     "output_type": "stream",
     "text": [
      "Enter the value of the first variable: A (first var)\n",
      "the second variable? B (2nd var)\n"
     ]
    }
   ],
   "source": [
    "a = input(\"Enter the value of the first variable: \")\n",
    "b = input(\"the second variable? \")\n",
    "\n",
    "def swap():\n",
    "    global a, b\n",
    "    temp = a #a temporary variable.\n",
    "    a = b\n",
    "    b = temp\n",
    "swap()"
   ]
  },
  {
   "cell_type": "code",
   "execution_count": 13,
   "id": "3bc592d6",
   "metadata": {},
   "outputs": [
    {
     "name": "stdout",
     "output_type": "stream",
     "text": [
      "B (2nd var) A (first var)\n"
     ]
    }
   ],
   "source": [
    "print(a, b) #swapped"
   ]
  },
  {
   "cell_type": "markdown",
   "id": "1757399f",
   "metadata": {},
   "source": [
    "## 5. Write a Python program to generate a random number?"
   ]
  },
  {
   "cell_type": "code",
   "execution_count": 17,
   "id": "b4cada88",
   "metadata": {},
   "outputs": [
    {
     "data": {
      "text/plain": [
       "96"
      ]
     },
     "execution_count": 17,
     "metadata": {},
     "output_type": "execute_result"
    }
   ],
   "source": [
    "import random\n",
    "random.randrange(90, 101, 2)"
   ]
  }
 ],
 "metadata": {
  "kernelspec": {
   "display_name": "Python 3 (ipykernel)",
   "language": "python",
   "name": "python3"
  },
  "language_info": {
   "codemirror_mode": {
    "name": "ipython",
    "version": 3
   },
   "file_extension": ".py",
   "mimetype": "text/x-python",
   "name": "python",
   "nbconvert_exporter": "python",
   "pygments_lexer": "ipython3",
   "version": "3.9.7"
  }
 },
 "nbformat": 4,
 "nbformat_minor": 5
}
