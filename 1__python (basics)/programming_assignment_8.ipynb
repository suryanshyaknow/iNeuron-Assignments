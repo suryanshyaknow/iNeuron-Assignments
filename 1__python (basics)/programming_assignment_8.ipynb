{
 "cells": [
  {
   "cell_type": "markdown",
   "id": "977e0b8d",
   "metadata": {},
   "source": [
    "## 1.\tWrite a Python Program to Add Two Matrices?"
   ]
  },
  {
   "cell_type": "code",
   "execution_count": 4,
   "id": "c92b032b",
   "metadata": {},
   "outputs": [
    {
     "data": {
      "text/plain": [
       "array([[ 1.76405235,  0.40015721,  0.97873798],\n",
       "       [ 2.2408932 ,  1.86755799, -0.97727788],\n",
       "       [ 0.95008842, -0.15135721, -0.10321885]])"
      ]
     },
     "execution_count": 4,
     "metadata": {},
     "output_type": "execute_result"
    }
   ],
   "source": [
    "import numpy as np\n",
    "\n",
    "np.random.seed(0)\n",
    "arr1 = np.random.randn(3,3)\n",
    "arr1"
   ]
  },
  {
   "cell_type": "code",
   "execution_count": 5,
   "id": "37a0ffed",
   "metadata": {},
   "outputs": [
    {
     "data": {
      "text/plain": [
       "array([[ 1.62434536, -0.61175641, -0.52817175],\n",
       "       [-1.07296862,  0.86540763, -2.3015387 ],\n",
       "       [ 1.74481176, -0.7612069 ,  0.3190391 ]])"
      ]
     },
     "execution_count": 5,
     "metadata": {},
     "output_type": "execute_result"
    }
   ],
   "source": [
    "np.random.seed(1)\n",
    "arr2 = np.random.randn(3,3)\n",
    "arr2"
   ]
  },
  {
   "cell_type": "code",
   "execution_count": 7,
   "id": "aa417d5d",
   "metadata": {},
   "outputs": [
    {
     "data": {
      "text/plain": [
       "array([[ 3.38839771, -0.21159921,  0.45056623],\n",
       "       [ 1.16792458,  2.73296562, -3.27881658],\n",
       "       [ 2.69490018, -0.91256411,  0.21582024]])"
      ]
     },
     "execution_count": 7,
     "metadata": {},
     "output_type": "execute_result"
    }
   ],
   "source": [
    "# arr1 + arr2\n",
    "arr1 + arr2"
   ]
  },
  {
   "cell_type": "markdown",
   "id": "3c7da89c",
   "metadata": {},
   "source": [
    "## 2.\tWrite a Python Program to Multiply Two Matrices?"
   ]
  },
  {
   "cell_type": "code",
   "execution_count": 8,
   "id": "5c4a24f3",
   "metadata": {},
   "outputs": [
    {
     "data": {
      "text/plain": [
       "array([[ 4.14378767, -1.47789334, -1.54044424],\n",
       "       [-0.06901259,  0.98922881, -5.79362332],\n",
       "       [ 1.52557578, -0.63363746, -0.18638624]])"
      ]
     },
     "execution_count": 8,
     "metadata": {},
     "output_type": "execute_result"
    }
   ],
   "source": [
    "arr1@arr2 # legitmate multiplication of two arrays"
   ]
  },
  {
   "cell_type": "markdown",
   "id": "778e1ab8",
   "metadata": {},
   "source": [
    "## 3.\tWrite a Python Program to Transpose a Matrix?"
   ]
  },
  {
   "cell_type": "code",
   "execution_count": 9,
   "id": "577042d4",
   "metadata": {},
   "outputs": [
    {
     "data": {
      "text/plain": [
       "array([[ 1.76405235,  2.2408932 ,  0.95008842],\n",
       "       [ 0.40015721,  1.86755799, -0.15135721],\n",
       "       [ 0.97873798, -0.97727788, -0.10321885]])"
      ]
     },
     "execution_count": 9,
     "metadata": {},
     "output_type": "execute_result"
    }
   ],
   "source": [
    "arr1.T"
   ]
  },
  {
   "cell_type": "markdown",
   "id": "181aac5f",
   "metadata": {},
   "source": [
    "**OR:**"
   ]
  },
  {
   "cell_type": "code",
   "execution_count": 11,
   "id": "3e386e22",
   "metadata": {},
   "outputs": [
    {
     "data": {
      "text/plain": [
       "array([[ 1.76405235,  2.2408932 ,  0.95008842],\n",
       "       [ 0.40015721,  1.86755799, -0.15135721],\n",
       "       [ 0.97873798, -0.97727788, -0.10321885]])"
      ]
     },
     "execution_count": 11,
     "metadata": {},
     "output_type": "execute_result"
    }
   ],
   "source": [
    "arr1.transpose()"
   ]
  },
  {
   "cell_type": "markdown",
   "id": "e41c5c17",
   "metadata": {},
   "source": [
    "## 4.\tWrite a Python Program to Sort Words in Alphabetic Order?"
   ]
  },
  {
   "cell_type": "code",
   "execution_count": 35,
   "id": "91a93680",
   "metadata": {},
   "outputs": [
    {
     "data": {
      "text/plain": [
       "['I', 'any', 'do', \"don't\", 'feel', 'gonna', 'good!', \"it's\", 'like']"
      ]
     },
     "execution_count": 35,
     "metadata": {},
     "output_type": "execute_result"
    }
   ],
   "source": [
    "words = \"I don't feel like it's gonna do any good!\"\n",
    "\n",
    "x = words.split()\n",
    "sorted(x)"
   ]
  },
  {
   "cell_type": "markdown",
   "id": "e3b2e280",
   "metadata": {},
   "source": [
    "## 5.\tWrite a Python Program to Remove Punctuation From a String?"
   ]
  },
  {
   "cell_type": "code",
   "execution_count": 77,
   "id": "384866ab",
   "metadata": {},
   "outputs": [
    {
     "data": {
      "text/plain": [
       "\"You mightn't believe in yourself, and I can make you count 50 things by yourself right now, right here, that you are undervaluing yourself. You up for it, eh?\""
      ]
     },
     "execution_count": 77,
     "metadata": {},
     "output_type": "execute_result"
    }
   ],
   "source": [
    "s = \"You mightn't believe in yourself, and I can make you count 50 things by yourself right now, \\\n",
    "right here, that you are undervaluing yourself. You up for it, eh?\"\n",
    "s"
   ]
  },
  {
   "cell_type": "code",
   "execution_count": 78,
   "id": "81453baa",
   "metadata": {},
   "outputs": [
    {
     "data": {
      "text/plain": [
       "\"You mightn't believe in yourself and I can make you count 50 things by yourself right now right here that you are undervaluing yourself You up for it eh\""
      ]
     },
     "execution_count": 78,
     "metadata": {},
     "output_type": "execute_result"
    }
   ],
   "source": [
    "def rem_punc(s):\n",
    "    lst = ['']\n",
    "    \n",
    "    for i in s.split():\n",
    "        if i.isalnum(): # does not contain any punctuations!\n",
    "            lst.append(i)\n",
    "            \n",
    "        else: # does contain punctuations.\n",
    "            if len(i) == 1:\n",
    "                continue \n",
    "            elif i[-1].isalnum(): # to make sure words like don't, won't, etc. won't get missed out! \n",
    "                lst.append(i)\n",
    "            else: # i.e. to say if you use punctuations without giving space after words.\n",
    "                lst.append(i[:-1])\n",
    "                \n",
    "    return lst[0] + ' '.join(lst[1:]) #just to avoid the space before the first letter of the string.\n",
    "\n",
    "rem_punc(s)"
   ]
  }
 ],
 "metadata": {
  "kernelspec": {
   "display_name": "Python 3 (ipykernel)",
   "language": "python",
   "name": "python3"
  },
  "language_info": {
   "codemirror_mode": {
    "name": "ipython",
    "version": 3
   },
   "file_extension": ".py",
   "mimetype": "text/x-python",
   "name": "python",
   "nbconvert_exporter": "python",
   "pygments_lexer": "ipython3",
   "version": "3.9.7"
  }
 },
 "nbformat": 4,
 "nbformat_minor": 5
}
