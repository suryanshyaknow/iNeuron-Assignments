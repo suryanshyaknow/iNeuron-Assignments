{
 "cells": [
  {
   "cell_type": "code",
   "execution_count": 1,
   "id": "5026b3df",
   "metadata": {},
   "outputs": [],
   "source": [
    "import logging as lg\n",
    "\n",
    "lg.basicConfig(level=lg.INFO)"
   ]
  },
  {
   "cell_type": "markdown",
   "id": "77ce6b03",
   "metadata": {},
   "source": [
    "### 1.\n",
    "Create a function that takes three arguments a, b, c and returns the sum of the\n",
    "numbers that are evenly divided by c from the range a, b inclusive.\n",
    "\n",
    "\n",
    "**Examples:**\n",
    "\n",
    "**evenly_divisible(1, 10, 20) ➞ 0**<br>\n",
    "No number between 1 and 10 can be evenly divided by 20.<br>\n",
    "**evenly_divisible(1, 10, 2) ➞ 30**<br>\n",
    "2 + 4 + 6 + 8 + 10 = 30<br>\n",
    "**evenly_divisible(1, 10, 3) ➞ 18**<br>\n",
    "3 + 6 + 9 = 18<br>"
   ]
  },
  {
   "cell_type": "code",
   "execution_count": 2,
   "id": "0308e408",
   "metadata": {},
   "outputs": [],
   "source": [
    "def evenly_divisible(a, b, c):\n",
    "    try:\n",
    "        evenly_divi = []\n",
    "        [evenly_divi.append(i) for i in range(a, b+1) if i%c==0]\n",
    "        return sum(evenly_divi)\n",
    "        ...\n",
    "    except Exception as e:\n",
    "        lg.exception(e)"
   ]
  },
  {
   "cell_type": "code",
   "execution_count": 3,
   "id": "5a5b3a3b",
   "metadata": {},
   "outputs": [
    {
     "name": "stdout",
     "output_type": "stream",
     "text": [
      "0\n",
      "30\n",
      "18\n"
     ]
    }
   ],
   "source": [
    "## Examples\n",
    "\n",
    "print(evenly_divisible(1, 10, 20))\n",
    "print(evenly_divisible(1, 10, 2))\n",
    "print(evenly_divisible(1, 10, 3))"
   ]
  },
  {
   "cell_type": "markdown",
   "id": "be3c9e2a",
   "metadata": {},
   "source": [
    "### 2.\n",
    "Create a function that returns True if a given inequality expression is correct and\n",
    "False otherwise.\n",
    "\n",
    "**Examples:**\n",
    "\n",
    "correct_signs(&quot;3 &lt; 7 &lt; 11&quot;) ➞ True<br>\n",
    "correct_signs(&quot;13 &gt; 44 &gt; 33 &gt; 1&quot;) ➞ False<br>\n",
    "correct_signs(&quot;1 &lt; 2 &lt; 6 &lt; 9 &gt; 3&quot;) ➞ True<br>"
   ]
  },
  {
   "cell_type": "code",
   "execution_count": 4,
   "id": "ce10e4f1",
   "metadata": {},
   "outputs": [],
   "source": [
    "def correct_signs(expression: str) -> bool:\n",
    "    try:\n",
    "        greater_than = \">\"\n",
    "        lower_than = \"<\"\n",
    "        digits = expression[0::4]\n",
    "#         print(digits)\n",
    "        signs = expression[2::4]\n",
    "#         print(signs)\n",
    "        for i in range(1, len(digits)):  # starting from the second digit to have leverage of accessing first two simult\n",
    "            if signs[i-1] == greater_than:\n",
    "#                 print(\"sign = >\")\n",
    "#                 print(f\"{digits[i-1]}>{digits[i]}\")\n",
    "                if digits[i-1] > digits[i]:\n",
    "                    pass\n",
    "                else:\n",
    "                    return False\n",
    "            else:\n",
    "#                 print(\"sign = <\")  \n",
    "#                 print(f\"{digits[i-1]}<{digits[i]}\")\n",
    "                if digits[i-1] < digits[i]:\n",
    "                    pass\n",
    "                else:\n",
    "                    return False\n",
    "        return True\n",
    "        ...\n",
    "    except Exception as e:\n",
    "        lg.exception(e)"
   ]
  },
  {
   "cell_type": "code",
   "execution_count": 5,
   "id": "065ab06a",
   "metadata": {},
   "outputs": [
    {
     "name": "stdout",
     "output_type": "stream",
     "text": [
      "False\n",
      "False\n",
      "True\n"
     ]
    }
   ],
   "source": [
    "## Examples:\n",
    "\n",
    "print(correct_signs(\"3 < 7 < 1\"))\n",
    "print(correct_signs(\"3 > 4 > 3 > 1\"))\n",
    "print(correct_signs(\"1 < 2 < 6 < 9 > 3\"))"
   ]
  },
  {
   "cell_type": "markdown",
   "id": "31088e7f",
   "metadata": {},
   "source": [
    "### => This logic is correct but would only work if all numbers in the given expression are single-digited."
   ]
  },
  {
   "cell_type": "code",
   "execution_count": 6,
   "id": "b03971e8",
   "metadata": {},
   "outputs": [],
   "source": [
    "def correct_signs(expression: str) -> bool:\n",
    "    try:\n",
    "        exp = eval(expression)\n",
    "        if exp:\n",
    "            return True\n",
    "        else:\n",
    "            return False\n",
    "        ...\n",
    "    except Exception as e:\n",
    "        lg.exception(e)"
   ]
  },
  {
   "cell_type": "code",
   "execution_count": 7,
   "id": "dfce29fb",
   "metadata": {},
   "outputs": [
    {
     "name": "stdout",
     "output_type": "stream",
     "text": [
      "True\n",
      "False\n",
      "True\n"
     ]
    }
   ],
   "source": [
    "## Examples:\n",
    "\n",
    "print(correct_signs(\"3 < 7 < 11\"))\n",
    "print(correct_signs(\"13 > 44 > 33 > 1\"))\n",
    "print(correct_signs(\"1 < 2 < 6 < 9 > 3\"))"
   ]
  },
  {
   "cell_type": "markdown",
   "id": "20d58f30",
   "metadata": {},
   "source": [
    "### 3.\n",
    "Create a function that replaces all the vowels in a string with a specified character.\n",
    "\n",
    "**Examples:**\n",
    "\n",
    "replace_vowels(&quot;the aardvark&quot;, &quot;#&quot;) ➞ &quot;th# ##rdv#rk&quot;<br>\n",
    "replace_vowels(&quot;minnie mouse&quot;, &quot;?&quot;) ➞ &quot;m?nn?? m??s?&quot;<br>\n",
    "replace_vowels(&quot;shakespeare&quot;, &quot;\\*&quot;) ➞ &quot;sh\\*k\\*sp\\*\\*r*&quot;<br>"
   ]
  },
  {
   "cell_type": "code",
   "execution_count": 8,
   "id": "04ea9f72",
   "metadata": {},
   "outputs": [],
   "source": [
    "def replace_vowels(string: str, char: str) -> str:\n",
    "    try:\n",
    "        vowels = \"aeiou\"\n",
    "        res = \"\"\n",
    "        for i in string:\n",
    "            if i in vowels:\n",
    "                res+=char\n",
    "            else:\n",
    "                res+=i\n",
    "        return res\n",
    "        ...\n",
    "    except Exception as e:\n",
    "        lg.exception(e)"
   ]
  },
  {
   "cell_type": "code",
   "execution_count": 9,
   "id": "8bbc3f09",
   "metadata": {},
   "outputs": [
    {
     "name": "stdout",
     "output_type": "stream",
     "text": [
      "th# ##rdv#rk\n",
      "m?nn?? m??s?\n",
      "sh*k*sp**r*\n"
     ]
    }
   ],
   "source": [
    "print(replace_vowels(\"the aardvark\", \"#\"))\n",
    "print(replace_vowels(\"minnie mouse\", \"?\"))\n",
    "print(replace_vowels(\"shakespeare\", \"*\"))"
   ]
  },
  {
   "cell_type": "markdown",
   "id": "b9b7d5a3",
   "metadata": {},
   "source": [
    "### 4.\n",
    "Write a function that calculates the factorial of a number recursively.\n",
    "\n",
    "**Examples:**\n",
    "\n",
    "factorial(5) ➞ 120<br>\n",
    "factorial(3) ➞ 6<br>\n",
    "factorial(1) ➞ 1<br>\n",
    "factorial(0) ➞ 1<br>"
   ]
  },
  {
   "cell_type": "code",
   "execution_count": 10,
   "id": "38e84255",
   "metadata": {},
   "outputs": [],
   "source": [
    "## factorial(n) = n * factorial(n-1)\n",
    "\n",
    "def get_factorial(n: int) -> int:\n",
    "    try:\n",
    "        if n<=1:\n",
    "            return 1\n",
    "        else:\n",
    "            return n*(get_factorial(n-1))\n",
    "        ...\n",
    "    except Exception as e:\n",
    "        lg.exception(e)"
   ]
  },
  {
   "cell_type": "code",
   "execution_count": 11,
   "id": "1067b258",
   "metadata": {},
   "outputs": [
    {
     "name": "stdout",
     "output_type": "stream",
     "text": [
      "120\n",
      "6\n",
      "1\n",
      "1\n"
     ]
    }
   ],
   "source": [
    "## Examples:\n",
    "\n",
    "print(get_factorial(5))\n",
    "print(get_factorial(3))\n",
    "print(get_factorial(1))\n",
    "print(get_factorial(0))"
   ]
  },
  {
   "cell_type": "markdown",
   "id": "b9e30385",
   "metadata": {},
   "source": [
    "### 5.\n",
    "**Hamming distance** is the number of characters that differ between two strings.\n",
    "\n",
    "**To illustrate:**\n",
    "    \n",
    "String1: &quot;abcbba&quot;<br>\n",
    "String2: &quot;abcbda&quot;<br>\n",
    "    \n",
    "Hamming Distance: 1 - &quot;b&quot; vs. &quot;d&quot; is the only difference.\n",
    "\n",
    "Create a function that computes the hamming distance between two strings.\n",
    "\n",
    "**Examples:**\n",
    "\n",
    "hamming_distance(&quot;abcde&quot;, &quot;bcdef&quot;) ➞ 5<br>\n",
    "hamming_distance(&quot;abcde&quot;, &quot;abcde&quot;) ➞ 0<br>\n",
    "hamming_distance(&quot;strong&quot;, &quot;strung&quot;) ➞ 1<br>"
   ]
  },
  {
   "cell_type": "code",
   "execution_count": 12,
   "id": "c5f28919",
   "metadata": {},
   "outputs": [],
   "source": [
    "def get_hamming_distance(string_1: str, string_2: str) -> int:\n",
    "    try:\n",
    "        if len(string_1) != len(string_2):\n",
    "            return Exception(\"For Hamming distance to be computed, strings must be of equal length!\")\n",
    "        ham = 0\n",
    "        for i,j in enumerate(string_1):\n",
    "            if j == string_2[i]:\n",
    "                pass\n",
    "            else:\n",
    "                ham+=1\n",
    "        return ham\n",
    "        ...\n",
    "    except Exception as e:\n",
    "        lg.exception(e)"
   ]
  },
  {
   "cell_type": "code",
   "execution_count": 13,
   "id": "a101245a",
   "metadata": {},
   "outputs": [
    {
     "name": "stdout",
     "output_type": "stream",
     "text": [
      "5\n",
      "0\n",
      "1\n"
     ]
    }
   ],
   "source": [
    "## Examples:\n",
    "\n",
    "print(get_hamming_distance(\"abcde\", \"bcdef\"))\n",
    "print(get_hamming_distance(\"abcde\", \"abcde\"))\n",
    "print(get_hamming_distance(\"strong\", \"strung\")) "
   ]
  }
 ],
 "metadata": {
  "kernelspec": {
   "display_name": "Python 3 (ipykernel)",
   "language": "python",
   "name": "python3"
  },
  "language_info": {
   "codemirror_mode": {
    "name": "ipython",
    "version": 3
   },
   "file_extension": ".py",
   "mimetype": "text/x-python",
   "name": "python",
   "nbconvert_exporter": "python",
   "pygments_lexer": "ipython3",
   "version": "3.9.12"
  }
 },
 "nbformat": 4,
 "nbformat_minor": 5
}
