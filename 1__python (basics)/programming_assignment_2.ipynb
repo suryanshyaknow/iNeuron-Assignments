{
 "cells": [
  {
   "cell_type": "markdown",
   "id": "ef5bede9",
   "metadata": {},
   "source": [
    "## 1. Write a Python program to convert kilometers to miles?"
   ]
  },
  {
   "cell_type": "code",
   "execution_count": 2,
   "id": "12961b8b",
   "metadata": {},
   "outputs": [
    {
     "name": "stdout",
     "output_type": "stream",
     "text": [
      "Enter the Kilometre value you want to convert into miles: 34\n"
     ]
    },
    {
     "data": {
      "text/plain": [
       "'34.0kms = 21.126614miles'"
      ]
     },
     "execution_count": 2,
     "metadata": {},
     "output_type": "execute_result"
    }
   ],
   "source": [
    "#Since, 1 km = 0.621371 miles\n",
    "x1 = float(input(\"Enter the Kilometre value you want to convert into miles: \"))\n",
    "def kms2miles():\n",
    "    global x1\n",
    "    return f\"{x1}kms = {0.621371 * x1}miles\"\n",
    "kms2miles()"
   ]
  },
  {
   "cell_type": "markdown",
   "id": "dd161078",
   "metadata": {},
   "source": [
    "## 2. Write a Python program to convert Celsius to Fahrenheit?"
   ]
  },
  {
   "cell_type": "code",
   "execution_count": 5,
   "id": "180032e9",
   "metadata": {},
   "outputs": [
    {
     "name": "stdout",
     "output_type": "stream",
     "text": [
      "Enter the value in °C for conversion to °F: 56\n"
     ]
    },
    {
     "data": {
      "text/plain": [
       "'56.0°C = 132.8°F'"
      ]
     },
     "execution_count": 5,
     "metadata": {},
     "output_type": "execute_result"
    }
   ],
   "source": [
    "#Since, we know X°C * 9/5 + 32 = °F\n",
    "x1 = float(input(\"Enter the value in °C for conversion to °F: \"))\n",
    "def C2F():\n",
    "    global x1\n",
    "    return f\"{x1}°C = {x1 * 9/5 + 32}°F\"\n",
    "C2F()"
   ]
  },
  {
   "cell_type": "markdown",
   "id": "13d419ef",
   "metadata": {},
   "source": [
    "## 3. Write a Python program to display calendar?"
   ]
  },
  {
   "cell_type": "code",
   "execution_count": 8,
   "id": "3c8e61ec",
   "metadata": {},
   "outputs": [
    {
     "name": "stdout",
     "output_type": "stream",
     "text": [
      "   November 1999\n",
      "Mo Tu We Th Fr Sa Su\n",
      " 1  2  3  4  5  6  7\n",
      " 8  9 10 11 12 13 14\n",
      "15 16 17 18 19 20 21\n",
      "22 23 24 25 26 27 28\n",
      "29 30\n",
      "\n"
     ]
    }
   ],
   "source": [
    "import calendar\n",
    "\n",
    "yy = 1999\n",
    "mm = 11\n",
    "\n",
    "print(calendar.month(yy, mm))"
   ]
  },
  {
   "cell_type": "code",
   "execution_count": 10,
   "id": "94b17d95",
   "metadata": {},
   "outputs": [
    {
     "name": "stdout",
     "output_type": "stream",
     "text": [
      "                                  2022\n",
      "\n",
      "      January                   February                   March\n",
      "Mo Tu We Th Fr Sa Su      Mo Tu We Th Fr Sa Su      Mo Tu We Th Fr Sa Su\n",
      "                1  2          1  2  3  4  5  6          1  2  3  4  5  6\n",
      " 3  4  5  6  7  8  9       7  8  9 10 11 12 13       7  8  9 10 11 12 13\n",
      "10 11 12 13 14 15 16      14 15 16 17 18 19 20      14 15 16 17 18 19 20\n",
      "17 18 19 20 21 22 23      21 22 23 24 25 26 27      21 22 23 24 25 26 27\n",
      "24 25 26 27 28 29 30      28                        28 29 30 31\n",
      "31\n",
      "\n",
      "       April                      May                       June\n",
      "Mo Tu We Th Fr Sa Su      Mo Tu We Th Fr Sa Su      Mo Tu We Th Fr Sa Su\n",
      "             1  2  3                         1             1  2  3  4  5\n",
      " 4  5  6  7  8  9 10       2  3  4  5  6  7  8       6  7  8  9 10 11 12\n",
      "11 12 13 14 15 16 17       9 10 11 12 13 14 15      13 14 15 16 17 18 19\n",
      "18 19 20 21 22 23 24      16 17 18 19 20 21 22      20 21 22 23 24 25 26\n",
      "25 26 27 28 29 30         23 24 25 26 27 28 29      27 28 29 30\n",
      "                          30 31\n",
      "\n",
      "        July                     August                  September\n",
      "Mo Tu We Th Fr Sa Su      Mo Tu We Th Fr Sa Su      Mo Tu We Th Fr Sa Su\n",
      "             1  2  3       1  2  3  4  5  6  7                1  2  3  4\n",
      " 4  5  6  7  8  9 10       8  9 10 11 12 13 14       5  6  7  8  9 10 11\n",
      "11 12 13 14 15 16 17      15 16 17 18 19 20 21      12 13 14 15 16 17 18\n",
      "18 19 20 21 22 23 24      22 23 24 25 26 27 28      19 20 21 22 23 24 25\n",
      "25 26 27 28 29 30 31      29 30 31                  26 27 28 29 30\n",
      "\n",
      "      October                   November                  December\n",
      "Mo Tu We Th Fr Sa Su      Mo Tu We Th Fr Sa Su      Mo Tu We Th Fr Sa Su\n",
      "                1  2          1  2  3  4  5  6                1  2  3  4\n",
      " 3  4  5  6  7  8  9       7  8  9 10 11 12 13       5  6  7  8  9 10 11\n",
      "10 11 12 13 14 15 16      14 15 16 17 18 19 20      12 13 14 15 16 17 18\n",
      "17 18 19 20 21 22 23      21 22 23 24 25 26 27      19 20 21 22 23 24 25\n",
      "24 25 26 27 28 29 30      28 29 30                  26 27 28 29 30 31\n",
      "31\n",
      "\n"
     ]
    }
   ],
   "source": [
    "yy = 2022\n",
    "print(calendar.calendar(yy))"
   ]
  },
  {
   "cell_type": "markdown",
   "id": "744c2cd7",
   "metadata": {},
   "source": [
    "## 4. Write a Python program to solve quadratic equation?"
   ]
  },
  {
   "cell_type": "code",
   "execution_count": 34,
   "id": "bdb78b15",
   "metadata": {},
   "outputs": [
    {
     "name": "stdout",
     "output_type": "stream",
     "text": [
      "Since the equation is quadratic, the maximum no. of real solutions can be 2. Moreover, the value of the Discriminant will determine whether there's gonna be one or two real solutions.\n",
      "Enter the value of Coefficient of x**2 i.e. a: 1\n",
      "Enter the value of Coefficient of x i.e. b: -6\n",
      "Enter the value of constant c: -9\n",
      "Quad. Equation to be solved: 1.0x**2 + -6.0x + -9.0 = 0\n",
      "Two Real Solutions!\n",
      "x = 7.242640687119285, -1.2426406871192848\n"
     ]
    }
   ],
   "source": [
    "# ax**2 + bx + c = 0 (Quadratic equation form)\n",
    "from math import *\n",
    "\n",
    "def solve_quad():\n",
    "    global a, b, c    \n",
    "    print(f\"Quad. Equation to be solved: {a}x**2 + {b}x + {c} = 0\")\n",
    "    \n",
    "    global D\n",
    "    D = b**2 - 4*a*c\n",
    "        \n",
    "    if D == 0:\n",
    "        print(\"There will be only one value of x!\")\n",
    "        print(f\"x = {-b/(2*a)}\")\n",
    "        \n",
    "    elif D > 0:\n",
    "        print(\"Two Real Solutions!\")\n",
    "        print(f\"x = {(-b + sqrt(D))/(2*a)}, {(-b - sqrt(D))/(2*a)}\")\n",
    "        \n",
    "    else:\n",
    "        print(\"No real solutions.\")\n",
    "        \n",
    "try:\n",
    "    print(\"Since the equation is quadratic, the maximum no. of real solutions can be 2.\",\n",
    "    \"Moreover, the value of the Discriminant will determine whether there's gonna be one or two real solutions.\")\n",
    "    \n",
    "    a = float(input(\"Enter the value of Coefficient of x**2 i.e. a: \"))\n",
    "    b = float(input(\"Enter the value of Coefficient of x i.e. b: \"))\n",
    "    c = float(input(\"Enter the value of constant c: \"))\n",
    "    \n",
    "    solve_quad()\n",
    "    \n",
    "except Exception as e:\n",
    "    print(e)"
   ]
  },
  {
   "cell_type": "markdown",
   "id": "1d388703",
   "metadata": {},
   "source": [
    "## 5. Write a Python program to swap two variables without temp variable?"
   ]
  },
  {
   "cell_type": "code",
   "execution_count": 37,
   "id": "1d18176e",
   "metadata": {},
   "outputs": [
    {
     "name": "stdout",
     "output_type": "stream",
     "text": [
      "a: 89\n",
      "b: 87\n",
      "a after swapping: 87 \n",
      "b after swapping: 89\n"
     ]
    }
   ],
   "source": [
    "a = input(\"a: \")\n",
    "b = input(\"b: \")\n",
    "a, b = b, a\n",
    "print(f\"a after swapping: {a}\", f\"\\nb after swapping: {b}\")"
   ]
  }
 ],
 "metadata": {
  "kernelspec": {
   "display_name": "Python 3 (ipykernel)",
   "language": "python",
   "name": "python3"
  },
  "language_info": {
   "codemirror_mode": {
    "name": "ipython",
    "version": 3
   },
   "file_extension": ".py",
   "mimetype": "text/x-python",
   "name": "python",
   "nbconvert_exporter": "python",
   "pygments_lexer": "ipython3",
   "version": "3.9.7"
  }
 },
 "nbformat": 4,
 "nbformat_minor": 5
}
