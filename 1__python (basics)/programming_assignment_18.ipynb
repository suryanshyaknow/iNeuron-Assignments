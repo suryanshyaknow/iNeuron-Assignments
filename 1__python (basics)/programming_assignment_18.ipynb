{
 "cells": [
  {
   "cell_type": "code",
   "execution_count": 1,
   "id": "74a65c4d",
   "metadata": {},
   "outputs": [],
   "source": [
    "import logging as lg\n",
    "\n",
    "lg.basicConfig(level=lg.INFO)"
   ]
  },
  {
   "cell_type": "markdown",
   "id": "cda2ccb3",
   "metadata": {},
   "source": [
    "### 1.\n",
    "Create a function that takes a list of non-negative integers and strings and return a new list\n",
    "without the strings.\n",
    "\n",
    "**Examples:**\n",
    "\n",
    "filter_list([1, 2, &quot;a&quot;, &quot;b&quot;]) ➞ [1, 2]<br>\n",
    "filter_list([1, &quot;a&quot;, &quot;b&quot;, 0, 15]) ➞ [1, 0, 15]<br>\n",
    "filter_list([1, 2, &quot;aasf&quot;, &quot;1&quot;, &quot;123&quot;, 123]) ➞ [1, 2, 123]<br>"
   ]
  },
  {
   "cell_type": "code",
   "execution_count": 2,
   "id": "8b2ce452",
   "metadata": {},
   "outputs": [],
   "source": [
    "from typing import List\n",
    "\n",
    "def filter_list(li: list ) -> List:\n",
    "    try:\n",
    "        new_list = []\n",
    "        [new_list.append(i) for i in li if type(i) != str]\n",
    "        return new_list\n",
    "        ...\n",
    "    except Exception as e:\n",
    "        lg.exception(e)"
   ]
  },
  {
   "cell_type": "code",
   "execution_count": 3,
   "id": "41d04631",
   "metadata": {},
   "outputs": [
    {
     "name": "stdout",
     "output_type": "stream",
     "text": [
      "[1, 2]\n",
      "[1, 0, 15]\n",
      "[1, 2, 123]\n"
     ]
    }
   ],
   "source": [
    "## Examples\n",
    "\n",
    "print(filter_list([1, 2, \"a\", \"b\"]))\n",
    "print(filter_list([1, \"a\", \"b\", 0, 15]))\n",
    "print(filter_list([1, 2, \"aasf\", \"1\", \"123\", 123]))"
   ]
  },
  {
   "cell_type": "markdown",
   "id": "0150a613",
   "metadata": {},
   "source": [
    "### 2.\n",
    "The &quot;Reverser&quot; takes a string as input and returns that string in reverse order, with the\n",
    "opposite case.\n",
    "\n",
    "**Examples:**\n",
    "    \n",
    "reverse(&quot;Hello World&quot;) ➞ &quot;DLROw OLLEh&quot;<br>\n",
    "reverse(&quot;ReVeRsE&quot;) ➞ &quot;eSrEvEr&quot;<br>\n",
    "reverse(&quot;Radar&quot;) ➞ &quot;RADAr&quot;<br>"
   ]
  },
  {
   "cell_type": "code",
   "execution_count": 4,
   "id": "6ac85665",
   "metadata": {},
   "outputs": [],
   "source": [
    "def reverse(string: str) -> str:\n",
    "    try:\n",
    "        string = string[::-1]\n",
    "        res = \"\"\n",
    "        for i in string:\n",
    "            if i.isalpha():\n",
    "                if i.islower():\n",
    "                    res+=i.upper()\n",
    "                else:\n",
    "                    res+=i.lower()\n",
    "            else:\n",
    "                res+=i\n",
    "        return res\n",
    "        ...\n",
    "    except Exception as e:\n",
    "        lg.exception(e)"
   ]
  },
  {
   "cell_type": "code",
   "execution_count": 5,
   "id": "8bab4d1c",
   "metadata": {},
   "outputs": [
    {
     "name": "stdout",
     "output_type": "stream",
     "text": [
      "DLROw OLLEh\n",
      "eSrEvEr\n",
      "RADAr\n"
     ]
    }
   ],
   "source": [
    "## Examples\n",
    "\n",
    "print(reverse(\"Hello World\"))\n",
    "print(reverse(\"ReVeRsE\"))\n",
    "print(reverse(\"Radar\"))"
   ]
  },
  {
   "cell_type": "markdown",
   "id": "66541510",
   "metadata": {},
   "source": [
    "### 3.\n",
    "You can assign variables from lists like this:\n",
    "    \n",
    "lst = [1, 2, 3, 4, 5, 6]<br>\n",
    "first = lst[0]<br>\n",
    "middle = lst[1:-1]<br>\n",
    "last = lst[-1]<br>\n",
    "print(first) ➞ outputs 1<br>\n",
    "print(middle) ➞ outputs [2, 3, 4, 5]<br>\n",
    "print(last) ➞ outputs 6<br>\n",
    "\n",
    "With Python 3, you can assign variables from lists in a much more succinct way. Create\n",
    "variables first, middle and last from the given list using **destructuring assignment**\n",
    "(check the Resources tab for some examples), where:\n",
    "    \n",
    "first ➞ 1<br>\n",
    "middle ➞ [2, 3, 4, 5]<br>\n",
    "last ➞ 6<br>\n",
    "\n",
    "Your task is to unpack the list writeyourcodehere into three variables, being first,\n",
    "middle, and last, with middle being everything in between the first and last element. Then\n",
    "print all three variables."
   ]
  },
  {
   "cell_type": "code",
   "execution_count": 6,
   "id": "9d84da24",
   "metadata": {},
   "outputs": [],
   "source": [
    "def destructuring_assign(lst: List) -> None:\n",
    "    try:\n",
    "        first, middle, last = lst[0], lst[1:-1], lst[-1]\n",
    "        print(first, middle, last)\n",
    "        ...\n",
    "    except Exception as e:\n",
    "        lg.exception(e)"
   ]
  },
  {
   "cell_type": "code",
   "execution_count": 7,
   "id": "33f892e5",
   "metadata": {},
   "outputs": [
    {
     "name": "stdout",
     "output_type": "stream",
     "text": [
      "1 [2, 3, 4] 5\n"
     ]
    }
   ],
   "source": [
    "## Example\n",
    "\n",
    "destructuring_assign([1, 2, 3, 4, 5])"
   ]
  },
  {
   "cell_type": "markdown",
   "id": "08725c17",
   "metadata": {},
   "source": [
    "### 4.\n",
    "Write a function that calculates the factorial of a number recursively.\n",
    "\n",
    "**Examples:**\n",
    "\n",
    "factorial(5) ➞ 120<br>\n",
    "factorial(3) ➞ 6<br>\n",
    "factorial(1) ➞ 1<br>\n",
    "factorial(0) ➞ 1<br>"
   ]
  },
  {
   "cell_type": "code",
   "execution_count": 8,
   "id": "bd49e5f9",
   "metadata": {},
   "outputs": [],
   "source": [
    "## factorial(n) = n * factorial(n-1)\n",
    "\n",
    "def get_factorial(n: int) -> int:\n",
    "    try:\n",
    "        if n<=1:\n",
    "            return 1\n",
    "        else:\n",
    "            return n*(get_factorial(n-1))\n",
    "        ...\n",
    "    except Exception as e:\n",
    "        lg.exception(e)"
   ]
  },
  {
   "cell_type": "code",
   "execution_count": 9,
   "id": "e2dd9583",
   "metadata": {},
   "outputs": [
    {
     "name": "stdout",
     "output_type": "stream",
     "text": [
      "120\n",
      "6\n",
      "1\n",
      "1\n"
     ]
    }
   ],
   "source": [
    "## Examples:\n",
    "\n",
    "print(get_factorial(5))\n",
    "print(get_factorial(3))\n",
    "print(get_factorial(1))\n",
    "print(get_factorial(0))"
   ]
  },
  {
   "cell_type": "markdown",
   "id": "7a3be9e7",
   "metadata": {},
   "source": [
    "### 5.\n",
    "Write a function that moves all elements of one type to the end of the list.\n",
    "\n",
    "**Examples:**\n",
    "\n",
    "move_to_end([1, 3, 2, 4, 4, 1], 1) ➞ [3, 2, 4, 4, 1, 1]<br>\n",
    "\\# Move all the 1s to the end of the array.<br>\n",
    "move_to_end([7, 8, 9, 1, 2, 3, 4], 9) ➞ [7, 8, 1, 2, 3, 4, 9]<br>\n",
    "move_to_end([&quot;a&quot;, &quot;a&quot;, &quot;a&quot;, &quot;b&quot;], &quot;a&quot;) ➞ [&quot;b&quot;, &quot;a&quot;, &quot;a&quot;, &quot;a&quot;]<br>"
   ]
  },
  {
   "cell_type": "code",
   "execution_count": 10,
   "id": "93a963dd",
   "metadata": {},
   "outputs": [],
   "source": [
    "def move_to_end(lst: list, to_be_moved) -> List:\n",
    "    try:\n",
    "        count = 0\n",
    "        new_l = []\n",
    "        [new_l.append(i) for i in lst if i != to_be_moved]\n",
    "        occurences = len(lst) - len(new_l)\n",
    "        [new_l.append(to_be_moved) for i in range(occurences)]\n",
    "        \n",
    "        return new_l\n",
    "        ...\n",
    "    except Exception as e:\n",
    "        lg.exception(e)"
   ]
  },
  {
   "cell_type": "code",
   "execution_count": 11,
   "id": "b203ffcf",
   "metadata": {},
   "outputs": [
    {
     "name": "stdout",
     "output_type": "stream",
     "text": [
      "[3, 2, 4, 4, 1, 1]\n",
      "[7, 8, 1, 2, 3, 4, 9]\n",
      "['b', 'a', 'a', 'a']\n"
     ]
    }
   ],
   "source": [
    "## Examples\n",
    "\n",
    "print(move_to_end([1, 3, 2, 4, 4, 1], 1))\n",
    "print(move_to_end([7, 8, 9, 1, 2, 3, 4], 9))\n",
    "print(move_to_end([\"a\", \"a\", \"a\", \"b\"], \"a\") )"
   ]
  }
 ],
 "metadata": {
  "kernelspec": {
   "display_name": "Python 3 (ipykernel)",
   "language": "python",
   "name": "python3"
  },
  "language_info": {
   "codemirror_mode": {
    "name": "ipython",
    "version": 3
   },
   "file_extension": ".py",
   "mimetype": "text/x-python",
   "name": "python",
   "nbconvert_exporter": "python",
   "pygments_lexer": "ipython3",
   "version": "3.9.12"
  }
 },
 "nbformat": 4,
 "nbformat_minor": 5
}
