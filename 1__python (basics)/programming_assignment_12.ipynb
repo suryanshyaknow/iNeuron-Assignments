{
 "cells": [
  {
   "cell_type": "markdown",
   "id": "b8067c6a",
   "metadata": {},
   "source": [
    "### 1 .Write a Python program to Extract Unique values dictionary values."
   ]
  },
  {
   "cell_type": "code",
   "execution_count": 1,
   "id": "be41e13d",
   "metadata": {},
   "outputs": [],
   "source": [
    "## Assuming the given dic would only have list as values \n",
    "from typing import Set\n",
    "\n",
    "def extract_unique_dict_values(dic: dict) -> Set:\n",
    "    \"\"\"Extracts and returns a list of unique values of the given dict.\"\"\"\n",
    "    try:\n",
    "        uniques = {i for val in dic.values() for i in val}\n",
    "        return uniques            \n",
    "        ...\n",
    "    except Exception as e:\n",
    "        raise e"
   ]
  },
  {
   "cell_type": "code",
   "execution_count": 2,
   "id": "9a365de3",
   "metadata": {},
   "outputs": [
    {
     "data": {
      "text/plain": [
       "{1, 2, 5, 6, 7, 8, 10, 11, 12}"
      ]
     },
     "execution_count": 2,
     "metadata": {},
     "output_type": "execute_result"
    }
   ],
   "source": [
    "## Example\n",
    "\n",
    "extract_unique_dict_values(dic={\n",
    "    'what': [5, 6, 7, 8], \n",
    "    'do': [10, 11, 7, 5],\n",
    "    'you': [6, 12, 10, 8],\n",
    "    'truly desire?!': [1, 2, 5]})"
   ]
  },
  {
   "cell_type": "markdown",
   "id": "82a8cce7",
   "metadata": {},
   "source": [
    "### 2. Write a Python program to find the sum of all items in a dictionary."
   ]
  },
  {
   "cell_type": "code",
   "execution_count": 3,
   "id": "06b94519",
   "metadata": {},
   "outputs": [],
   "source": [
    "## Assuming the given dic would only have numerical values \n",
    "from typing import Set\n",
    "\n",
    "def sum_all_dic_items(dic: dict) -> Set:\n",
    "    \"\"\"Returns the sum values of the given dict.\"\"\"\n",
    "    try:\n",
    "        return sum(dic.values())     \n",
    "        ...\n",
    "    except Exception as e:\n",
    "        raise e"
   ]
  },
  {
   "cell_type": "code",
   "execution_count": 4,
   "id": "b5cdc719",
   "metadata": {},
   "outputs": [
    {
     "data": {
      "text/plain": [
       "9973"
      ]
     },
     "execution_count": 4,
     "metadata": {},
     "output_type": "execute_result"
    }
   ],
   "source": [
    "## Example\n",
    "\n",
    "sum_all_dic_items(dic={\n",
    "    3: 1999,\n",
    "    1: 1972,\n",
    "    2: 1976,\n",
    "    4: 2014,\n",
    "    5: 2012\n",
    "})"
   ]
  },
  {
   "cell_type": "markdown",
   "id": "05027272",
   "metadata": {},
   "source": [
    "### 3. Write a Python program to Merging two Dictionaries."
   ]
  },
  {
   "cell_type": "code",
   "execution_count": 5,
   "id": "200b4d23",
   "metadata": {},
   "outputs": [],
   "source": [
    "def merge_two_dict(dict_1: dict, dict_2: dict) -> dict:\n",
    "    \"\"\"Merges the given two dictionaries and returns the resultant one.\"\"\"\n",
    "    try:\n",
    "        for key in dict_2:\n",
    "            dict_1[key] = dict_2[key]\n",
    "        return dict_1\n",
    "        ...\n",
    "    except Exception as e:\n",
    "        print(e)"
   ]
  },
  {
   "cell_type": "code",
   "execution_count": 6,
   "id": "c27130bb",
   "metadata": {},
   "outputs": [
    {
     "data": {
      "text/plain": [
       "{'Name': 'Lucifer Morningstar', 'Job': 'LAPD Consultant', 'Age': inf}"
      ]
     },
     "execution_count": 6,
     "metadata": {},
     "output_type": "execute_result"
    }
   ],
   "source": [
    "## Example\n",
    "import numpy as np\n",
    "\n",
    "merge_two_dict(\n",
    "    dict_1={\"Name\": \"Lucifer Morningstar\"}, \n",
    "    dict_2={\"Job\": \"LAPD Consultant\", \"Age\": np.inf}\n",
    ")"
   ]
  },
  {
   "cell_type": "markdown",
   "id": "eb5b9efb",
   "metadata": {},
   "source": [
    "### 4. Write a Python program to convert key-values list to flat dictionary."
   ]
  },
  {
   "cell_type": "code",
   "execution_count": 7,
   "id": "705e6d56",
   "metadata": {},
   "outputs": [],
   "source": [
    "from typing import List\n",
    "\n",
    "def list_to_dict(lst: List) -> dict:\n",
    "    \"\"\"Converts the given key-values list to flat dictionary and returns it.\"\"\"\n",
    "    try:\n",
    "        dic = {}\n",
    "        for ele in lst:\n",
    "            if (type(ele) != tuple) | (type(ele) != list):  \n",
    "                dic[ele[0]] = ele[1]\n",
    "            else:  # make sure the given list is of correct format\n",
    "                raise Exception(\"Given list is not of expected key-values format!\")\n",
    "        return dic\n",
    "        ...\n",
    "    except Exception as e:\n",
    "        print(e)"
   ]
  },
  {
   "cell_type": "code",
   "execution_count": 8,
   "id": "7b445651",
   "metadata": {},
   "outputs": [
    {
     "name": "stdout",
     "output_type": "stream",
     "text": [
      "{'Name': 'Lucy', 'Surname': 'Morningstar', 'Flight': \"A li'l respect please, I do have my own wings!\"}\n",
      "---------------------------------------------------------------------------------------------\n",
      "{'season 1': 'Major pulling strings', 'season 2': \"Zeke's death date\", 'season 3': 'Returning tailfin to its supposed place'}\n"
     ]
    }
   ],
   "source": [
    "## Examples\n",
    "\n",
    "print(list_to_dict(lst=[(\"Name\", \"Lucy\"), (\"Surname\", \"Morningstar\"), (\"Flight\", \"A li'l respect please, I do have my own wings!\")]))\n",
    "print(\"---------------------------------------------------------------------------------------------\")\n",
    "print(list_to_dict(lst=[[\"season 1\", \"Major pulling strings\"], \n",
    "                        [\"season 2\", \"Zeke's death date\"], \n",
    "                        [\"season 3\", \"Returning tailfin to its supposed place\"]\n",
    "                       ]))"
   ]
  },
  {
   "cell_type": "markdown",
   "id": "6090b5d8",
   "metadata": {},
   "source": [
    "### 5. Write a Python program for insertion at the beginning in OrderedDict."
   ]
  },
  {
   "cell_type": "code",
   "execution_count": 9,
   "id": "0c4b2fcf",
   "metadata": {},
   "outputs": [],
   "source": [
    "from collections import OrderedDict\n",
    "\n",
    "def insert_at_start(od: OrderedDict, insertable) -> OrderedDict:\n",
    "    \"\"\"Inserts the insertable at the beginning of the given Ordered Dict.\"\"\"\n",
    "    try:\n",
    "        if (type(insertable)==dict) or (type(insertable)==dict):\n",
    "            if len(insertable) != 1:\n",
    "                raise Exception(\"Error!\\n`insertable` must contain exactly one key and value pair!\")        \n",
    "        \n",
    "        else:\n",
    "            raise Exception(\"Error!\\n`insertable` should either be a dict or ordered dict containing exactly one key and value pair!\")\n",
    "        \n",
    "        \n",
    "        od.update(insertable)\n",
    "        od.move_to_end(list(insertable.keys())[0], last=False)\n",
    "        \n",
    "        return od\n",
    "        ...\n",
    "    except Exception as e:\n",
    "        print(e)"
   ]
  },
  {
   "cell_type": "code",
   "execution_count": 10,
   "id": "399cbe51",
   "metadata": {},
   "outputs": [
    {
     "data": {
      "text/plain": [
       "OrderedDict([('Name', 'Lucy'),\n",
       "             ('Surname', 'Morningstar'),\n",
       "             ('Flight', \"A li'l respect please, I do have my own wings!\")])"
      ]
     },
     "execution_count": 10,
     "metadata": {},
     "output_type": "execute_result"
    }
   ],
   "source": [
    "## Creating an Ordered Dict\n",
    "\n",
    "dic = {'Name': 'Lucy', \n",
    "       'Surname': 'Morningstar', \n",
    "       'Flight': \"A li'l respect please, I do have my own wings!\"}\n",
    "od = OrderedDict(dic)\n",
    "od"
   ]
  },
  {
   "cell_type": "code",
   "execution_count": 11,
   "id": "60a1d3d8",
   "metadata": {},
   "outputs": [
    {
     "data": {
      "text/plain": [
       "OrderedDict([('fav girl', 'Candy Morningstar'),\n",
       "             ('Name', 'Lucy'),\n",
       "             ('Surname', 'Morningstar'),\n",
       "             ('Flight', \"A li'l respect please, I do have my own wings!\")])"
      ]
     },
     "execution_count": 11,
     "metadata": {},
     "output_type": "execute_result"
    }
   ],
   "source": [
    "## Example\n",
    "\n",
    "insert_at_start(od=od, insertable={\"fav girl\": \"Candy Morningstar\"})"
   ]
  },
  {
   "cell_type": "markdown",
   "id": "d2bf6386",
   "metadata": {},
   "source": [
    "### 6. Write a Python program to check order of character in string using OrderedDict()."
   ]
  },
  {
   "cell_type": "markdown",
   "id": "53ce2fa6",
   "metadata": {},
   "source": [
    "Given an input string and a pattern, check if characters in the input string follows the same order as determined by characters present in the pattern. Assume there won’t be any duplicate characters in the pattern."
   ]
  },
  {
   "cell_type": "code",
   "execution_count": 12,
   "id": "3008bb79",
   "metadata": {},
   "outputs": [],
   "source": [
    "def check_order(string: str, pattern: str) -> bool:\n",
    "    \"\"\"Matches the order of characters in the given string to the pattern given \n",
    "    and returns true there's a match in the order.\"\"\"\n",
    "    try:\n",
    "        # create an ordered dic from the string's chars\n",
    "        od = OrderedDict().fromkeys(string)\n",
    "        idx = 0\n",
    "        for i in od:\n",
    "            if i == pattern[idx]:\n",
    "                idx+=1\n",
    "            # and now, anywhere within the length of string, if there are as many char \n",
    "            # in the pattern string, then there's match in order.\n",
    "            if idx == len(pattern):\n",
    "                return True\n",
    "        return False        \n",
    "        ...\n",
    "    except Exception as e:\n",
    "        print(e)"
   ]
  },
  {
   "cell_type": "code",
   "execution_count": 13,
   "id": "158fc2b6",
   "metadata": {},
   "outputs": [
    {
     "name": "stdout",
     "output_type": "stream",
     "text": [
      "True\n",
      "False\n"
     ]
    }
   ],
   "source": [
    "## Eaxmples\n",
    "\n",
    "print(check_order(\"lucifer\", \"ue\"))\n",
    "print(check_order(\"morningstar\", \"tr\"))"
   ]
  },
  {
   "cell_type": "code",
   "execution_count": 14,
   "id": "01c76f21",
   "metadata": {},
   "outputs": [
    {
     "data": {
      "text/plain": [
       "OrderedDict([('l', None),\n",
       "             ('u', None),\n",
       "             ('c', None),\n",
       "             ('i', None),\n",
       "             ('f', None),\n",
       "             ('e', None),\n",
       "             ('r', None)])"
      ]
     },
     "execution_count": 14,
     "metadata": {},
     "output_type": "execute_result"
    }
   ],
   "source": [
    "string = \"lucifer\"\n",
    "dic = OrderedDict().fromkeys(string)\n",
    "dic"
   ]
  },
  {
   "cell_type": "code",
   "execution_count": 15,
   "id": "6958ad47",
   "metadata": {},
   "outputs": [
    {
     "name": "stdout",
     "output_type": "stream",
     "text": [
      "l None\n",
      "u None\n",
      "c None\n",
      "i None\n",
      "f None\n",
      "e None\n",
      "r None\n"
     ]
    }
   ],
   "source": [
    "for i,j in dic.items():\n",
    "    print(i, j)"
   ]
  },
  {
   "cell_type": "markdown",
   "id": "fd03d069",
   "metadata": {},
   "source": [
    "### 7. Write a Python program to sort Python Dictionaries by Key or Value."
   ]
  },
  {
   "cell_type": "code",
   "execution_count": 16,
   "id": "24ab6ecf",
   "metadata": {},
   "outputs": [],
   "source": [
    "def sort_dict_by_items(dic: dict, sort_by_keys: bool) -> OrderedDict:\n",
    "    \"\"\"Based on parameter passed, sorts the given dict by keys or values.\"\"\"\n",
    "    try:    \n",
    "        od = OrderedDict()\n",
    "        \n",
    "        if sort_by_keys:\n",
    "            sorted_keys = list(dic.keys())\n",
    "            sorted_keys.sort()\n",
    "            for key in sorted_keys:\n",
    "                od[key] = dic[key]\n",
    "                \n",
    "        else:  # sort by values\n",
    "            sorted_values = list(dic.values())\n",
    "            sorted_values.sort()\n",
    "            for val in sorted_values:\n",
    "                for key in dic:\n",
    "                    if dic[key] == val:\n",
    "                        od[key] = val\n",
    "        return od \n",
    "        \n",
    "    except Exception as e:\n",
    "        print(e)"
   ]
  },
  {
   "cell_type": "code",
   "execution_count": 17,
   "id": "13c2112c",
   "metadata": {},
   "outputs": [
    {
     "data": {
      "text/plain": [
       "OrderedDict([('Flight', \"A li'l respect please, I do have my own wings!\"),\n",
       "             ('Name', 'Lucy'),\n",
       "             ('Surname', 'Morningstar')])"
      ]
     },
     "execution_count": 17,
     "metadata": {},
     "output_type": "execute_result"
    }
   ],
   "source": [
    "## Example (sort by values)\n",
    "\n",
    "dic = {'Name': 'Lucy', \n",
    "       'Surname': 'Morningstar', \n",
    "       'Flight': \"A li'l respect please, I do have my own wings!\"}\n",
    "sort_dict_by_items(dic=dic, sort_by_keys=False)"
   ]
  },
  {
   "cell_type": "code",
   "execution_count": 18,
   "id": "ef51d39e",
   "metadata": {},
   "outputs": [
    {
     "data": {
      "text/plain": [
       "OrderedDict([('Fav girl', 'Candy Morningstar'),\n",
       "             ('Flight', \"A li'l respect please, I do have my own wings!\"),\n",
       "             ('Name', 'Lucy'),\n",
       "             ('Surname', 'Morningstar')])"
      ]
     },
     "execution_count": 18,
     "metadata": {},
     "output_type": "execute_result"
    }
   ],
   "source": [
    "## Example (sort by keys)\n",
    "\n",
    "dic = {'Name': 'Lucy', \n",
    "       'Surname': 'Morningstar', \n",
    "       'Flight': \"A li'l respect please, I do have my own wings!\", \n",
    "       'Fav girl': \"Candy Morningstar\"\n",
    "}\n",
    "sort_dict_by_items(dic=dic, sort_by_keys=True)"
   ]
  }
 ],
 "metadata": {
  "kernelspec": {
   "display_name": "Python 3 (ipykernel)",
   "language": "python",
   "name": "python3"
  },
  "language_info": {
   "codemirror_mode": {
    "name": "ipython",
    "version": 3
   },
   "file_extension": ".py",
   "mimetype": "text/x-python",
   "name": "python",
   "nbconvert_exporter": "python",
   "pygments_lexer": "ipython3",
   "version": "3.9.12"
  }
 },
 "nbformat": 4,
 "nbformat_minor": 5
}
