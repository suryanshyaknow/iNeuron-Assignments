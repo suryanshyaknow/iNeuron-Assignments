{
 "cells": [
  {
   "cell_type": "code",
   "execution_count": 1,
   "id": "69912f97",
   "metadata": {},
   "outputs": [],
   "source": [
    "import logging as lg\n",
    "\n",
    "lg.basicConfig(level=lg.INFO)"
   ]
  },
  {
   "cell_type": "markdown",
   "id": "e5b84a4d",
   "metadata": {},
   "source": [
    "### 1.\n",
    "Write a function that stutters a word as if someone is struggling to read it. The\n",
    "first two letters are repeated twice with an ellipsis ... and space after each, and then the\n",
    "word is pronounced with a question mark ?.\n",
    "\n",
    "**Examples:**\n",
    "stutter(&quot;incredible&quot;) ➞ &quot;in... in... incredible?&quot;<br>\n",
    "stutter(&quot;enthusiastic&quot;) ➞ &quot;en... en... enthusiastic?&quot;<br>\n",
    "stutter(&quot;outstanding&quot;) ➞ &quot;ou... ou... outstanding?&quot;<br>\n",
    "\n",
    "**Hint:** Assume all input is in lower case and at least two characters long."
   ]
  },
  {
   "cell_type": "code",
   "execution_count": 2,
   "id": "7d580ed6",
   "metadata": {},
   "outputs": [],
   "source": [
    "def stutter(word: str) -> str:\n",
    "    try:\n",
    "        return (word[:2]+\"... \")*2 + word + \"?\"\n",
    "        ...\n",
    "    except Exception as e:\n",
    "        lg.exception(e)"
   ]
  },
  {
   "cell_type": "code",
   "execution_count": 3,
   "id": "caf618c5",
   "metadata": {},
   "outputs": [
    {
     "name": "stdout",
     "output_type": "stream",
     "text": [
      "in... in... incredible?\n",
      "en... en... enthusiastic?\n",
      "ou... ou... outstanding?\n"
     ]
    }
   ],
   "source": [
    "## Examples\n",
    "\n",
    "print(stutter(\"incredible\"))\n",
    "print(stutter(\"enthusiastic\"))\n",
    "print(stutter(\"outstanding\"))"
   ]
  },
  {
   "cell_type": "markdown",
   "id": "ac099bda",
   "metadata": {},
   "source": [
    "### 2.\n",
    "Create a function that takes an angle in radians and returns the corresponding\n",
    "angle in degrees rounded to one decimal place.\n",
    "\n",
    "**Examples:**\n",
    "    \n",
    "radians_to_degrees(1) ➞ 57.3<br>\n",
    "radians_to_degrees(20) ➞ 1145.9<br>\n",
    "radians_to_degrees(50) ➞ 2864.8<br>"
   ]
  },
  {
   "cell_type": "code",
   "execution_count": 4,
   "id": "7ede2d78",
   "metadata": {},
   "outputs": [],
   "source": [
    "PI = 22/7\n",
    "\n",
    "def radian_to_degrees(rad: float) -> float:\n",
    "    try:\n",
    "        return round(rad*180/PI, 1)\n",
    "        ...\n",
    "    except Exception as e:\n",
    "        lg.error(e)"
   ]
  },
  {
   "cell_type": "code",
   "execution_count": 5,
   "id": "e9684f25",
   "metadata": {},
   "outputs": [
    {
     "name": "stdout",
     "output_type": "stream",
     "text": [
      "57.3\n",
      "1145.5\n",
      "2863.6\n"
     ]
    }
   ],
   "source": [
    "## Examples\n",
    "\n",
    "print(radian_to_degrees(1))\n",
    "print(radian_to_degrees(20))\n",
    "print(radian_to_degrees(50))"
   ]
  },
  {
   "cell_type": "markdown",
   "id": "b746bd4f",
   "metadata": {},
   "source": [
    "### 3.\n",
    "In this challenge, establish if a given integer num is a Curzon number. If 1 plus\n",
    "2 elevated to num is exactly divisible by 1 plus 2 multiplied by num, then num is a Curzon\n",
    "number.\n",
    "\n",
    "Given a non-negative integer num, implement a function that returns True if num is a Curzon\n",
    "number, or False otherwise.\n",
    "\n",
    "**Examples:**\n",
    "    \n",
    "is_curzon(5) ➞ True<br>\n",
    "is_curzon(10) ➞ False<br>\n",
    "is_curzon(14) ➞ True<br>"
   ]
  },
  {
   "cell_type": "code",
   "execution_count": 6,
   "id": "0e644a3f",
   "metadata": {},
   "outputs": [],
   "source": [
    "def is_curzon(num: float) -> bool:\n",
    "    try:\n",
    "        step_1 = (1 + (2**num))\n",
    "        step_2 = (1 + (2*num))\n",
    "        if step_1%step_2 == 0:\n",
    "            return True\n",
    "        return False\n",
    "        ...\n",
    "    except Exception as e:\n",
    "        lg.exception(e)"
   ]
  },
  {
   "cell_type": "code",
   "execution_count": 7,
   "id": "ff0a4e41",
   "metadata": {},
   "outputs": [
    {
     "name": "stdout",
     "output_type": "stream",
     "text": [
      "True\n",
      "False\n",
      "True\n"
     ]
    }
   ],
   "source": [
    "print(is_curzon(5))\n",
    "print(is_curzon(10))\n",
    "print(is_curzon(14))"
   ]
  },
  {
   "cell_type": "markdown",
   "id": "c16440da",
   "metadata": {},
   "source": [
    "### 4.\n",
    "Given the side length x find the area of a hexagon.\n",
    "\n",
    "**Examples:**\n",
    "    \n",
    "area_of_hexagon(1) ➞ 2.6<br>\n",
    "area_of_hexagon(2) ➞ 10.4<br>\n",
    "area_of_hexagon(3) ➞ 23.4<br>"
   ]
  },
  {
   "cell_type": "code",
   "execution_count": 8,
   "id": "e28eaefe",
   "metadata": {},
   "outputs": [],
   "source": [
    "import numpy as np\n",
    "\n",
    "def get_area_of_hexagon(side: float) -> float:\n",
    "    try:\n",
    "        return round(3*np.sqrt(3)*(side**2)/2, 1)\n",
    "        ...\n",
    "    except Exception as e:\n",
    "        lg.exception(e)"
   ]
  },
  {
   "cell_type": "code",
   "execution_count": 9,
   "id": "3d2b13fe",
   "metadata": {},
   "outputs": [
    {
     "name": "stdout",
     "output_type": "stream",
     "text": [
      "2.6\n",
      "10.4\n",
      "23.4\n"
     ]
    }
   ],
   "source": [
    "## Examples\n",
    "\n",
    "print(get_area_of_hexagon(1))\n",
    "print(get_area_of_hexagon(2))\n",
    "print(get_area_of_hexagon(3))"
   ]
  },
  {
   "cell_type": "markdown",
   "id": "4ee6b842",
   "metadata": {},
   "source": [
    "### 5.\n",
    "Create a function that returns a base-2 (binary) representation of a base-10\n",
    "(decimal) string number. \n",
    "\n",
    "To convert is simple: ((2) means base-2 and (10) means base-10)\n",
    "010101001(2) = 1 + 8 + 32 + 128.\n",
    "\n",
    "Going from right to left, the value of the most right bit is 1, now from that every bit to the left\n",
    "will be x2 the value, value of an 8 bit binary numbers are (256, 128, 64, 32, 16, 8, 4, 2, 1).\n",
    "\n",
    "**Examples:**\n",
    "\n",
    "binary(1) ➞ &quot;1&quot;<br>\n",
    "binary(5) ➞ &quot;101&quot;<br>\n",
    "binary(10) ➞ &quot;1010&quot;<br>"
   ]
  },
  {
   "cell_type": "code",
   "execution_count": 10,
   "id": "a16229d3",
   "metadata": {},
   "outputs": [],
   "source": [
    "def binary(decimal: int) -> int:\n",
    "    try:\n",
    "        n = decimal\n",
    "        binary_num = 0\n",
    "        binary_val = 1\n",
    "        while(n):\n",
    "            digit = int(n%10)\n",
    "            binary_num+=binary_val*digit\n",
    "            binary_val*=2\n",
    "            \n",
    "            n = int(n/10)\n",
    "        return binary_num\n",
    "        ...\n",
    "    except Exception as e:\n",
    "        lg.exception(e)"
   ]
  },
  {
   "cell_type": "code",
   "execution_count": 11,
   "id": "85ec7380",
   "metadata": {},
   "outputs": [],
   "source": [
    "def binary(num):\n",
    "    if num > 1:\n",
    "        binary(num//2)\n",
    "    print(num % 2, end='')"
   ]
  },
  {
   "cell_type": "code",
   "execution_count": 12,
   "id": "ba261619",
   "metadata": {},
   "outputs": [
    {
     "name": "stdout",
     "output_type": "stream",
     "text": [
      "1\n",
      "101\n",
      "1010"
     ]
    }
   ],
   "source": [
    "## Examples\n",
    "\n",
    "binary(1)\n",
    "print()\n",
    "binary(5)\n",
    "print()\n",
    "binary(10)"
   ]
  }
 ],
 "metadata": {
  "kernelspec": {
   "display_name": "Python 3 (ipykernel)",
   "language": "python",
   "name": "python3"
  },
  "language_info": {
   "codemirror_mode": {
    "name": "ipython",
    "version": 3
   },
   "file_extension": ".py",
   "mimetype": "text/x-python",
   "name": "python",
   "nbconvert_exporter": "python",
   "pygments_lexer": "ipython3",
   "version": "3.9.12"
  }
 },
 "nbformat": 4,
 "nbformat_minor": 5
}
