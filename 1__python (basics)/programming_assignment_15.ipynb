{
 "cells": [
  {
   "cell_type": "markdown",
   "id": "7aa07732",
   "metadata": {},
   "source": [
    "### 1. \n",
    "Please write a program using generator to print the numbers which can be divisible by 5 and 7 between 0 and n in comma separated form while n is input by console.\n",
    "\n",
    "**Example:**\n",
    "If the n=100 is given as input to the program,\n",
    "\n",
    "Then, the output of the program should be:\n",
    "`0, 35, 70`"
   ]
  },
  {
   "cell_type": "code",
   "execution_count": 1,
   "id": "3438e705",
   "metadata": {},
   "outputs": [],
   "source": [
    "def yield_divisible_by_5_and_7(n):\n",
    "    try:\n",
    "        for i in range(n):\n",
    "            if (i%5 == 0) and (i%7 == 0):\n",
    "                yield i\n",
    "        ...\n",
    "    except Exception as e:\n",
    "        print(e)\n",
    "        \n",
    "def print_nums():\n",
    "    try:\n",
    "        n = int(input(\"Enter the range up to which you want numbers, n: \"))\n",
    "        gen = yield_divisible_by_5_and_7  # assigning function to a variable\n",
    "        len_gen = len(list(gen(n)))-1\n",
    "        output = ''\n",
    "        for i, j in enumerate(list(gen(n))):\n",
    "            if i != len_gen:\n",
    "                output += f'{j}, '\n",
    "            else:\n",
    "                output += f'{j}'\n",
    "        \n",
    "        return output\n",
    "        ...\n",
    "    except Exception as e:\n",
    "        print(e)"
   ]
  },
  {
   "cell_type": "code",
   "execution_count": 2,
   "id": "cf64c9a1",
   "metadata": {},
   "outputs": [
    {
     "name": "stdout",
     "output_type": "stream",
     "text": [
      "Enter the range up to which you want numbers, n: 100\n"
     ]
    },
    {
     "data": {
      "text/plain": [
       "'0, 35, 70'"
      ]
     },
     "execution_count": 2,
     "metadata": {},
     "output_type": "execute_result"
    }
   ],
   "source": [
    "print_nums()"
   ]
  },
  {
   "cell_type": "markdown",
   "id": "4190ef18",
   "metadata": {},
   "source": [
    "### 2.\n",
    "Please write a program using generator to print the even numbers between 0 and n in comma\n",
    "separated form while n is input by console.\n",
    "\n",
    "**Example:**\n",
    "\n",
    "If the following n is given as input to the program:<br>\n",
    "10\n",
    "\n",
    "Then, the output of the program should be:\n",
    "`0, 2, 4, 6, 8, 10`"
   ]
  },
  {
   "cell_type": "code",
   "execution_count": 3,
   "id": "98dc31e6",
   "metadata": {},
   "outputs": [],
   "source": [
    "def yield_even_nums(n):\n",
    "    try:\n",
    "        for i in range(n+1):\n",
    "            if (i%2 == 0):\n",
    "                yield i\n",
    "        ...\n",
    "    except Exception as e:\n",
    "        print(e)\n",
    "        \n",
    "def print_nums():\n",
    "    try:\n",
    "        n = int(input(\"Enter the range up to which you want numbers, n: \"))\n",
    "        gen = yield_even_nums  # assigning function to a variable\n",
    "        len_gen = len(list(gen(n)))-1\n",
    "        output = ''\n",
    "        for i, j in enumerate(list(gen(n))):\n",
    "            if i != len_gen:\n",
    "                output += f'{j}, '\n",
    "            else:\n",
    "                output += f'{j}'\n",
    "        \n",
    "        return output\n",
    "        ...\n",
    "    except Exception as e:\n",
    "        print(e)"
   ]
  },
  {
   "cell_type": "code",
   "execution_count": 4,
   "id": "3e5c40b7",
   "metadata": {},
   "outputs": [
    {
     "name": "stdout",
     "output_type": "stream",
     "text": [
      "Enter the range up to which you want numbers, n: 10\n"
     ]
    },
    {
     "data": {
      "text/plain": [
       "'0, 2, 4, 6, 8, 10'"
      ]
     },
     "execution_count": 4,
     "metadata": {},
     "output_type": "execute_result"
    }
   ],
   "source": [
    "print_nums()"
   ]
  },
  {
   "cell_type": "markdown",
   "id": "ec4ced83",
   "metadata": {},
   "source": [
    "### 3.\n",
    "The Fibonacci Sequence is computed based on the following formula:\n",
    "    \n",
    "f(n)=0 if n=0<br>\n",
    "f(n)=1 if n=1<br>\n",
    "f(n)=f(n-1)+f(n-2) if n&gt;1<br>\n",
    "\n",
    "Please write a program using **list comprehension** to print the Fibonacci Sequence in comma\n",
    "separated form with a given n input by console.\n",
    "\n",
    "**Example:**\n",
    "    \n",
    "If the following n is given as input to the program:<br>\n",
    "7\n",
    "\n",
    "Then, the output of the program should be:\n",
    "`0, 1, 1, 2, 3, 5, 8, 13`"
   ]
  },
  {
   "cell_type": "code",
   "execution_count": 5,
   "id": "48129efc",
   "metadata": {},
   "outputs": [],
   "source": [
    "def print_fibonacci():\n",
    "    try:\n",
    "        n = int(input(\"Enter the range upto which you want your fibonacci: \"))\n",
    "        fib = []\n",
    "        if n<=1:\n",
    "            return n\n",
    "        else:\n",
    "            fib.append(0)\n",
    "            fib.append(1)\n",
    "            [fib.append(fib[i-1]+fib[i-2]) for i in range(2, n+1)]\n",
    "            \n",
    "        return f'{fib}'[1:-1]\n",
    "        ...\n",
    "    except Exception as e:\n",
    "        print(e)"
   ]
  },
  {
   "cell_type": "code",
   "execution_count": 6,
   "id": "5d9558df",
   "metadata": {},
   "outputs": [
    {
     "name": "stdout",
     "output_type": "stream",
     "text": [
      "Enter the range upto which you want your fibonacci: 7\n"
     ]
    },
    {
     "data": {
      "text/plain": [
       "'0, 1, 1, 2, 3, 5, 8, 13'"
      ]
     },
     "execution_count": 6,
     "metadata": {},
     "output_type": "execute_result"
    }
   ],
   "source": [
    "print_fibonacci()"
   ]
  },
  {
   "cell_type": "markdown",
   "id": "99bf0a0b",
   "metadata": {},
   "source": [
    "### 4.\n",
    "Assuming that we have some email addresses in the &quot;username@companyname.com&quot; format,\n",
    "please write program to print the user name of a given email address. Both user names and\n",
    "company names are composed of letters only.\n",
    "\n",
    "**Example:**\n",
    "\n",
    "If the following email address is given as input to the program:<br>\n",
    "`john@google.com`\n",
    "\n",
    "Then, the output of the program should be:\n",
    "`john`"
   ]
  },
  {
   "cell_type": "code",
   "execution_count": 7,
   "id": "d884563b",
   "metadata": {},
   "outputs": [],
   "source": [
    "def get_username_from_mail(email: str) -> str:\n",
    "    try:\n",
    "        split = email.split('@')\n",
    "        return split[0]\n",
    "        ...\n",
    "    except Exception as e:\n",
    "        print(e)"
   ]
  },
  {
   "cell_type": "code",
   "execution_count": 8,
   "id": "313e2b10",
   "metadata": {},
   "outputs": [
    {
     "data": {
      "text/plain": [
       "'lucifermorningstar'"
      ]
     },
     "execution_count": 8,
     "metadata": {},
     "output_type": "execute_result"
    }
   ],
   "source": [
    "get_username_from_mail(\"lucifermorningstar@outlook.com\")"
   ]
  },
  {
   "cell_type": "markdown",
   "id": "031a8dd5",
   "metadata": {},
   "source": [
    "### 5.\n",
    "Define a class named Shape and its subclass Square. The Square class has an init function\n",
    "which takes a length as argument. Both classes have a area function which can print the area\n",
    "of the shape where Shape&#39;s area is 0 by default."
   ]
  },
  {
   "cell_type": "code",
   "execution_count": 9,
   "id": "0a6733e0",
   "metadata": {},
   "outputs": [],
   "source": [
    "from dataclasses import dataclass\n",
    "\n",
    "@dataclass\n",
    "class Shape:\n",
    "    def area(self):\n",
    "        return 0\n",
    "\n",
    "@dataclass\n",
    "class Square(Shape):\n",
    "    length: float\n",
    "        \n",
    "    def area(self):\n",
    "        return self.length**2"
   ]
  }
 ],
 "metadata": {
  "kernelspec": {
   "display_name": "Python 3 (ipykernel)",
   "language": "python",
   "name": "python3"
  },
  "language_info": {
   "codemirror_mode": {
    "name": "ipython",
    "version": 3
   },
   "file_extension": ".py",
   "mimetype": "text/x-python",
   "name": "python",
   "nbconvert_exporter": "python",
   "pygments_lexer": "ipython3",
   "version": "3.9.12"
  }
 },
 "nbformat": 4,
 "nbformat_minor": 5
}
