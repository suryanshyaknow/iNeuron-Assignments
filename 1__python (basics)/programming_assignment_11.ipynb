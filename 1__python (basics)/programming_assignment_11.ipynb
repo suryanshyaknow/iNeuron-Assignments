{
 "cells": [
  {
   "cell_type": "markdown",
   "id": "d3b600ab",
   "metadata": {},
   "source": [
    "### 1. Write a Python program to find words which are greater than given length k."
   ]
  },
  {
   "cell_type": "code",
   "execution_count": 1,
   "id": "c3249036",
   "metadata": {},
   "outputs": [],
   "source": [
    "from typing import List\n",
    "\n",
    "def get_words_greater_than_len_k(lst: List, k: int) -> List:\n",
    "    \"\"\"Returns a list of words from the given list of words, \n",
    "    which are greater than the given length k.\"\"\"\n",
    "    try:\n",
    "        words_k = []  # list for holding words greater than k\n",
    "        for word in lst:\n",
    "            if type(word) != str:\n",
    "                print(\"Only `str` elements are allowed in the given list!\")\n",
    "            else:\n",
    "                if len(word) > k:\n",
    "                    words_k.append(word)\n",
    "        return words_k       \n",
    "        ...\n",
    "    except Exception as e:\n",
    "        print(e)"
   ]
  },
  {
   "cell_type": "code",
   "execution_count": 2,
   "id": "0248abca",
   "metadata": {},
   "outputs": [
    {
     "data": {
      "text/plain": [
       "['flight-828', '828ers', 'callings', 'greater-good']"
      ]
     },
     "execution_count": 2,
     "metadata": {},
     "output_type": "execute_result"
    }
   ],
   "source": [
    "## Examples\n",
    "\n",
    "get_words_greater_than_len_k(lst=[\"flight-828\", \"828ers\", \"callings\", \"greater-good\"], k=5)"
   ]
  },
  {
   "cell_type": "markdown",
   "id": "49655659",
   "metadata": {},
   "source": [
    "### 2. Write a Python program for removing i-th character from a string."
   ]
  },
  {
   "cell_type": "code",
   "execution_count": 3,
   "id": "17084de5",
   "metadata": {},
   "outputs": [],
   "source": [
    "## Assuming I don't have to use `remove()` method here\n",
    "\n",
    "def remove_ith_char(string: str, ith: int) -> str:\n",
    "    \"\"\"Removes the ith char from the given string and returns the resultant string.\"\"\"\n",
    "    try:\n",
    "        if len(string) <= ith:\n",
    "            raise Exception(\"provided index `ith` is outta scope of the given string's length!\")\n",
    "            \n",
    "        return string[:ith] + string[ith+1:]    \n",
    "        ...\n",
    "    except Exception as e:\n",
    "        print(e)"
   ]
  },
  {
   "cell_type": "code",
   "execution_count": 4,
   "id": "33a3ce5d",
   "metadata": {},
   "outputs": [
    {
     "name": "stdout",
     "output_type": "stream",
     "text": [
      "lucifer\n",
      "---------------------------------------\n",
      "provided index `ith` is outta scope of the given string's length!\n"
     ]
    }
   ],
   "source": [
    "## Examples\n",
    "\n",
    "print(remove_ith_char(string=\"luciifer\", ith=4))\n",
    "print(\"---------------------------------------\")\n",
    "remove_ith_char(string=\"morningstar\", ith=14)"
   ]
  },
  {
   "cell_type": "markdown",
   "id": "95423939",
   "metadata": {},
   "source": [
    "### 3. Write a Python program to split and join a string."
   ]
  },
  {
   "cell_type": "code",
   "execution_count": 5,
   "id": "5394db95",
   "metadata": {},
   "outputs": [],
   "source": [
    "def split_and_join(string: str, split_by: str, join_by: str) -> str:\n",
    "    \"\"\"Splits the given string by `split_by` char and joins by the \n",
    "    given `join_by` char, and apparently returns the resultant string\"\"\"\n",
    "    try:\n",
    "        words = string.split(split_by)\n",
    "        return join_by.join(string)\n",
    "        ...\n",
    "    except Exception as e:\n",
    "        print(e)"
   ]
  },
  {
   "cell_type": "code",
   "execution_count": 6,
   "id": "865a69d4",
   "metadata": {},
   "outputs": [
    {
     "data": {
      "text/plain": [
       "'H_a_r_d_s_h_i_p_s_ _a_r_e_ _f_i_n_e_ _b_y_ _m_e_,_ _I_ _c_h_o_s_e_ _t_o_ _w_a_l_k_ _t_h_e_ _p_a_t_h_ _o_f_ _A_s_h_u_r_a_.'"
      ]
     },
     "execution_count": 6,
     "metadata": {},
     "output_type": "execute_result"
    }
   ],
   "source": [
    "## Example\n",
    "\n",
    "split_and_join(\"Hardships are fine by me, I chose to walk the path of Ashura.\",\n",
    "              split_by=\" \",\n",
    "              join_by=\"_\")"
   ]
  },
  {
   "cell_type": "markdown",
   "id": "231e20d1",
   "metadata": {},
   "source": [
    "### 4. Write a Python to check if a given string is binary string or not."
   ]
  },
  {
   "cell_type": "code",
   "execution_count": 7,
   "id": "071ad29a",
   "metadata": {},
   "outputs": [],
   "source": [
    "def is_str_binary(string: str) -> bool:\n",
    "    \"\"\"Return True is the given string is binary.\"\"\"\n",
    "    try:\n",
    "        for i in string:\n",
    "            if (i==\"0\") or (i==\"1\"):\n",
    "                continue\n",
    "            else:\n",
    "                return False\n",
    "        return True       \n",
    "        ...\n",
    "    except Exception as e:\n",
    "        print(e)"
   ]
  },
  {
   "cell_type": "code",
   "execution_count": 8,
   "id": "78fecffe",
   "metadata": {},
   "outputs": [
    {
     "name": "stdout",
     "output_type": "stream",
     "text": [
      "True\n",
      "False\n"
     ]
    }
   ],
   "source": [
    "## Examples\n",
    "\n",
    "print(is_str_binary(string=\"0100010001000101111\"))\n",
    "print(is_str_binary(string=\"010001s00010l0011111\"))"
   ]
  },
  {
   "cell_type": "markdown",
   "id": "6b63226b",
   "metadata": {},
   "source": [
    "### 5. Write a Python program to find uncommon words from two Strings."
   ]
  },
  {
   "cell_type": "code",
   "execution_count": 9,
   "id": "79061859",
   "metadata": {},
   "outputs": [],
   "source": [
    "def get_uncommon_words(str_1: str, str_2: str) -> List:\n",
    "    \"\"\"Returns the list of uncommon characters from two strings.\"\"\"\n",
    "    try:\n",
    "        uncommon_words = []\n",
    "        str_1_words = str_1.split()\n",
    "        str_2_words = str_2.split()\n",
    "        \n",
    "        # Uncommon words from string 1\n",
    "        for word in str_1_words:\n",
    "            if word not in str_2_words:\n",
    "                uncommon_words.append(word)\n",
    "        \n",
    "        # Uncommon words from string 2\n",
    "        for word in str_2_words:\n",
    "            if word not in str_1_words:\n",
    "                uncommon_words.append(word)\n",
    "                \n",
    "        return uncommon_words\n",
    "        ...\n",
    "    except Exception as e:\n",
    "        print(e)"
   ]
  },
  {
   "cell_type": "code",
   "execution_count": 10,
   "id": "14a80fd3",
   "metadata": {},
   "outputs": [
    {
     "data": {
      "text/plain": [
       "['you', 'truly', 'desire', 'callings', 'really', 'want', 'from', 'us']"
      ]
     },
     "execution_count": 10,
     "metadata": {},
     "output_type": "execute_result"
    }
   ],
   "source": [
    "## Example\n",
    "\n",
    "get_uncommon_words(\n",
    "    str_1=\"What do you truly desire ?\",\n",
    "    str_2=\"What do callings really want from us ?\")"
   ]
  },
  {
   "cell_type": "markdown",
   "id": "8befe7ad",
   "metadata": {},
   "source": [
    "### 6. Write a Python to find all duplicate characters in string."
   ]
  },
  {
   "cell_type": "code",
   "execution_count": 11,
   "id": "4340ac01",
   "metadata": {},
   "outputs": [],
   "source": [
    "## Assuming by `characters`, it's meant `words` here\n",
    "\n",
    "def get_dups_from_string(string: str) -> List:\n",
    "    \"\"\"Returns a list of duplicate characters in the given string.\"\"\"\n",
    "    try:    \n",
    "        dups = []\n",
    "        words = string.split()\n",
    "\n",
    "        for i in words:\n",
    "            if words.count(i) > 1:\n",
    "                if i not in dups:\n",
    "                    dups.append(i)\n",
    "        return dups\n",
    "    except Exception as e:\n",
    "        print(e)"
   ]
  },
  {
   "cell_type": "code",
   "execution_count": 12,
   "id": "5df68110",
   "metadata": {},
   "outputs": [
    {
     "data": {
      "text/plain": [
       "['what', 'you']"
      ]
     },
     "execution_count": 12,
     "metadata": {},
     "output_type": "execute_result"
    }
   ],
   "source": [
    "## Example\n",
    "\n",
    "get_dups_from_string(\"what are you getting at, huh, what do you truly desire ?\")"
   ]
  },
  {
   "cell_type": "markdown",
   "id": "fe807562",
   "metadata": {},
   "source": [
    "### 7. Write a Python Program to check if a string contains any special character."
   ]
  },
  {
   "cell_type": "code",
   "execution_count": 13,
   "id": "cbb05265",
   "metadata": {},
   "outputs": [],
   "source": [
    "def is_containing_specials(string: str) -> bool:\n",
    "    \"\"\"Returns True should the given string contain any special characters.\"\"\"\n",
    "    try:\n",
    "        specials = \"@_!#$%^&*()<>?/\\|}{~:\"\n",
    "        for i in specials:\n",
    "            if i in string:\n",
    "                return True\n",
    "        return False\n",
    "        ...\n",
    "    except Exception as e:\n",
    "        print(e)"
   ]
  },
  {
   "cell_type": "code",
   "execution_count": 14,
   "id": "b591f3e5",
   "metadata": {},
   "outputs": [
    {
     "name": "stdout",
     "output_type": "stream",
     "text": [
      "True\n",
      "False\n"
     ]
    }
   ],
   "source": [
    "## Examples\n",
    "\n",
    "print(is_containing_specials(\"lucifermorningstar1999@gmail.com\"))\n",
    "print(is_containing_specials(\"suryanshyaknow\"))"
   ]
  }
 ],
 "metadata": {
  "kernelspec": {
   "display_name": "Python 3 (ipykernel)",
   "language": "python",
   "name": "python3"
  },
  "language_info": {
   "codemirror_mode": {
    "name": "ipython",
    "version": 3
   },
   "file_extension": ".py",
   "mimetype": "text/x-python",
   "name": "python",
   "nbconvert_exporter": "python",
   "pygments_lexer": "ipython3",
   "version": "3.9.12"
  }
 },
 "nbformat": 4,
 "nbformat_minor": 5
}
