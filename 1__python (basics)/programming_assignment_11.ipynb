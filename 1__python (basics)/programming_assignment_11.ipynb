{
 "cells": [
  {
   "cell_type": "code",
   "execution_count": 12,
   "id": "3ea938a2",
   "metadata": {},
   "outputs": [],
   "source": [
    "s = \"Hardships are fine by me, I chose to walk the path of Ashura.\""
   ]
  },
  {
   "cell_type": "markdown",
   "id": "4fd2bbb7",
   "metadata": {},
   "source": [
    "### 1. Write a Python program to find words which are greater than given length k?\n"
   ]
  },
  {
   "cell_type": "code",
   "execution_count": 11,
   "id": "2aaed85e",
   "metadata": {},
   "outputs": [],
   "source": [
    "def findKwords(s, k):\n",
    "    l = s.split()\n",
    "    k_words = []\n",
    "    \n",
    "    for i in l:\n",
    "        if len(i) > k:\n",
    "            k_words.append(i)\n",
    "            \n",
    "    return k_words      "
   ]
  },
  {
   "cell_type": "code",
   "execution_count": 13,
   "id": "69fd04ce",
   "metadata": {},
   "outputs": [
    {
     "data": {
      "text/plain": [
       "['Hardships', 'fine', 'chose', 'walk', 'path', 'Ashura.']"
      ]
     },
     "execution_count": 13,
     "metadata": {},
     "output_type": "execute_result"
    }
   ],
   "source": [
    "findKwords(s, 3)"
   ]
  },
  {
   "cell_type": "markdown",
   "id": "8182f2d5",
   "metadata": {},
   "source": [
    "### 2. Write a Python program for removing i-th character from a string?\n"
   ]
  },
  {
   "cell_type": "code",
   "execution_count": 3,
   "id": "03eea161",
   "metadata": {},
   "outputs": [],
   "source": [
    "def rem_ith(string, i):\n",
    "    \n",
    "    return string[:i] + string[(i+1):]"
   ]
  },
  {
   "cell_type": "code",
   "execution_count": 21,
   "id": "167a40ca",
   "metadata": {},
   "outputs": [
    {
     "data": {
      "text/plain": [
       "'Hardships are fne by me, I chose to walk the path of Ashura.'"
      ]
     },
     "execution_count": 21,
     "metadata": {},
     "output_type": "execute_result"
    }
   ],
   "source": [
    "rem_ith(s, 15)"
   ]
  },
  {
   "cell_type": "markdown",
   "id": "a93de7f9",
   "metadata": {},
   "source": [
    "### 3. Write a Python program to split and join a string?\n"
   ]
  },
  {
   "cell_type": "code",
   "execution_count": 22,
   "id": "8abacdc5",
   "metadata": {},
   "outputs": [],
   "source": [
    "def splitNjoin(string):\n",
    "    l = string.split()\n",
    "    return ' '.join(l)    "
   ]
  },
  {
   "cell_type": "code",
   "execution_count": 23,
   "id": "fbf5d3a6",
   "metadata": {},
   "outputs": [
    {
     "data": {
      "text/plain": [
       "'Hardships are fine by me, I chose to walk the path of Ashura.'"
      ]
     },
     "execution_count": 23,
     "metadata": {},
     "output_type": "execute_result"
    }
   ],
   "source": [
    "splitNjoin(s) # as expected, no changes observed!"
   ]
  },
  {
   "cell_type": "markdown",
   "id": "faed281e",
   "metadata": {},
   "source": [
    "### 4. Write a Python to check if a given string is binary string or not?\n"
   ]
  },
  {
   "cell_type": "markdown",
   "id": "eb4dae5f",
   "metadata": {},
   "source": [
    "A **binary string** is a **sequence of bytes**. Unlike a character string which usually contains text data, a binary string is used to hold non-traditional data such as pictures. **The length of a binary string is the number of bytes in the sequence**. A binary string has a CCSID of 65535."
   ]
  },
  {
   "cell_type": "markdown",
   "id": "a5958d58",
   "metadata": {},
   "source": [
    "**Coded character set identifier (CCSID)** is a 16-bit number that includes a specific set of encoding scheme identifiers, character set identifiers, code page identifiers, and other information that uniquely identifies the coded graphic-character representation."
   ]
  },
  {
   "cell_type": "code",
   "execution_count": 74,
   "id": "977aecfa",
   "metadata": {},
   "outputs": [],
   "source": [
    "str1 = \"01010101010\"\n",
    "str2 = \"0010101010s001\""
   ]
  },
  {
   "cell_type": "code",
   "execution_count": 83,
   "id": "f394b17f",
   "metadata": {},
   "outputs": [],
   "source": [
    "def isbinarystring(string):\n",
    "    for i in string:\n",
    "        if (i != '0') and (i != '1'):\n",
    "            return False\n",
    "    return True"
   ]
  },
  {
   "cell_type": "code",
   "execution_count": 84,
   "id": "c1fb5883",
   "metadata": {},
   "outputs": [
    {
     "data": {
      "text/plain": [
       "True"
      ]
     },
     "execution_count": 84,
     "metadata": {},
     "output_type": "execute_result"
    }
   ],
   "source": [
    "isbinarystring(str1)"
   ]
  },
  {
   "cell_type": "code",
   "execution_count": 85,
   "id": "fae63fa1",
   "metadata": {},
   "outputs": [
    {
     "data": {
      "text/plain": [
       "False"
      ]
     },
     "execution_count": 85,
     "metadata": {},
     "output_type": "execute_result"
    }
   ],
   "source": [
    "isbinarystring(str2)"
   ]
  },
  {
   "cell_type": "code",
   "execution_count": 56,
   "id": "c33418de",
   "metadata": {},
   "outputs": [],
   "source": [
    "# another approach:\n",
    "def is_binary(string):\n",
    "    s1 = set(string) # original set\n",
    "    s2 = {'0','1'} # expected set\n",
    "    \n",
    "    if s1 == s2:\n",
    "        return True\n",
    "    else:\n",
    "        return False"
   ]
  },
  {
   "cell_type": "code",
   "execution_count": 57,
   "id": "f01c7a61",
   "metadata": {},
   "outputs": [
    {
     "data": {
      "text/plain": [
       "True"
      ]
     },
     "execution_count": 57,
     "metadata": {},
     "output_type": "execute_result"
    }
   ],
   "source": [
    "is_binary(str1)"
   ]
  },
  {
   "cell_type": "code",
   "execution_count": 52,
   "id": "a3fbf3a3",
   "metadata": {},
   "outputs": [
    {
     "data": {
      "text/plain": [
       "False"
      ]
     },
     "execution_count": 52,
     "metadata": {},
     "output_type": "execute_result"
    }
   ],
   "source": [
    "is_binary(str2)"
   ]
  },
  {
   "cell_type": "code",
   "execution_count": 53,
   "id": "0f1671d7",
   "metadata": {},
   "outputs": [
    {
     "name": "stdout",
     "output_type": "stream",
     "text": [
      "Hardships are fine by me, I chose to walk the path of Ashura.\n"
     ]
    },
    {
     "data": {
      "text/plain": [
       "False"
      ]
     },
     "execution_count": 53,
     "metadata": {},
     "output_type": "execute_result"
    }
   ],
   "source": [
    "print(s)\n",
    "is_binary(s)"
   ]
  },
  {
   "cell_type": "markdown",
   "id": "3eda4112",
   "metadata": {},
   "source": [
    "### 5. Write a Python program to find uncommon words from two Strings?\n"
   ]
  },
  {
   "cell_type": "code",
   "execution_count": 130,
   "id": "7081e9ed",
   "metadata": {},
   "outputs": [
    {
     "data": {
      "text/plain": [
       "('Hardships are fine by me, I chose to walk the path of Ashura.',\n",
       " 'Hardships are fine by Zoro and Suryansh and Suryansh , he chose to walk down the path of Asura.')"
      ]
     },
     "execution_count": 130,
     "metadata": {},
     "output_type": "execute_result"
    }
   ],
   "source": [
    "ss = \"Hardships are fine by Zoro and Suryansh and Suryansh , he chose to walk down the path of Asura.\"\n",
    "s, ss"
   ]
  },
  {
   "cell_type": "code",
   "execution_count": 152,
   "id": "4b622b89",
   "metadata": {},
   "outputs": [],
   "source": [
    "def find_uncommon_words(str1, str2):\n",
    "    l1 = str1.split()\n",
    "    l2 = str2.split()\n",
    "    \n",
    "    if l1 == l2:\n",
    "        return \"No uncommon words!\"\n",
    "    \n",
    "    uncommon = []\n",
    "    \n",
    "    for word in l1: # to fetch uncommon words from str1\n",
    "        if word in l2:\n",
    "            continue\n",
    "        else:\n",
    "            uncommon.append(word) # if i not in uncommon already\n",
    "            \n",
    "    for word in l2: # to fetch uncommon words from str2\n",
    "        if word in l1:\n",
    "            continue\n",
    "        else:\n",
    "            uncommon.append(word)\n",
    "            \n",
    "    return set(uncommon)"
   ]
  },
  {
   "cell_type": "code",
   "execution_count": 153,
   "id": "c40f1546",
   "metadata": {},
   "outputs": [
    {
     "data": {
      "text/plain": [
       "{',', 'Ashura.', 'Asura.', 'I', 'Suryansh', 'Zoro', 'and', 'down', 'he', 'me,'}"
      ]
     },
     "execution_count": 153,
     "metadata": {},
     "output_type": "execute_result"
    }
   ],
   "source": [
    "find_uncommon_words(s,ss)"
   ]
  },
  {
   "cell_type": "code",
   "execution_count": 145,
   "id": "619ed27b",
   "metadata": {},
   "outputs": [],
   "source": [
    "# Another approach (using dictionary):\n",
    "\n",
    "def uncommon_words(s1, s2):\n",
    "    d = {}\n",
    "    l1 = s1.split()\n",
    "    l2 = s2.split()\n",
    "    \n",
    "    for word in l1:\n",
    "        d[word] = d.get(word, 0) + 1 # if there's a key 'word' in d already then return its val otherwisereturn zero\n",
    "            \n",
    "    for word in l2:\n",
    "        d[word] = d.get(word, 0) + 1\n",
    "                \n",
    "    return [i for i in d if d[i] == 1]\n",
    "\n",
    "# I got this approach from GfG, and this is faulty method. This won't work if some word is to repeated more than once..\n",
    "# in the same string say s1."
   ]
  },
  {
   "cell_type": "code",
   "execution_count": 119,
   "id": "f01eb215",
   "metadata": {},
   "outputs": [
    {
     "data": {
      "text/plain": [
       "['me,', 'I', 'Ashura.', 'Zoro', ',', 'he', 'down', 'Asura.']"
      ]
     },
     "execution_count": 119,
     "metadata": {},
     "output_type": "execute_result"
    }
   ],
   "source": [
    "uncommon_words(s,ss)"
   ]
  },
  {
   "cell_type": "markdown",
   "id": "e710abbf",
   "metadata": {},
   "source": [
    "### 6. Write a Python to find all duplicate characters in string?\n"
   ]
  },
  {
   "cell_type": "code",
   "execution_count": 150,
   "id": "b9939a88",
   "metadata": {},
   "outputs": [],
   "source": [
    "def find_duplicate(string):\n",
    "    l = string.split()\n",
    "    \n",
    "    duplicates = [word for word in l if l.count(word) > 1]\n",
    "    \n",
    "    return set(duplicates)"
   ]
  },
  {
   "cell_type": "code",
   "execution_count": 151,
   "id": "dac39423",
   "metadata": {},
   "outputs": [
    {
     "name": "stdout",
     "output_type": "stream",
     "text": [
      "Hardships are fine by Zoro and Suryansh and Suryansh , he chose to walk down the path of Asura.\n"
     ]
    },
    {
     "data": {
      "text/plain": [
       "{'Suryansh', 'and'}"
      ]
     },
     "execution_count": 151,
     "metadata": {},
     "output_type": "execute_result"
    }
   ],
   "source": [
    "print(ss)\n",
    "find_duplicate(ss)"
   ]
  },
  {
   "cell_type": "markdown",
   "id": "57dacf88",
   "metadata": {},
   "source": [
    "### 7. Write a Python Program to check if a string contains any special character?\n"
   ]
  },
  {
   "cell_type": "code",
   "execution_count": 161,
   "id": "9302d7c9",
   "metadata": {},
   "outputs": [],
   "source": [
    "def contains_special_char(string):\n",
    "    special_chars = '[@_!#$%^&*()<>?/\\|}{~:]'\n",
    "    \n",
    "    for char in special_chars:\n",
    "        if char in string:\n",
    "            return \"The string does contain special characters!\"\n",
    "    \n",
    "    return \"Nah, the string doesn't!\""
   ]
  },
  {
   "cell_type": "code",
   "execution_count": 162,
   "id": "896c8393",
   "metadata": {},
   "outputs": [
    {
     "name": "stdout",
     "output_type": "stream",
     "text": [
      "Hardships are fine by me, I chose to walk the path of Ashura.\n"
     ]
    },
    {
     "data": {
      "text/plain": [
       "\"Nah, the string doesn't!\""
      ]
     },
     "execution_count": 162,
     "metadata": {},
     "output_type": "execute_result"
    }
   ],
   "source": [
    "print(s)\n",
    "contains_special_char(s)"
   ]
  },
  {
   "cell_type": "code",
   "execution_count": 163,
   "id": "3b8b7d91",
   "metadata": {},
   "outputs": [
    {
     "name": "stdout",
     "output_type": "stream",
     "text": [
      "Hardships are fine by Zoro and Suryansh and Suryansh , he chose to walk down the path of Asura.\n"
     ]
    },
    {
     "data": {
      "text/plain": [
       "\"Nah, the string doesn't!\""
      ]
     },
     "execution_count": 163,
     "metadata": {},
     "output_type": "execute_result"
    }
   ],
   "source": [
    "print(ss)\n",
    "contains_special_char(ss)"
   ]
  },
  {
   "cell_type": "code",
   "execution_count": 165,
   "id": "c00a0e24",
   "metadata": {},
   "outputs": [
    {
     "data": {
      "text/plain": [
       "'The string does contain special characters!'"
      ]
     },
     "execution_count": 165,
     "metadata": {},
     "output_type": "execute_result"
    }
   ],
   "source": [
    "sss = \"My$Hero@Academia!\"\n",
    "contains_special_char(sss)"
   ]
  }
 ],
 "metadata": {
  "kernelspec": {
   "display_name": "Python 3 (ipykernel)",
   "language": "python",
   "name": "python3"
  },
  "language_info": {
   "codemirror_mode": {
    "name": "ipython",
    "version": 3
   },
   "file_extension": ".py",
   "mimetype": "text/x-python",
   "name": "python",
   "nbconvert_exporter": "python",
   "pygments_lexer": "ipython3",
   "version": "3.10.5"
  }
 },
 "nbformat": 4,
 "nbformat_minor": 5
}
