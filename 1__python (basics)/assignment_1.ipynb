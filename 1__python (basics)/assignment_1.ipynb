{
 "cells": [
  {
   "cell_type": "markdown",
   "id": "d2437064",
   "metadata": {},
   "source": [
    "# 1. In the below elements which of them are values or an expression? eg:- values can be integer or string and expressions will be mathematical operators.\n",
    "\n",
    "\n",
    "*\n",
    "\n",
    "'hello'\n",
    "\n",
    "-87.8\n",
    "\n",
    "  -\n",
    "\n",
    "\n",
    "/\n",
    " \n",
    " +\n",
    "\n",
    "6 \n"
   ]
  },
  {
   "cell_type": "markdown",
   "id": "a5d8fe85",
   "metadata": {},
   "source": [
    "Ans: Since the values can be integer or string, the values in the above elements are: \n",
    "\n",
    "'hello'\n",
    "-87.8\n",
    "6\n",
    "\n",
    "Now, Expressions are nothing but the representation of the values (and unlike statements they can even do nothing but just represent the values). \n",
    "And if we go by the book, An expression is a legal combination of operators and operands that which is interpreted to give some value. \n",
    "However, an expression must contain atleast one operand and can contain any number of opertaors.\n",
    "\n",
    "The syntax for a simple expression: <object> <operator> <object> \n",
    "    \n",
    "So if we go by this definition of the python expressions, according to me, the values in the above elements that can be expressions are: \n",
    "    \n",
    "    'hello'\n",
    "    -87.8\n",
    "     6\n",
    "    \n",
    " Note: All left out are not expressions since they are not containing atleast one operand."
   ]
  },
  {
   "cell_type": "markdown",
   "id": "d62ee67c",
   "metadata": {},
   "source": [
    "# 2. What is the difference between string and variable? "
   ]
  },
  {
   "cell_type": "markdown",
   "id": "8bf8969f",
   "metadata": {},
   "source": [
    "Ans: A String in python is a primitive (pre-defined) class or data type that stores or allows character values.\n",
    "     Also, In Python, Strings are arrays of bytes representing Unicode characters. However, Python does not have a character data type, so a single character is simply a string with a length of 1. Square brackets can be used to access elements of the string.\n",
    "For ex: \"I am a string datatype in Python!\"\n",
    "     \n",
    "A variable, on the other hand, is the name which we give to certain values or data types so that they can be summoned with      the help of that variable name only rather than typing loads of data everytime.\n",
    "     \n",
    "For ex: \n",
    "x = \"I am a string datatype in Python!\"\n",
    "\n",
    "Here in this example, x is the variable and is pointing to the string \"I am a string datatype in Python!\" \n",
    "AND MAKE NO MISTAKE, IT JUST POINTS TO THE DATA AND NEVER STORES IT.\n",
    "     \n",
    "And now if we assign some new data to the very same variable x,\n",
    "i.e. x = 89\n",
    "=> then \"I am a string datatype in Python!\" is now lost in the memory and x is now pointing to the integer value 89."
   ]
  },
  {
   "cell_type": "markdown",
   "id": "2f82f87d",
   "metadata": {},
   "source": [
    "# 3. Describe three different data types."
   ]
  },
  {
   "cell_type": "markdown",
   "id": "b5649e1c",
   "metadata": {},
   "source": [
    "Ans: 3 different data types: str, int and float\n",
    "\n",
    "str: Strings are arrays of bytes representing Unicode characters. However, Python does not have a character data type, so a single character is simply a string with a length of 1. Square brackets can be used to access elements of the string. \n",
    "For ex: s = \"I am a string datatype in Python!\"\n",
    "     \n",
    "To access elements:\n",
    "s[3]\n",
    "=> 'a'\n",
    "3rd element of the string s is being accessed.\n",
    "\n",
    "\n",
    "int: Int is the datatype that stores integer values i.e positive or negative whole numbers (without fraction or decimal).\n",
    "There's no limit to how long an integer value can be.\n",
    "     \n",
    "Ex: x = 79     "
   ]
  },
  {
   "cell_type": "code",
   "execution_count": 3,
   "id": "75330a42",
   "metadata": {},
   "outputs": [
    {
     "data": {
      "text/plain": [
       "int"
      ]
     },
     "execution_count": 3,
     "metadata": {},
     "output_type": "execute_result"
    }
   ],
   "source": [
    "#and now if we check the type of x\n",
    "x = 79\n",
    "type(x)"
   ]
  },
  {
   "cell_type": "markdown",
   "id": "5db5f7be",
   "metadata": {},
   "source": [
    "=> Integer it is."
   ]
  },
  {
   "cell_type": "markdown",
   "id": "33fa22a3",
   "metadata": {},
   "source": [
    "float: The datatype that stores decimal values i.e real numbers with floating point representations, specified by a decimal point.\n",
    "\n",
    "Ex: x = 79.9"
   ]
  },
  {
   "cell_type": "code",
   "execution_count": 4,
   "id": "d9c64faf",
   "metadata": {},
   "outputs": [
    {
     "data": {
      "text/plain": [
       "float"
      ]
     },
     "execution_count": 4,
     "metadata": {},
     "output_type": "execute_result"
    }
   ],
   "source": [
    "#and now if we check the type of x\n",
    "x = 79.9\n",
    "type(x)"
   ]
  },
  {
   "cell_type": "markdown",
   "id": "81d7d2f6",
   "metadata": {},
   "source": [
    "=> Float it is."
   ]
  },
  {
   "cell_type": "markdown",
   "id": "f5b020f6",
   "metadata": {},
   "source": [
    "# 4. What is an expression made up of? What do all expressions do?"
   ]
  },
  {
   "cell_type": "markdown",
   "id": "db3652a2",
   "metadata": {},
   "source": [
    "Ans: An expression is made up of atleast one operand and any number of operators. All they do ALWAYS is produce and return a result value.\n",
    "\n",
    "In layman terms, evaluation of an expression always produces or returns a result value.\n",
    "A value or a variable all by itself is also considered an expression, because these always evaluates to itself.\n",
    "\n"
   ]
  },
  {
   "cell_type": "code",
   "execution_count": 12,
   "id": "40221c5f",
   "metadata": {},
   "outputs": [],
   "source": [
    "#For ex:\n",
    "x = 5\n",
    "y = 3\n",
    "z = x + y\n",
    "\n",
    "#Note: All these are not expressions because they aren't returning any value."
   ]
  },
  {
   "cell_type": "code",
   "execution_count": 13,
   "id": "8fdb9316",
   "metadata": {},
   "outputs": [
    {
     "data": {
      "text/plain": [
       "5"
      ]
     },
     "execution_count": 13,
     "metadata": {},
     "output_type": "execute_result"
    }
   ],
   "source": [
    "x #expression as value is returned after evaluation"
   ]
  },
  {
   "cell_type": "code",
   "execution_count": 8,
   "id": "6c1464e6",
   "metadata": {},
   "outputs": [
    {
     "data": {
      "text/plain": [
       "3"
      ]
     },
     "execution_count": 8,
     "metadata": {},
     "output_type": "execute_result"
    }
   ],
   "source": [
    "y #expression as value is returned after evaluation"
   ]
  },
  {
   "cell_type": "code",
   "execution_count": 9,
   "id": "540fdf16",
   "metadata": {},
   "outputs": [
    {
     "data": {
      "text/plain": [
       "8"
      ]
     },
     "execution_count": 9,
     "metadata": {},
     "output_type": "execute_result"
    }
   ],
   "source": [
    "z #expression as value is returned after evaluation"
   ]
  },
  {
   "cell_type": "markdown",
   "id": "70b202f2",
   "metadata": {},
   "source": [
    "# 5. This assignment statement, like spam = 10. What is the difference between an expression and a statement?"
   ]
  },
  {
   "cell_type": "markdown",
   "id": "f416473c",
   "metadata": {},
   "source": [
    "Ans: An expression always evaluates to a value and at the same time evaluation of an expression always produces and returns a value.\n",
    "\n",
    "WHEREAS Statements executes whatever is instructed. The biggest difference between them is unlike expressions, statements do not always produce a result as they only do whatever the statement says.\n",
    "Conditional Statemets (if else statements) and Loop statements (for loop, while loop) are some examples of statements in python.\n",
    "\n",
    "Now, let's take the example given: spam = 10\n",
    "\n",
    "This line of code is not an expression but it surely is a statement.\n"
   ]
  },
  {
   "cell_type": "code",
   "execution_count": 15,
   "id": "6d87254c",
   "metadata": {},
   "outputs": [],
   "source": [
    "spam = 10\n",
    "#It is not an exprssion because nothing is returned as a value.\n",
    "\n",
    "#It is statement because the instruction that 10 is assigned to x is carried out."
   ]
  },
  {
   "cell_type": "code",
   "execution_count": 16,
   "id": "edd44d49",
   "metadata": {},
   "outputs": [
    {
     "data": {
      "text/plain": [
       "10"
      ]
     },
     "execution_count": 16,
     "metadata": {},
     "output_type": "execute_result"
    }
   ],
   "source": [
    "spam #but this is an expression as some result is produced after the evbaluation."
   ]
  },
  {
   "cell_type": "markdown",
   "id": "9866acf7",
   "metadata": {},
   "source": [
    "# 6. After running the following code, what does the variable bacon contain?\n",
    "\n",
    "### bacon = 22\n",
    "\n",
    "### bacon + 1\n"
   ]
  },
  {
   "cell_type": "markdown",
   "id": "27bc9f4e",
   "metadata": {},
   "source": [
    "Ans: bacon will still contain the value 22 since nothing in specific is assigned to the bacon."
   ]
  },
  {
   "cell_type": "code",
   "execution_count": 17,
   "id": "19b8c0da",
   "metadata": {},
   "outputs": [
    {
     "data": {
      "text/plain": [
       "23"
      ]
     },
     "execution_count": 17,
     "metadata": {},
     "output_type": "execute_result"
    }
   ],
   "source": [
    "bacon = 22\n",
    "bacon + 1"
   ]
  },
  {
   "cell_type": "code",
   "execution_count": 18,
   "id": "21803acd",
   "metadata": {},
   "outputs": [
    {
     "data": {
      "text/plain": [
       "22"
      ]
     },
     "execution_count": 18,
     "metadata": {},
     "output_type": "execute_result"
    }
   ],
   "source": [
    "bacon"
   ]
  },
  {
   "cell_type": "markdown",
   "id": "0a252126",
   "metadata": {},
   "source": [
    "# 7. What should the values of the following two terms be?\n",
    "\n",
    "### 'spam' + 'spamspam'\n",
    "\n",
    "### 'spam' * 3\n"
   ]
  },
  {
   "cell_type": "markdown",
   "id": "e984b4b9",
   "metadata": {},
   "source": [
    "'spam' + 'spamspam' will simply concatenate these two strings.\n",
    "Outcome: 'spamspamspam'\n",
    "\n",
    "'spam'*3\n",
    "Outcome: 'spamspamspam'"
   ]
  },
  {
   "cell_type": "markdown",
   "id": "09ebb593",
   "metadata": {},
   "source": [
    "# 8. Why is eggs a valid variable name while 100 is invalid?"
   ]
  },
  {
   "cell_type": "markdown",
   "id": "7399d808",
   "metadata": {},
   "source": [
    "Ans: Because 100 by default will be treated as an integer value by the compiler and thus it can't be a variable name.\n",
    "\n",
    "And additionally, there are some rules for declaring the variable names in python. And one of them is that a variable name must not start with an integer value, however once this condition is satisfied they can be alphanumeric in between. "
   ]
  },
  {
   "cell_type": "markdown",
   "id": "a68ca1a6",
   "metadata": {},
   "source": [
    "# 9. What three functions can be used to get the integer, floating-point number, or string version of a value?"
   ]
  },
  {
   "cell_type": "markdown",
   "id": "d85c2d97",
   "metadata": {},
   "source": [
    "Ans: int() for integer values.\n",
    "     float() for flating_point number values.\n",
    "     str() for string values."
   ]
  },
  {
   "cell_type": "markdown",
   "id": "7f5170de",
   "metadata": {},
   "source": [
    "# 10. Why does this expression cause an error? How can you fix it?\n",
    "\n",
    "### 'I have eaten ' + 99 + ' burritos.'"
   ]
  },
  {
   "cell_type": "markdown",
   "id": "fd3c9c4b",
   "metadata": {},
   "source": [
    "Ans: First things first, for '+' operator to work all values that are supposed to be added or concatenated must be of the same data types.\n",
    "\n",
    "Since the data type of 99 is int, it can't be concatenated to the fellow strings.\n",
    "to fix it, what we can do it typecast it with the string data type."
   ]
  },
  {
   "cell_type": "code",
   "execution_count": 19,
   "id": "2dd88324",
   "metadata": {},
   "outputs": [
    {
     "ename": "TypeError",
     "evalue": "can only concatenate str (not \"int\") to str",
     "output_type": "error",
     "traceback": [
      "\u001b[1;31m---------------------------------------------------------------------------\u001b[0m",
      "\u001b[1;31mTypeError\u001b[0m                                 Traceback (most recent call last)",
      "\u001b[1;32mC:\\Users\\SURYAN~1\\AppData\\Local\\Temp/ipykernel_21912/1774935878.py\u001b[0m in \u001b[0;36m<module>\u001b[1;34m\u001b[0m\n\u001b[1;32m----> 1\u001b[1;33m \u001b[1;34m'I have eaten '\u001b[0m \u001b[1;33m+\u001b[0m \u001b[1;36m99\u001b[0m \u001b[1;33m+\u001b[0m \u001b[1;34m' burritos.'\u001b[0m\u001b[1;33m\u001b[0m\u001b[1;33m\u001b[0m\u001b[0m\n\u001b[0m",
      "\u001b[1;31mTypeError\u001b[0m: can only concatenate str (not \"int\") to str"
     ]
    }
   ],
   "source": [
    "'I have eaten ' + 99 + ' burritos.'"
   ]
  },
  {
   "cell_type": "code",
   "execution_count": 20,
   "id": "78a50a4d",
   "metadata": {},
   "outputs": [
    {
     "data": {
      "text/plain": [
       "'I have eaten 99 burritos.'"
      ]
     },
     "execution_count": 20,
     "metadata": {},
     "output_type": "execute_result"
    }
   ],
   "source": [
    "'I have eaten ' + str(99) + ' burritos.'"
   ]
  }
 ],
 "metadata": {
  "kernelspec": {
   "display_name": "Python 3 (ipykernel)",
   "language": "python",
   "name": "python3"
  },
  "language_info": {
   "codemirror_mode": {
    "name": "ipython",
    "version": 3
   },
   "file_extension": ".py",
   "mimetype": "text/x-python",
   "name": "python",
   "nbconvert_exporter": "python",
   "pygments_lexer": "ipython3",
   "version": "3.9.7"
  }
 },
 "nbformat": 4,
 "nbformat_minor": 5
}
