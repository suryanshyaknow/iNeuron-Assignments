{
 "cells": [
  {
   "cell_type": "code",
   "execution_count": 1,
   "id": "e5c3eeb0",
   "metadata": {},
   "outputs": [],
   "source": [
    "import logging as lg\n",
    "\n",
    "lg.basicConfig(level=lg.INFO)"
   ]
  },
  {
   "cell_type": "markdown",
   "id": "88ddc0ef",
   "metadata": {},
   "source": [
    "### 1.\n",
    "Create a function that takes a number as an argument and returns True or False depending\n",
    "on whether the number is symmetrical or not. A number is symmetrical when it is the same as\n",
    "its reverse.\n",
    "\n",
    "**Examples:**\n",
    "    \n",
    "is_symmetrical(7227) ➞ True<br>\n",
    "is_symmetrical(12567) ➞ False<br>\n",
    "is_symmetrical(44444444) ➞ True<br>\n",
    "is_symmetrical(9939) ➞ False<br>\n",
    "is_symmetrical(1112111) ➞ True<br>"
   ]
  },
  {
   "cell_type": "code",
   "execution_count": 2,
   "id": "d25283c0",
   "metadata": {},
   "outputs": [],
   "source": [
    "def is_symmetrical(num: int) -> bool:\n",
    "    try:\n",
    "        num = str(num)\n",
    "        rev = num[::-1]\n",
    "        return num == rev\n",
    "        ...\n",
    "    except Exception as e:\n",
    "        lg.exception(e)\n",
    "        "
   ]
  },
  {
   "cell_type": "code",
   "execution_count": 3,
   "id": "1c6bdb40",
   "metadata": {},
   "outputs": [],
   "source": [
    "def is_symmetrical(num: int) -> bool:\n",
    "    try:\n",
    "        n = num\n",
    "        rev = 0\n",
    "        while n:\n",
    "            r = n%10            \n",
    "            rev = rev*10 + r\n",
    "            n = n//10\n",
    "        return num == rev\n",
    "        ...\n",
    "    except Exception as e:\n",
    "        lg.exception(e)"
   ]
  },
  {
   "cell_type": "code",
   "execution_count": 4,
   "id": "3dc1d65d",
   "metadata": {},
   "outputs": [
    {
     "name": "stdout",
     "output_type": "stream",
     "text": [
      "True\n",
      "False\n",
      "True\n",
      "False\n",
      "True\n"
     ]
    }
   ],
   "source": [
    "## Examples:\n",
    "\n",
    "print(is_symmetrical(7227))\n",
    "print(is_symmetrical(12567))\n",
    "print(is_symmetrical(44444444))\n",
    "print(is_symmetrical(9939))\n",
    "print(is_symmetrical(1112111))"
   ]
  },
  {
   "cell_type": "markdown",
   "id": "a0907141",
   "metadata": {},
   "source": [
    "### 2.\n",
    "Given a string of numbers separated by a comma and space, return the product of the\n",
    "numbers.\n",
    "\n",
    "**Examples:**\n",
    "    \n",
    "multiply_nums(&quot;2, 3&quot;) ➞ 6<br>\n",
    "multiply_nums(&quot;1, 2, 3, 4&quot;) ➞ 24<br>\n",
    "multiply_nums(&quot;54, 75, 453, 0&quot;) ➞ 0<br>\n",
    "multiply_nums(&quot;10, -2&quot;) ➞ -20"
   ]
  },
  {
   "cell_type": "code",
   "execution_count": 5,
   "id": "d4da7f15",
   "metadata": {},
   "outputs": [],
   "source": [
    "def multiply_nums(nums: str) -> float:\n",
    "    try:\n",
    "        nums = nums.split(\",\")\n",
    "        nums = [int(i) for i in nums]\n",
    "        prod = 1\n",
    "        for num in nums:\n",
    "            prod*=num\n",
    "        return prod\n",
    "        ...\n",
    "    except Exception as e:\n",
    "        lg.exception(e)"
   ]
  },
  {
   "cell_type": "code",
   "execution_count": 6,
   "id": "977bfa65",
   "metadata": {},
   "outputs": [
    {
     "name": "stdout",
     "output_type": "stream",
     "text": [
      "6\n",
      "24\n",
      "0\n",
      "-20\n"
     ]
    }
   ],
   "source": [
    "## Examples\n",
    "\n",
    "print(multiply_nums(\"2, 3\"))\n",
    "print(multiply_nums(\"1, 2, 3, 4\"))\n",
    "print(multiply_nums(\"54, 75, 453, 0\"))\n",
    "print(multiply_nums(\"10, -2\"))"
   ]
  },
  {
   "cell_type": "markdown",
   "id": "b852e01a",
   "metadata": {},
   "source": [
    "### 3.\n",
    "Create a function that squares every digit of a number.\n",
    "\n",
    "**Examples:**\n",
    "    \n",
    "square_digits(9119) ➞ 811181<br>\n",
    "square_digits(2483) ➞ 416649<br>\n",
    "square_digits(3212) ➞ 9414<br>\n",
    "\n",
    "**Note:** The function receives an integer and must return an integer."
   ]
  },
  {
   "cell_type": "code",
   "execution_count": 7,
   "id": "74aa7dec",
   "metadata": {},
   "outputs": [],
   "source": [
    "def square_digits(num: int) -> int:\n",
    "    try:\n",
    "        str_num = str(num)\n",
    "        sq = \"\"\n",
    "        for d in str_num:\n",
    "            sq+=str(int(d)**2)\n",
    "        return int(sq)\n",
    "        ...\n",
    "    except Exception as e:\n",
    "        lg.exception(e)"
   ]
  },
  {
   "cell_type": "code",
   "execution_count": 8,
   "id": "400a1552",
   "metadata": {},
   "outputs": [],
   "source": [
    "import math\n",
    "\n",
    "def square_digits(num: int) -> int:\n",
    "    try:\n",
    "        n = num   \n",
    "\n",
    "        ## Reverse the number\n",
    "        rev = 0\n",
    "        while n:\n",
    "            r = n%10\n",
    "            rev = rev*10 + r\n",
    "            n = n//10\n",
    "            \n",
    "        ## Prepare the desired squared digited number\n",
    "        sq = 0\n",
    "        while rev:\n",
    "            r = rev%10\n",
    "            if int(math.log10(r**2)+1) == 2:  ## count the number of digits of square\n",
    "                sq = sq*100 + r**2\n",
    "            else:\n",
    "                sq = sq*10 + r**2\n",
    "            rev = rev//10\n",
    "            \n",
    "        return sq\n",
    "        ...\n",
    "    except Exception as e:\n",
    "        lg.exception(e)"
   ]
  },
  {
   "cell_type": "code",
   "execution_count": 9,
   "id": "5356febc",
   "metadata": {},
   "outputs": [
    {
     "name": "stdout",
     "output_type": "stream",
     "text": [
      "811181\n",
      "416649\n",
      "9414\n"
     ]
    }
   ],
   "source": [
    "## Examples\n",
    "\n",
    "print(square_digits(9119))\n",
    "print(square_digits(2483))\n",
    "print(square_digits(3212))"
   ]
  },
  {
   "cell_type": "markdown",
   "id": "7df3b75b",
   "metadata": {},
   "source": [
    "### 4.\n",
    "Create a function that sorts a list and removes all duplicate items from it.\n",
    "\n",
    "**Examples:**\n",
    "\n",
    "setify([1, 3, 3, 5, 5]) ➞ [1, 3, 5]<br>\n",
    "setify([4, 4, 4, 4]) ➞ [4]<br>\n",
    "setify([5, 7, 8, 9, 10, 15]) ➞ [5, 7, 8, 9, 10, 15]<br>\n",
    "setify([3, 3, 3, 2, 1]) ➞ [1, 2, 3]<br>"
   ]
  },
  {
   "cell_type": "code",
   "execution_count": 10,
   "id": "99c1d73b",
   "metadata": {},
   "outputs": [],
   "source": [
    "from typing import List\n",
    "\n",
    "def setify(lst: list) -> List:\n",
    "    try:\n",
    "        return list(sorted(set(lst)))\n",
    "        ...\n",
    "    except Exception as e:\n",
    "        lg.exception(e)"
   ]
  },
  {
   "cell_type": "code",
   "execution_count": 11,
   "id": "e52e18f5",
   "metadata": {},
   "outputs": [
    {
     "name": "stdout",
     "output_type": "stream",
     "text": [
      "[1, 3, 5]\n",
      "[4]\n",
      "[5, 7, 8, 9, 10, 15]\n",
      "[1, 2, 3]\n"
     ]
    }
   ],
   "source": [
    "## Examples:\n",
    "\n",
    "print(setify([1, 3, 3, 5, 5]))\n",
    "print(setify([4, 4, 4, 4]))\n",
    "print(setify([5, 7, 8, 9, 10, 15]))\n",
    "print(setify([3, 3, 3, 2, 1])) "
   ]
  },
  {
   "cell_type": "markdown",
   "id": "1cfbcb88",
   "metadata": {},
   "source": [
    "### 5.\n",
    "Create a function that returns the mean of all digits.\n",
    "\n",
    "**Examples:**\n",
    "    \n",
    "mean(42) ➞ 3<br>\n",
    "mean(12345) ➞ 3<br>\n",
    "mean(666) ➞ 6<br>\n",
    "\n",
    "**Notes:**\n",
    "\n",
    "- The mean of all digits is the sum of digits / how many digits there are (e.g. mean of digits in\n",
    "512 is (5+1+2)/3(number of digits) = 8/3=2).\n",
    "- The mean will always be an integer."
   ]
  },
  {
   "cell_type": "code",
   "execution_count": 12,
   "id": "0143933e",
   "metadata": {},
   "outputs": [],
   "source": [
    "import math\n",
    "\n",
    "def mean(num: int) -> int:\n",
    "    try:\n",
    "        n = num\n",
    "        n_digits = int(math.log10(num)+1)\n",
    "        sum_ = 0\n",
    "        while n:\n",
    "            sum_ += n%10\n",
    "            n = n//10\n",
    "        return int(sum_/n_digits)\n",
    "        ...\n",
    "    except Exception as e:\n",
    "        lg.exception(e)"
   ]
  },
  {
   "cell_type": "code",
   "execution_count": 13,
   "id": "0b3c1658",
   "metadata": {},
   "outputs": [
    {
     "name": "stdout",
     "output_type": "stream",
     "text": [
      "3\n",
      "3\n",
      "6\n"
     ]
    }
   ],
   "source": [
    "## Examples:\n",
    "\n",
    "print(mean(42))\n",
    "print(mean(12345))\n",
    "print(mean(666))"
   ]
  }
 ],
 "metadata": {
  "kernelspec": {
   "display_name": "Python 3 (ipykernel)",
   "language": "python",
   "name": "python3"
  },
  "language_info": {
   "codemirror_mode": {
    "name": "ipython",
    "version": 3
   },
   "file_extension": ".py",
   "mimetype": "text/x-python",
   "name": "python",
   "nbconvert_exporter": "python",
   "pygments_lexer": "ipython3",
   "version": "3.9.12"
  }
 },
 "nbformat": 4,
 "nbformat_minor": 5
}
