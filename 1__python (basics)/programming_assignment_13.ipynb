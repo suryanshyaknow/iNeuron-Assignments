{
 "cells": [
  {
   "cell_type": "markdown",
   "id": "553962a6",
   "metadata": {},
   "source": [
    "### 1. \n",
    "Write a program that calculates and prints the value according to the given formula:<br>Q = Square root of [(2 * C * D)/H]\n",
    "\n",
    "Following are the fixed values of C and H: C is 50. H is 30. D is the variable whose values should be input to your program in a comma-separated\n",
    "sequence.\n",
    "\n",
    "Let us assume the following comma separated input sequence is given to the program: `100,150,180`. The output of the program should be: `18,22,24`"
   ]
  },
  {
   "cell_type": "code",
   "execution_count": 1,
   "id": "c1f86e45",
   "metadata": {},
   "outputs": [],
   "source": [
    "import numpy as np\n",
    "from typing import Tuple\n",
    "\n",
    "def get_Q(*args) -> Tuple:\n",
    "    try:\n",
    "        Q = []\n",
    "        c = 50\n",
    "        h = 30        \n",
    "        for d in args:\n",
    "            Q.append(int(np.sqrt(2*c*d/h)))\n",
    "        return tuple(Q)            \n",
    "    except Exception as e:\n",
    "        print(e)"
   ]
  },
  {
   "cell_type": "code",
   "execution_count": 2,
   "id": "40f3bce3",
   "metadata": {},
   "outputs": [
    {
     "data": {
      "text/plain": [
       "(18, 22, 24)"
      ]
     },
     "execution_count": 2,
     "metadata": {},
     "output_type": "execute_result"
    }
   ],
   "source": [
    "get_Q(100, 150, 180)"
   ]
  },
  {
   "cell_type": "markdown",
   "id": "ef33e28f",
   "metadata": {},
   "source": [
    "### 2.\n",
    "Write a program which takes 2 digits, X, Y as input and generates a 2-dimensional array. The element value in the i-th row and j-th column of the array should be i*j.\n",
    "\n",
    "**Note:** \n",
    "**i** = 0,1,...,X-1; **j** = 0,1,...,Y-1.\n",
    "\n",
    "\n",
    "**Example:** Suppose the following inputs are given to the program: `3, 5`\n",
    "\n",
    "Then, the output of the program should be:\n",
    "`[[0, 0, 0, 0, 0], [0, 1, 2, 3, 4], [0, 2, 4, 6, 8]]`"
   ]
  },
  {
   "cell_type": "code",
   "execution_count": 3,
   "id": "c04d1a86",
   "metadata": {},
   "outputs": [],
   "source": [
    "def generate_2D_array(X, Y) -> np.array:\n",
    "    try:\n",
    "        arr = []\n",
    "        for i in range(X):\n",
    "            temp = []\n",
    "            for j in range(Y):\n",
    "                temp.append(i*j)\n",
    "            arr.append(temp)\n",
    "        return np.array(arr)\n",
    "        ...\n",
    "    except Exception as e:\n",
    "        print(e)"
   ]
  },
  {
   "cell_type": "code",
   "execution_count": 4,
   "id": "0734c916",
   "metadata": {},
   "outputs": [
    {
     "data": {
      "text/plain": [
       "array([[0, 0, 0, 0, 0],\n",
       "       [0, 1, 2, 3, 4],\n",
       "       [0, 2, 4, 6, 8]])"
      ]
     },
     "execution_count": 4,
     "metadata": {},
     "output_type": "execute_result"
    }
   ],
   "source": [
    "generate_2D_array(3, 5)"
   ]
  },
  {
   "cell_type": "markdown",
   "id": "8fa713b6",
   "metadata": {},
   "source": [
    "### 3.\n",
    "Write a program that accepts a comma separated sequence of words as input and prints the words in a comma-separated sequence after sorting them alphabetically.\n",
    "\n",
    "Suppose the following input is supplied to the program: `without, hello, bag, world`\n",
    "\n",
    "Then, the output should be: `bag, hello, without, world`"
   ]
  },
  {
   "cell_type": "code",
   "execution_count": 5,
   "id": "774327cb",
   "metadata": {},
   "outputs": [],
   "source": [
    "def sort_words(*words: str) -> Tuple:\n",
    "    try:\n",
    "        return sorted(words)\n",
    "        ...\n",
    "    except Exception as e:\n",
    "        print(e)"
   ]
  },
  {
   "cell_type": "code",
   "execution_count": 6,
   "id": "19ff1e42",
   "metadata": {},
   "outputs": [
    {
     "data": {
      "text/plain": [
       "['bag', 'hello', 'without', 'world']"
      ]
     },
     "execution_count": 6,
     "metadata": {},
     "output_type": "execute_result"
    }
   ],
   "source": [
    "sort_words(\"without\", \"hello\", \"bag\", \"world\")"
   ]
  },
  {
   "cell_type": "markdown",
   "id": "53a52f2b",
   "metadata": {},
   "source": [
    "### 4.\n",
    "Write a program that accepts a sequence of whitespace separated words as input and prints the words after removing all duplicate words and sorting them alphanumerically.\n",
    "\n",
    "Suppose the following input is supplied to the program: `hello world and practice makes perfect and hello world again`\n",
    "\n",
    "Then, the output should be: `again and hello makes perfect practice world`"
   ]
  },
  {
   "cell_type": "code",
   "execution_count": 7,
   "id": "3f36763c",
   "metadata": {},
   "outputs": [],
   "source": [
    "def remove_dups_and_sort(string: str) -> str:\n",
    "    try:\n",
    "        words = [*set(string.split())]  # duplicated removed\n",
    "        return \" \".join(words)\n",
    "        ...\n",
    "    except Exception as e:\n",
    "        print(e)"
   ]
  },
  {
   "cell_type": "code",
   "execution_count": 8,
   "id": "717e71d1",
   "metadata": {},
   "outputs": [
    {
     "data": {
      "text/plain": [
       "'hello makes again perfect and practice world'"
      ]
     },
     "execution_count": 8,
     "metadata": {},
     "output_type": "execute_result"
    }
   ],
   "source": [
    "remove_dups_and_sort(string=\"hello world and practice makes perfect and hello world again\")"
   ]
  },
  {
   "cell_type": "markdown",
   "id": "27b374d4",
   "metadata": {},
   "source": [
    "### 5. \n",
    "Write a program that accepts a sentence and calculate the number of letters and digits.\n",
    "\n",
    "Suppose the following input is supplied to the program: `hello world! 123`\n",
    "\n",
    "Then, the output should be: `LETTERS 10 DIGITS 3`"
   ]
  },
  {
   "cell_type": "code",
   "execution_count": 9,
   "id": "338405ac",
   "metadata": {},
   "outputs": [],
   "source": [
    "def calc_letters_digits(sentence: str) -> str:\n",
    "    try:\n",
    "        letters = 0\n",
    "        digits = 0\n",
    "        \n",
    "        for i in sentence:\n",
    "            if i.isdigit():\n",
    "                digits+=1\n",
    "            elif i.isalpha():\n",
    "                letters+=1\n",
    "            else:\n",
    "                pass\n",
    "            \n",
    "        return f\"LETTERS {letters} DIGITS {digits}\"\n",
    "        ...\n",
    "    except Exception as e:\n",
    "        print(e)"
   ]
  },
  {
   "cell_type": "code",
   "execution_count": 10,
   "id": "e4eed322",
   "metadata": {},
   "outputs": [
    {
     "data": {
      "text/plain": [
       "'LETTERS 10 DIGITS 3'"
      ]
     },
     "execution_count": 10,
     "metadata": {},
     "output_type": "execute_result"
    }
   ],
   "source": [
    "calc_letters_digits(sentence=\"hello world! 123\")"
   ]
  },
  {
   "cell_type": "markdown",
   "id": "ed81d383",
   "metadata": {},
   "source": [
    "### 6.\n",
    "A website requires the users to input username and password to register. Write a program to check the validity of password input by users. Following are the criteria for checking the password:\n",
    "1. At least 1 letter between [a-z]\n",
    "2. At least 1 number between [0-9]\n",
    "3. At least 1 letter between [A-Z]\n",
    "4. At least 1 character from [$#@]\n",
    "5. Minimum length of transaction password: 6\n",
    "6. Maximum length of transaction password: 12\n",
    "\n",
    "Your program should accept a sequence of comma separated passwords and will check them\n",
    "according to the above criteria. Passwords that match the criteria are to be printed, each\n",
    "separated by a comma.\n",
    "\n",
    "**Example:**\n",
    "If the following passwords are given as input to the program: `ABd1234@1, a F1#, 2w3E*, 2We3345`\n",
    "\n",
    "Then, the output of the program should be: `ABd1234@1`"
   ]
  },
  {
   "cell_type": "code",
   "execution_count": 11,
   "id": "d0ec48e4",
   "metadata": {},
   "outputs": [],
   "source": [
    "import re\n",
    "\n",
    "def validate_passwords(*passwords) -> Tuple:\n",
    "    try:\n",
    "        validated = []\n",
    "        for i in passwords:\n",
    "            if 6 <= len(i) <= 12:\n",
    "                res = 1\n",
    "                checks = [bool(re.findall('[a-z]', i)), bool(re.findall('[A-Z]', i)), bool(re.findall('[0-9]', i)), \n",
    "                          bool(re.findall('[$#@]', i))]\n",
    "                if sum(checks) >= 4:\n",
    "                    validated.append(i)\n",
    "                \n",
    "        return tuple(validated)\n",
    "        ...\n",
    "    except Exception as e:\n",
    "        print(e)\n",
    "        raise e"
   ]
  },
  {
   "cell_type": "code",
   "execution_count": 12,
   "id": "fc940791",
   "metadata": {},
   "outputs": [
    {
     "data": {
      "text/plain": [
       "('ABd1234@1',)"
      ]
     },
     "execution_count": 12,
     "metadata": {},
     "output_type": "execute_result"
    }
   ],
   "source": [
    "validate_passwords(\"ABd1234@1\", \"a F1#\", \"2w3E*\", \"2We3345\")"
   ]
  }
 ],
 "metadata": {
  "kernelspec": {
   "display_name": "Python 3 (ipykernel)",
   "language": "python",
   "name": "python3"
  },
  "language_info": {
   "codemirror_mode": {
    "name": "ipython",
    "version": 3
   },
   "file_extension": ".py",
   "mimetype": "text/x-python",
   "name": "python",
   "nbconvert_exporter": "python",
   "pygments_lexer": "ipython3",
   "version": "3.9.12"
  }
 },
 "nbformat": 4,
 "nbformat_minor": 5
}
