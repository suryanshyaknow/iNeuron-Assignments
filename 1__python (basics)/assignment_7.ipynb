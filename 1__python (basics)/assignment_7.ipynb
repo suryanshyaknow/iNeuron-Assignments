{
 "cells": [
  {
   "cell_type": "markdown",
   "id": "fe91f73e",
   "metadata": {},
   "source": [
    "### 1. What is the name of the feature responsible for generating Regex objects?"
   ]
  },
  {
   "cell_type": "markdown",
   "id": "df272c02",
   "metadata": {},
   "source": [
    "The **re.compile()** function returns Regex objects **which can be used for matching using its match(), search() and other methods.**"
   ]
  },
  {
   "cell_type": "code",
   "execution_count": 2,
   "id": "f49010cf",
   "metadata": {},
   "outputs": [
    {
     "data": {
      "text/plain": [
       "re.compile(r'The name of the feature responsible for generating Regex objects.',\n",
       "re.UNICODE)"
      ]
     },
     "execution_count": 2,
     "metadata": {},
     "output_type": "execute_result"
    }
   ],
   "source": [
    "import re\n",
    "\n",
    "s = \"The name of the feature responsible for generating Regex objects.\"\n",
    "re.compile(s)"
   ]
  },
  {
   "cell_type": "markdown",
   "id": "a293199f",
   "metadata": {},
   "source": [
    "### 2. Why do raw strings often appear in Regex objects?"
   ]
  },
  {
   "cell_type": "markdown",
   "id": "10940c38",
   "metadata": {},
   "source": [
    "So that backslashes do not have to be escaped.\n",
    "\n",
    "According to Python docs, **raw string notation (r\"text\")** keeps regular expressions meaningful and confusion-free. Without it, every backslash ('\\\\') in a regular expression would have to be prefixed with another one to escape it. "
   ]
  },
  {
   "cell_type": "markdown",
   "id": "5de41a6e",
   "metadata": {},
   "source": [
    "### 3. What is the return value of the search() method?"
   ]
  },
  {
   "cell_type": "markdown",
   "id": "82af96fb",
   "metadata": {},
   "source": [
    "**search() method** returns a **Match object** if there is a match anywhere in the string."
   ]
  },
  {
   "cell_type": "markdown",
   "id": "99fa89b6",
   "metadata": {},
   "source": [
    "### 4. From a Match item, how do you get the actual strings that match the pattern?"
   ]
  },
  {
   "cell_type": "markdown",
   "id": "204a756b",
   "metadata": {},
   "source": [
    "The **Match** object has properties and methods used to retrieve information about the search, and the result, viz:\n",
    "\n",
    "- **.span()** returns a tuple containing the start-, and end positions of the match.\n",
    "- **.string** returns the string passed into the function.\n",
    "- **.group()** returns the part of the string where there was a match."
   ]
  },
  {
   "cell_type": "code",
   "execution_count": 12,
   "id": "b193819a",
   "metadata": {},
   "outputs": [
    {
     "name": "stdout",
     "output_type": "stream",
     "text": [
      "Returns a match object where the x doesn't contain digits.\n",
      "(0, 1)\n",
      "R\n"
     ]
    }
   ],
   "source": [
    "s = \"Returns a match object where the x doesn't contain digits.\"\n",
    "x = re.search(\"\\D\", s) #returns a match object where the x doesn't contain digits.\n",
    "\n",
    "print(x.string)\n",
    "print(x.span())\n",
    "print(x.group())"
   ]
  },
  {
   "cell_type": "markdown",
   "id": "6f930e3b",
   "metadata": {},
   "source": [
    "### 5. In the regex which is created from the r&#39;(\\d\\d\\d)-(\\d\\d\\d-\\d\\d\\d\\d)&#39;, what does group zero cover? Group 2? Group 1?"
   ]
  },
  {
   "cell_type": "markdown",
   "id": "6640090e",
   "metadata": {},
   "source": [
    "**Group 0 is the entire match, group 1 covers the first set of parentheses, and group 2 covers the second set of parentheses.**"
   ]
  },
  {
   "cell_type": "markdown",
   "id": "55751c87",
   "metadata": {},
   "source": [
    "### 6. In standard expression syntax, parentheses and intervals have distinct meanings. How can you tell a regex that you want it to fit real parentheses and periods?"
   ]
  },
  {
   "cell_type": "markdown",
   "id": "40c52144",
   "metadata": {},
   "source": [
    "By using them with escape character **'\\\\'.**"
   ]
  },
  {
   "cell_type": "markdown",
   "id": "81a02120",
   "metadata": {},
   "source": [
    "### 7. The findall() method returns a string list or a list of string tuples. What causes it to return one of \"the two options?"
   ]
  },
  {
   "cell_type": "markdown",
   "id": "ff2863a1",
   "metadata": {},
   "source": [
    "The result depends on the **number of capturing groups in the pattern**. \n",
    "- If there are no groups, return a list of strings matching the whole pattern. \n",
    "- If there is exactly one group, return a list of strings matching that group.\n",
    "- If **multiple groups** are present, **return a list of tuples of strings matching the groups**. Non-capturing groups do not affect the form of the result."
   ]
  },
  {
   "cell_type": "code",
   "execution_count": 8,
   "id": "cd37a749",
   "metadata": {},
   "outputs": [
    {
     "data": {
      "text/plain": [
       "['foot', 'fell', 'fastest']"
      ]
     },
     "execution_count": 8,
     "metadata": {},
     "output_type": "execute_result"
    }
   ],
   "source": [
    "re.findall(r'\\bf[a-z]*', 'which foot or hand fell fastest?')"
   ]
  },
  {
   "cell_type": "code",
   "execution_count": 12,
   "id": "b9bc6604",
   "metadata": {},
   "outputs": [
    {
     "data": {
      "text/plain": [
       "[('width', '20'), ('height', '10')]"
      ]
     },
     "execution_count": 12,
     "metadata": {},
     "output_type": "execute_result"
    }
   ],
   "source": [
    "re.findall(r'(\\w+)=(\\d+)', 'set width=20 and height=10')"
   ]
  },
  {
   "cell_type": "markdown",
   "id": "cbcf5e6c",
   "metadata": {},
   "source": [
    "### 8. In standard expressions, what does the | character mean?"
   ]
  },
  {
   "cell_type": "markdown",
   "id": "53b71a2b",
   "metadata": {},
   "source": [
    "**OR** i.e. either one or other or both."
   ]
  },
  {
   "cell_type": "markdown",
   "id": "fb18384a",
   "metadata": {},
   "source": [
    "### 9. In regular expressions, what does the character stand for?"
   ]
  },
  {
   "cell_type": "markdown",
   "id": "896f8770",
   "metadata": {},
   "source": [
    "What does **which** character stands for?! Didn't get the question.."
   ]
  },
  {
   "cell_type": "markdown",
   "id": "f8cd877c",
   "metadata": {},
   "source": [
    "### 10.In regular expressions, what is the difference between the + and * characters?"
   ]
  },
  {
   "cell_type": "markdown",
   "id": "4403a71a",
   "metadata": {},
   "source": [
    "These both are **meta characters** having special meaning, viz.:\n",
    "\n",
    "- **\\*** ---------> Zero or more occurrences.<br>\n",
    "\"he.*o\"\n",
    "- **\\+** ---------> One or more occurrences.<br>\n",
    "\"he.+o\""
   ]
  },
  {
   "cell_type": "markdown",
   "id": "488a4153",
   "metadata": {},
   "source": [
    "### 11. What is the difference between {4} and {4,5} in regular expression?"
   ]
  },
  {
   "cell_type": "markdown",
   "id": "d2935aba",
   "metadata": {},
   "source": [
    "**{n}** describes exactly the specified **n** number of occurences."
   ]
  },
  {
   "cell_type": "code",
   "execution_count": 75,
   "id": "f53f79b5",
   "metadata": {},
   "outputs": [
    {
     "data": {
      "text/plain": [
       "['mayhem']"
      ]
     },
     "execution_count": 75,
     "metadata": {},
     "output_type": "execute_result"
    }
   ],
   "source": [
    "x=\"Ain't no way I'ma let you cause mayhem.\"\n",
    "\n",
    "#returns a list containing a match starting and ending with m and having exactly 4 words in between. \n",
    "re.findall(\"m.{4}m\", x)"
   ]
  },
  {
   "cell_type": "code",
   "execution_count": 77,
   "id": "e93899bc",
   "metadata": {},
   "outputs": [
    {
     "data": {
      "text/plain": [
       "['ma let', 'mayhem']"
      ]
     },
     "execution_count": 77,
     "metadata": {},
     "output_type": "execute_result"
    }
   ],
   "source": [
    "#returns a list containing matches starting w 'm' and any 4 to 5 characters afterwards except newline.\n",
    "re.findall(\"m.{4,5}\", x)"
   ]
  },
  {
   "cell_type": "markdown",
   "id": "4afb05c1",
   "metadata": {},
   "source": [
    "### 12. What do you mean by the \\d, \\w, and \\s shorthand character classes signify in regular expressions?"
   ]
  },
  {
   "cell_type": "markdown",
   "id": "c6bb525c",
   "metadata": {},
   "source": [
    "- **\\\\d : Returns a match where the string contains digits. (numbers from 0-9).**\n",
    "- **\\\\w : Returns a match where the string contains any word characters (characters from a to Z, digits from 0-9, and the underscore _ character).**\n",
    "- **\\\\s : Returns a match where the string contains a white space character.**"
   ]
  },
  {
   "cell_type": "markdown",
   "id": "f8377ec7",
   "metadata": {},
   "source": [
    "### 13. What do means by \\D, \\W, and \\S shorthand character classes signify in regular expressions?"
   ]
  },
  {
   "cell_type": "markdown",
   "id": "132dd746",
   "metadata": {},
   "source": [
    "- **\\\\D : Returns a match where the string DOES NOT contain digits.**\n",
    "- **\\\\W : Returns a match where the string DOES NOT contain any word characters.**\n",
    "- **\\\\S: Returns a match where the string DOES NOT contain a white space character.** "
   ]
  },
  {
   "cell_type": "markdown",
   "id": "50683176",
   "metadata": {},
   "source": [
    "### 14. What is the difference between .\\*? and .\\*?"
   ]
  },
  {
   "cell_type": "markdown",
   "id": "ce52f626",
   "metadata": {},
   "source": [
    "I'm assuming here, the difference is asked between **.?** and **.\\*?**.\n",
    "\n",
    "- **.?: Staring with any character followed by zero or one occurence of any character.** \n",
    "- **.\\*?: Starting with any character followed by zero or more occurence of any character again followed but this time by zero or one occurence of any character.**"
   ]
  },
  {
   "cell_type": "markdown",
   "id": "5171bf63",
   "metadata": {},
   "source": [
    "### 15. What is the syntax for matching both numbers and lowercase letters with a character class?"
   ]
  },
  {
   "cell_type": "markdown",
   "id": "e4111ce4",
   "metadata": {},
   "source": [
    "**\\w**, that will return a match where the string contains any word characters (characters from a to Z, digits from 0-9, and the underscore _ character)."
   ]
  },
  {
   "cell_type": "code",
   "execution_count": 81,
   "id": "9a44a16d",
   "metadata": {},
   "outputs": [
    {
     "name": "stdout",
     "output_type": "stream",
     "text": [
      "['I', 'a', 'i', 'n', 't', 'g', 'o', 'n', 'o', '5', '0', '0', 'y', 'o', 'u', 'g', 'o', 't', 't', 'a', 'u', 'n', 'd', 'e', 'r', 's', 't', 'a', 'n', 'd', 't', 'h', 'a', 't']\n"
     ]
    }
   ],
   "source": [
    "x = \"I ain't go no $500, you gotta understand that!\"\n",
    "\n",
    "print(re.findall(\"\\w\", x))"
   ]
  },
  {
   "cell_type": "markdown",
   "id": "2218108e",
   "metadata": {},
   "source": [
    "### 16. What is the procedure for making a normal expression in regex case insensitive?"
   ]
  },
  {
   "cell_type": "markdown",
   "id": "62ef6a3c",
   "metadata": {},
   "source": [
    "**re.IGNORECASE**: This flag allows for case-insensitive matching of the Regular Expression with the given string i.e. expressions like [A-Z] will match lowercase letters, too.<br>\n",
    "**Generally, It’s passed as an optional argument to re.compile().**"
   ]
  },
  {
   "cell_type": "markdown",
   "id": "c8f72afc",
   "metadata": {},
   "source": [
    "### 17. What does the . character normally match? What does it match if re.DOTALL is passed as 2nd argument in re.compile()?"
   ]
  },
  {
   "cell_type": "markdown",
   "id": "9a02464b",
   "metadata": {},
   "source": [
    "Typically, **.** character can match any kind of single character provided that it won't be a **\\n**.<br>\n",
    "<br>\n",
    "But using **DOTALL flag**, we can extend its functionality.<br>\n",
    "**With the help of DOTALL flag the ‘.’ character can match any character including newline.**\n",
    "<br><br>\n",
    "While working on real-life projects there may arise scenarios where we have to process multi-line strings(separated by newline characters – ‘\\n’). In such situations, we use re.DOTALL."
   ]
  },
  {
   "cell_type": "code",
   "execution_count": 97,
   "id": "feed969d",
   "metadata": {},
   "outputs": [
    {
     "data": {
      "text/plain": [
       "re.compile(r\"slknvfk;sngko;aen\\nv;akegmnoiqm'\\nmbpoqeopbnmk\", re.UNICODE)"
      ]
     },
     "execution_count": 97,
     "metadata": {},
     "output_type": "execute_result"
    }
   ],
   "source": [
    "#without re.DOTALL\n",
    "s=\"slknvfk;sngko;aen\\nv;akegmnoiqm'\\nmbpoqeopbnmk\"\n",
    "re.compile(s)"
   ]
  },
  {
   "cell_type": "code",
   "execution_count": 98,
   "id": "cabca9a8",
   "metadata": {},
   "outputs": [
    {
     "data": {
      "text/plain": [
       "re.compile(r\"slknvfk;sngko;aen\\nv;akegmnoiqm'\\nmbpoqeopbnmk\",\n",
       "re.DOTALL|re.UNICODE)"
      ]
     },
     "execution_count": 98,
     "metadata": {},
     "output_type": "execute_result"
    }
   ],
   "source": [
    "#with re.DOTALL\n",
    "s=\"slknvfk;sngko;aen\\nv;akegmnoiqm'\\nmbpoqeopbnmk\"\n",
    "re.compile(s, re.DOTALL)"
   ]
  },
  {
   "cell_type": "markdown",
   "id": "b4ac3f3f",
   "metadata": {},
   "source": [
    "### 18. If numReg = re.compile(r&#39;\\d+&#39;), what will numReg.sub(&#39;X&#39;, &#39;11 drummers, 10 pipers, five rings, 4hen&#39;) return?"
   ]
  },
  {
   "cell_type": "markdown",
   "id": "2d84199e",
   "metadata": {},
   "source": [
    "**So, basically this**"
   ]
  },
  {
   "cell_type": "code",
   "execution_count": 106,
   "id": "65b9fff5",
   "metadata": {},
   "outputs": [
    {
     "data": {
      "text/plain": [
       "'X drummers, X pipers, five rings, Xhen'"
      ]
     },
     "execution_count": 106,
     "metadata": {},
     "output_type": "execute_result"
    }
   ],
   "source": [
    "numReg = re.compile(r'\\d+') #creating a regex object.\n",
    "numReg.sub('X', '11 drummers, 10 pipers, five rings, 4hen')"
   ]
  },
  {
   "cell_type": "markdown",
   "id": "88aca407",
   "metadata": {},
   "source": [
    "**is same as**"
   ]
  },
  {
   "cell_type": "code",
   "execution_count": 105,
   "id": "4d774dc8",
   "metadata": {},
   "outputs": [
    {
     "data": {
      "text/plain": [
       "'X drummers, X pipers, five rings, Xhen'"
      ]
     },
     "execution_count": 105,
     "metadata": {},
     "output_type": "execute_result"
    }
   ],
   "source": [
    "re.sub(\"\\d+\", 'X', '11 drummers, 10 pipers, five rings, 4hen')"
   ]
  },
  {
   "cell_type": "markdown",
   "id": "0d57f87e",
   "metadata": {},
   "source": [
    "What exactly done is here is that by the virtue of re.sub() function every digit character **followed by one or more character** is replaced by character **X** in the given string."
   ]
  },
  {
   "cell_type": "markdown",
   "id": "e3384ac7",
   "metadata": {},
   "source": [
    "### 19. What does passing re.VERBOSE as the 2nd argument to re.compile() allow to do?"
   ]
  },
  {
   "cell_type": "markdown",
   "id": "e33bc43f",
   "metadata": {},
   "source": [
    "**re.VERBOSE** allows us to write regular expressions that look nicer and are more readable by allowing us to visually separate logical sections of the pattern and add comments.\n",
    "\n",
    "- **The whitespaces inside the pattern are ignored.**\n",
    "     - **but when the whitespace is present in the character class or when it is preceded by the unescaped backslash, or when it is inside the tokens such as * ? , ( ? P or (? :, whitespaces cannot be ignored.**<br><br>\n",
    "- **Although, whenever # is present in the line, which is not in the character class or is not preceded by the unescaped backslash. All the characters from the leftmost of # to the end of the line will be ignored.**"
   ]
  },
  {
   "cell_type": "markdown",
   "id": "4f1ed7bd",
   "metadata": {},
   "source": [
    "### 20. How would you write a regex that match a number with comma for every three digits? It must match the given following:\n",
    "**&#39;42&#39;<br>\n",
    "&#39;1,234&#39;<br>\n",
    "&#39;6,368,745&#39;**<br>\n",
    "<br>\n",
    "### but not the following:\n",
    "**&#39;12,34,567&#39; (which has only two digits between the commas)<br>\n",
    "&#39;1234&#39; (which lacks commas)**"
   ]
  },
  {
   "cell_type": "code",
   "execution_count": 166,
   "id": "b6ad7424",
   "metadata": {},
   "outputs": [
    {
     "name": "stdout",
     "output_type": "stream",
     "text": [
      "42\n",
      "1,234\n",
      "6,368,745\n",
      "43,547,465,345\n",
      "For 12,34,567, the match doesn't exist!\n",
      "For 1234, the match doesn't exist!\n"
     ]
    }
   ],
   "source": [
    "test_cases = [\"42\", \"1,234\", \"6,368,745\", \"43,547,465,345\", \"12,34,567\", '1234']\n",
    "\n",
    "for i in test_cases:\n",
    "    is_match = re.match(\"(^\\d{1,3}(,\\d{3})*$)\", i)\n",
    "    if is_match:\n",
    "        print(is_match.group())\n",
    "    else:\n",
    "        print(f\"For {i}, the match doesn't exist!\")"
   ]
  },
  {
   "cell_type": "markdown",
   "id": "3479700a",
   "metadata": {},
   "source": [
    "### 21. How would you write a regex that matches the full name of someone whose last name is Watanabe? You can assume that the first name that comes before it will always be one word that begins with a capital letter. The regex must match the following:\n",
    "**&#39;Haruto Watanabe&#39;<br>\n",
    "&#39;Alice Watanabe&#39;<br>\n",
    "&#39;RoboCop Watanabe&#39;**<br>\n",
    "### but not the following:\n",
    "**&#39;haruto Watanabe&#39; (where the first name is not capitalized)<br>\n",
    "&#39;Mr. Watanabe&#39; (where the preceding word has a nonletter character)<br>\n",
    "&#39;Watanabe&#39; (which has no first name)<br>\n",
    "&#39;Haruto watanabe&#39; (where Watanabe is not capitalized)**<br>"
   ]
  },
  {
   "cell_type": "code",
   "execution_count": 191,
   "id": "b6684f31",
   "metadata": {},
   "outputs": [
    {
     "name": "stdout",
     "output_type": "stream",
     "text": [
      "Haruto Watanabe\n",
      "Alice Watanabe\n",
      "RoboCop Watanabe\n",
      "The match doesn't exist!\n",
      "The match doesn't exist!\n",
      "The match doesn't exist!\n"
     ]
    }
   ],
   "source": [
    "names = [\"Haruto Watanabe\", \"Alice Watanabe\", \"RoboCop Watanabe\", \"haruto Watanabe\", \"Watanabe\", \"Haruto watanabe\"]\n",
    "for name in names:\n",
    "    x = re.match(\"^([A-Z]{1})[A-Za-z]* Watanabe$\", name)\n",
    "    if x:\n",
    "        print(x.group())\n",
    "    else:\n",
    "        print(\"The match doesn't exist!\")"
   ]
  },
  {
   "cell_type": "markdown",
   "id": "9f547819",
   "metadata": {},
   "source": [
    "### 22. How would you write a regex that matches a sentence where the first word is either Alice, Bob, or Carol; the second word is either eats, pets, or throws; the third word is apples, cats, or baseballs; and the sentence ends with a period? This regex should be case-insensitive. It must match the following:\n",
    "**&#39;Alice eats apples.&#39;<br>\n",
    "&#39;Bob pets cats.&#39;<br>\n",
    "&#39;Carol throws baseballs.&#39;<br>\n",
    "&#39;Alice throws Apples.&#39;<br>\n",
    "&#39;BOB EATS CATS.&#39;<br>**\n",
    "### but not the following:\n",
    "**&#39;RoboCop eats apples.&#39;<br>\n",
    "&#39;ALICE THROWS FOOTBALLS.&#39;<br>\n",
    "&#39;Carol eats 7 cats.&#39;<br>**"
   ]
  },
  {
   "cell_type": "code",
   "execution_count": 205,
   "id": "3f8d7a1c",
   "metadata": {},
   "outputs": [
    {
     "name": "stdout",
     "output_type": "stream",
     "text": [
      "Alice eats apples.\n",
      "Bob pets cats.\n",
      "Carol throws baseballs.\n",
      "Alice throws Apples.\n",
      "BOB EATS CATS.\n",
      "There ain't no match!\n",
      "There ain't no match!\n",
      "There ain't no match!\n"
     ]
    }
   ],
   "source": [
    "txts = ['Alice eats apples.', 'Bob pets cats.', 'Carol throws baseballs.', 'Alice throws Apples.', 'BOB EATS CATS.', \\\n",
    "      'RoboCop eats apples.', 'ALICE THROWS FOOTBALLS.', 'Carol eats 7 cats.']\n",
    "\n",
    "for txt in txts:\n",
    "    pattern = \"^(Alice|Bob|Carol) (eats|throws|pets) (apples|cats|baseballs).$\"\n",
    "    Reg_pat = re.compile(pattern, re.IGNORECASE)\n",
    "    \n",
    "    x = re.match(Reg_pat, txt)\n",
    "    \n",
    "    if x:\n",
    "        print(x.group())\n",
    "    else:\n",
    "        print(\"There ain't no match!\")"
   ]
  }
 ],
 "metadata": {
  "kernelspec": {
   "display_name": "Python 3 (ipykernel)",
   "language": "python",
   "name": "python3"
  },
  "language_info": {
   "codemirror_mode": {
    "name": "ipython",
    "version": 3
   },
   "file_extension": ".py",
   "mimetype": "text/x-python",
   "name": "python",
   "nbconvert_exporter": "python",
   "pygments_lexer": "ipython3",
   "version": "3.9.7"
  }
 },
 "nbformat": 4,
 "nbformat_minor": 5
}
