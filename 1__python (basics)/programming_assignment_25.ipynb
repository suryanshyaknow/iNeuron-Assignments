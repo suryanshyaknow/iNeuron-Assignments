{
 "cells": [
  {
   "cell_type": "code",
   "execution_count": 1,
   "id": "a33eb755",
   "metadata": {},
   "outputs": [],
   "source": [
    "import logging as lg\n",
    "\n",
    "lg.basicConfig(level=lg.INFO)"
   ]
  },
  {
   "cell_type": "markdown",
   "id": "1237d001",
   "metadata": {},
   "source": [
    "### 1.\n",
    "Create a function that takes three integer arguments (a, b, c) and returns the amount of\n",
    "integers which are of equal value.\n",
    "\n",
    "**Examples:**\n",
    "    \n",
    "equal(3, 4, 3) ➞ 2<br>\n",
    "equal(1, 1, 1) ➞ 3<br>\n",
    "equal(3, 4, 1) ➞ 0<br>\n",
    "\n",
    "**Note:**\n",
    "Your function must return 0, 2 or 3."
   ]
  },
  {
   "cell_type": "code",
   "execution_count": 2,
   "id": "3faeff9d",
   "metadata": {},
   "outputs": [],
   "source": [
    "def equal(a: int, b: int, c: int) -> int:\n",
    "    try:\n",
    "        lst = [a, b, c]\n",
    "        dic = dict.fromkeys(lst)\n",
    "        \n",
    "        for i in lst:\n",
    "            if dic[i] is None:\n",
    "                dic[i] = 1\n",
    "            else:\n",
    "                dic[i] += 1\n",
    "        \n",
    "        for i in dic.keys():\n",
    "            if dic[i] > 1:\n",
    "                return dic[i]\n",
    "            \n",
    "        return 0\n",
    "        ...\n",
    "    except Exception as e:\n",
    "        lg.exception(e)"
   ]
  },
  {
   "cell_type": "code",
   "execution_count": 3,
   "id": "e7cd48e0",
   "metadata": {},
   "outputs": [
    {
     "name": "stdout",
     "output_type": "stream",
     "text": [
      "2\n",
      "3\n",
      "0\n"
     ]
    }
   ],
   "source": [
    "## Examples:\n",
    "\n",
    "print(equal(3, 4, 3))\n",
    "print(equal(1, 1, 1))\n",
    "print(equal(3, 4, 1))"
   ]
  },
  {
   "cell_type": "markdown",
   "id": "8820d8c8",
   "metadata": {},
   "source": [
    "### 2.\n",
    "Write a function that converts a dictionary into a list of keys-values tuples.\n",
    "\n",
    "**Examples:**\n",
    "    \n",
    "dict_to_list({\n",
    "&quot;D&quot;: 1,\n",
    "&quot;B&quot;: 2,\n",
    "&quot;C&quot;: 3\n",
    "}) ➞ [(&quot;B&quot;, 2), (&quot;C&quot;, 3), (&quot;D&quot;, 1)]\n",
    "\n",
    "dict_to_list({\n",
    "&quot;likes&quot;: 2,\n",
    "&quot;dislikes&quot;: 3,\n",
    "&quot;followers&quot;: 10\n",
    "}) ➞ [(&quot;dislikes&quot;, 3), (&quot;followers&quot;, 10), (&quot;likes&quot;, 2)]\n",
    "\n",
    "**Note:**\n",
    "Return the elements in the list in alphabetical order."
   ]
  },
  {
   "cell_type": "code",
   "execution_count": 4,
   "id": "ef477530",
   "metadata": {},
   "outputs": [],
   "source": [
    "from typing import List\n",
    "\n",
    "def dic_to_list(dic: dict) -> List:\n",
    "    try:\n",
    "        return sorted([(i, dic[i]) for i in dic.keys()])\n",
    "        ...\n",
    "    except Exception as e:\n",
    "        lg.exception(e)"
   ]
  },
  {
   "cell_type": "code",
   "execution_count": 5,
   "id": "0c137a0e",
   "metadata": {},
   "outputs": [
    {
     "name": "stdout",
     "output_type": "stream",
     "text": [
      "[('B', 2), ('C', 3), ('D', 1)]\n",
      "[('dislikes', 3), ('followers', 10), ('likes', 2)]\n"
     ]
    }
   ],
   "source": [
    "## Examples:\n",
    "\n",
    "print(dic_to_list({ \"D\": 1, \"B\": 2, \"C\": 3 }))\n",
    "print(dic_to_list({ \"likes\": 2, \"dislikes\": 3, \"followers\": 10 }))"
   ]
  },
  {
   "cell_type": "markdown",
   "id": "c15211cd",
   "metadata": {},
   "source": [
    "### 3.\n",
    "Write a function that creates a dictionary with each (key, value) pair being the (lower case,\n",
    "upper case) versions of a letter, respectively.\n",
    "\n",
    "**Examples:**\n",
    "    \n",
    "mapping([&quot;p&quot;, &quot;s&quot;]) ➞ { &quot;p&quot;: &quot;P&quot;, &quot;s&quot;: &quot;S&quot; }<br>\n",
    "mapping([&quot;a&quot;, &quot;b&quot;, &quot;c&quot;]) ➞ { &quot;a&quot;: &quot;A&quot;, &quot;b&quot;: &quot;B&quot;, &quot;c&quot;: &quot;C&quot; }<br>\n",
    "mapping([&quot;a&quot;, &quot;v&quot;, &quot;y&quot;, &quot;z&quot;]) ➞ { &quot;a&quot;: &quot;A&quot;, &quot;v&quot;: &quot;V&quot;, &quot;y&quot;: &quot;Y&quot;, &quot;z&quot;: &quot;Z&quot; }<br>\n",
    "\n",
    "**Note:** All of the letters in the input list will always be lowercase."
   ]
  },
  {
   "cell_type": "code",
   "execution_count": 6,
   "id": "ce711246",
   "metadata": {},
   "outputs": [],
   "source": [
    "from typing import Dict\n",
    "\n",
    "def mapping(lst: list) -> Dict:\n",
    "    try:\n",
    "        dic = {}.fromkeys(lst)\n",
    "        for i in lst:\n",
    "            dic[i] = i.upper()\n",
    "        return dic\n",
    "        ...\n",
    "    except Exception as e:\n",
    "        lg.exception(e)"
   ]
  },
  {
   "cell_type": "code",
   "execution_count": 7,
   "id": "9cdb11b2",
   "metadata": {},
   "outputs": [
    {
     "name": "stdout",
     "output_type": "stream",
     "text": [
      "{'p': 'P', 's': 'S'}\n",
      "{'a': 'A', 'b': 'B', 'c': 'C'}\n",
      "{'a': 'A', 'v': 'V', 'y': 'Y', 'z': 'Z'}\n"
     ]
    }
   ],
   "source": [
    "## Examples:\n",
    "\n",
    "print(mapping([\"p\", \"s\"]))\n",
    "print(mapping([\"a\", \"b\", \"c\"]))\n",
    "print(mapping([\"a\", \"v\", \"y\", \"z\"]))"
   ]
  },
  {
   "cell_type": "markdown",
   "id": "d6bb721f",
   "metadata": {},
   "source": [
    "### 4.\n",
    "Write a function, that replaces all vowels in a string with a specified vowel.\n",
    "\n",
    "**Examples:**\n",
    "    \n",
    "vow_replace(&quot;apples and bananas&quot;, &quot;u&quot;) ➞ &quot;upplus und bununus&quot;<br>\n",
    "vow_replace(&quot;cheese casserole&quot;, &quot;o&quot;) ➞ &quot;chooso cossorolo&quot;<br>\n",
    "vow_replace(&quot;stuffed jalapeno poppers&quot;, &quot;e&quot;) ➞ &quot;steffed jelepene peppers&quot;<br>\n",
    "\n",
    "**Note:** All words will be lowercase. Y is not considered a vowel."
   ]
  },
  {
   "cell_type": "code",
   "execution_count": 8,
   "id": "fbd94db7",
   "metadata": {},
   "outputs": [],
   "source": [
    "def vow_replace(string: str, vowel: str) -> str:\n",
    "    try:\n",
    "        vows = \"aeiou\"\n",
    "        res = \"\"\n",
    "        for char in string:\n",
    "            if char in vows:\n",
    "                res += vowel\n",
    "            else:\n",
    "                res += char\n",
    "        return res\n",
    "        ...\n",
    "    except Exception as e:\n",
    "        lg.exception(e)"
   ]
  },
  {
   "cell_type": "code",
   "execution_count": 9,
   "id": "2878ed39",
   "metadata": {},
   "outputs": [
    {
     "name": "stdout",
     "output_type": "stream",
     "text": [
      "upplus und bununus\n",
      "chooso cossorolo\n",
      "steffed jelepene peppers\n"
     ]
    }
   ],
   "source": [
    "## Examples:\n",
    "\n",
    "print(vow_replace(\"apples and bananas\", \"u\"))\n",
    "print(vow_replace(\"cheese casserole\", \"o\"))\n",
    "print(vow_replace(\"stuffed jalapeno poppers\", \"e\"))"
   ]
  },
  {
   "cell_type": "markdown",
   "id": "9aaf368f",
   "metadata": {},
   "source": [
    "### 5.\n",
    "Create a function that takes a string as input and capitalizes a letter if its ASCII code is even\n",
    "and returns its lower case version if its ASCII code is odd.\n",
    "\n",
    "**Examples:**\n",
    "    \n",
    "ascii_capitalize(&quot;to be or not to be!&quot;) ➞ &quot;To Be oR NoT To Be!&quot;<br>\n",
    "ascii_capitalize(&quot;THE LITTLE MERMAID&quot;) ➞ &quot;THe LiTTLe meRmaiD&quot;<br>\n",
    "ascii_capitalize(&quot;Oh what a beautiful morning.&quot;) ➞ &quot;oH wHaT a BeauTiFuL\n",
    "moRNiNg.&quot;<br>"
   ]
  },
  {
   "cell_type": "code",
   "execution_count": 10,
   "id": "83f60f16",
   "metadata": {},
   "outputs": [],
   "source": [
    "def ascii_capitalize(string: str) -> str:\n",
    "    try:\n",
    "        res = \"\"\n",
    "        for i in string:\n",
    "            if ord(i)%2 == 0:  # ord() is used to get the ascii code of the given char\n",
    "                res+=i.capitalize()\n",
    "            else:\n",
    "                res+=i.lower()\n",
    "        return res               \n",
    "        ...\n",
    "    except Exception as e:\n",
    "        lg.exception(e)"
   ]
  },
  {
   "cell_type": "code",
   "execution_count": 11,
   "id": "74539673",
   "metadata": {},
   "outputs": [
    {
     "name": "stdout",
     "output_type": "stream",
     "text": [
      "To Be oR NoT To Be!\n",
      "THe LiTTLe meRmaiD\n",
      "oH wHaT a BeauTiFuL moRNiNg.\n"
     ]
    }
   ],
   "source": [
    "## Examples:\n",
    "\n",
    "print(ascii_capitalize(\"to be or not to be!\"))\n",
    "print(ascii_capitalize(\"THE LITTLE MERMAID\"))\n",
    "print(ascii_capitalize(\"Oh what a beautiful morning.\"))"
   ]
  }
 ],
 "metadata": {
  "kernelspec": {
   "display_name": "Python 3 (ipykernel)",
   "language": "python",
   "name": "python3"
  },
  "language_info": {
   "codemirror_mode": {
    "name": "ipython",
    "version": 3
   },
   "file_extension": ".py",
   "mimetype": "text/x-python",
   "name": "python",
   "nbconvert_exporter": "python",
   "pygments_lexer": "ipython3",
   "version": "3.9.12"
  }
 },
 "nbformat": 4,
 "nbformat_minor": 5
}
