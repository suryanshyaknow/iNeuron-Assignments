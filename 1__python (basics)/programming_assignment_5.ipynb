{
 "cells": [
  {
   "cell_type": "markdown",
   "id": "88bab0c8",
   "metadata": {},
   "source": [
    "## 1. Write a Python Program to Find LCM?"
   ]
  },
  {
   "cell_type": "markdown",
   "id": "6d48c437",
   "metadata": {},
   "source": [
    "### Method 1:"
   ]
  },
  {
   "cell_type": "markdown",
   "id": "7eb76bac",
   "metadata": {},
   "source": [
    "First off all, we'll determine the greater of the two numbers as the **LCM can only be greater than or equal to the largest number.** We then use an infinite while loop to go from that number and beyond.\n",
    "In every iteration, we have checked if both the numbers perfectly divide the number. If so, we have stored the number as LCM and break from the loop. Otherwise, the number is incremented by 1 and the loop continues."
   ]
  },
  {
   "cell_type": "code",
   "execution_count": 17,
   "id": "b7de2e5c",
   "metadata": {},
   "outputs": [
    {
     "name": "stdout",
     "output_type": "stream",
     "text": [
      "Enter the first number: 34\n",
      "Enter second number: 7\n"
     ]
    },
    {
     "data": {
      "text/plain": [
       "'The lcm of 34 and 7 is 238.'"
      ]
     },
     "execution_count": 17,
     "metadata": {},
     "output_type": "execute_result"
    }
   ],
   "source": [
    "def lcm():\n",
    "    try:\n",
    "        num1 = int(input(\"Enter the first number: \"))\n",
    "        num2 = int(input(\"Enter second number: \"))\n",
    "\n",
    "        if num1>num2:\n",
    "            greater = num1\n",
    "        else:\n",
    "            greater = num2\n",
    "\n",
    "        while True:\n",
    "            if greater%num1 == 0 and greater%num2 == 0:\n",
    "                lcm = greater\n",
    "                return f\"The lcm of {num1} and {num2} is {greater}.\"\n",
    "            else:\n",
    "                greater+=1\n",
    "\n",
    "        return f\"The lcm of {num1} and {num2} is {lcm}.\"\n",
    "    \n",
    "    except Exception as e:\n",
    "        print(e)\n",
    "lcm()"
   ]
  },
  {
   "cell_type": "markdown",
   "id": "099c9954",
   "metadata": {},
   "source": [
    "## 2. Write a Python Program to Find HCF?\n"
   ]
  },
  {
   "cell_type": "markdown",
   "id": "634b3596",
   "metadata": {},
   "source": [
    "**Highest Common Factor** or **Greatest Common Divisor** of two or more integers when at least one of them is not zero is the **largest positive integer that evenly divides the numbers without a remainder**.<br>\n",
    "For example, the GCD of 8 and 12 is 4."
   ]
  },
  {
   "cell_type": "code",
   "execution_count": 2,
   "id": "f768c78e",
   "metadata": {},
   "outputs": [
    {
     "name": "stdout",
     "output_type": "stream",
     "text": [
      "Enter the first number: 343\n",
      "Enter the second number: 49\n",
      "The factors of 343 are: [343, 49, 7, 1] \n",
      "The factors of 49 are: [49, 7, 1]\n"
     ]
    },
    {
     "data": {
      "text/plain": [
       "'The HCF of 343 and 49 is 49.'"
      ]
     },
     "execution_count": 2,
     "metadata": {},
     "output_type": "execute_result"
    }
   ],
   "source": [
    "def retHcf():\n",
    "    try:\n",
    "        global n1, n2\n",
    "        n1 = int(input(\"Enter the first number: \"))\n",
    "        n2 = int(input(\"Enter the second number: \"))\n",
    "\n",
    "        fac1 = []\n",
    "        fac2 = []\n",
    "        \n",
    "        #appending the factors of num1 in fac1.\n",
    "        for i in range(1, n1+1): \n",
    "            if n1%i == 0:\n",
    "                fac1.append(i)\n",
    "        \n",
    "        #appending the factors of num2 in fac2.\n",
    "        for i in range(1, n2+1):\n",
    "            if n2%i == 0:\n",
    "                fac2.append(i)\n",
    "        \n",
    "        #reversing for my own convenience i.e. we'll fetch the highest common factor the moment compiler lay its eyes on it.\n",
    "        fac1.reverse()\n",
    "        fac2.reverse()\n",
    "        print(f\"The factors of {n1} are: {fac1}\", f\"\\nThe factors of {n2} are: {fac2}\")\n",
    "        hcf = 1\n",
    "        \n",
    "        #fetching the hcf from the two lists by parsing one over other.    \n",
    "        while True:\n",
    "            if len(fac1) <= len(fac2): #len(fac1) should be lower or Error: list index outta range!\n",
    "                for i in fac1:\n",
    "                    for j in fac2:\n",
    "                        if i == j:\n",
    "                            hcf = i #Because we are going from highest to lowest.\n",
    "                            return f\"The HCF of {n1} and {n2} is {hcf}.\"\n",
    "            else:\n",
    "                fac1, fac2 = fac2, fac1\n",
    "                continue #redirecting control to the infinite loop.  \n",
    "                \n",
    "    except Exception as e:\n",
    "        print(e)\n",
    "\n",
    "retHcf()"
   ]
  },
  {
   "cell_type": "markdown",
   "id": "7a92419a",
   "metadata": {},
   "source": [
    "## Method 2 (of finding LCM):"
   ]
  },
  {
   "cell_type": "markdown",
   "id": "f0bb2e15",
   "metadata": {},
   "source": [
    "Since we know that any numbers **num1 * num2** = their **LCM * HCF**.<br>\n",
    "Thus, we'll be using the hcf() here."
   ]
  },
  {
   "cell_type": "code",
   "execution_count": 3,
   "id": "430cca1a",
   "metadata": {},
   "outputs": [
    {
     "name": "stdout",
     "output_type": "stream",
     "text": [
      "Enter the first number: 34\n",
      "Enter the second number: 7\n",
      "The factors of 34 are: [34, 17, 2, 1] \n",
      "The factors of 7 are: [7, 1]\n",
      "The HCF of 34 and 7 is 1.\n"
     ]
    },
    {
     "data": {
      "text/plain": [
       "'The LCM of 34 and 7 is 238.0'"
      ]
     },
     "execution_count": 3,
     "metadata": {},
     "output_type": "execute_result"
    }
   ],
   "source": [
    "def lcm2():\n",
    "    x = retHcf()\n",
    "    print(x)\n",
    "    \n",
    "    #extracting the value of hcf form the return string of the hcf function.\n",
    "    hcf = int(x[-2]) #-2 because we want to avoid the period present in the string.\n",
    "    \n",
    "    lcm = n1 * n2/hcf\n",
    "    \n",
    "    return f\"The LCM of {n1} and {n2} is {lcm}\"\n",
    "lcm2()"
   ]
  },
  {
   "cell_type": "markdown",
   "id": "c1abb5d5",
   "metadata": {},
   "source": [
    "## 3. Write a Python Program to Convert Decimal to Binary, Octal and Hexadecimal?"
   ]
  },
  {
   "cell_type": "markdown",
   "id": "f715ffe0",
   "metadata": {},
   "source": [
    "A number with the prefix **0b** is **binary**, **0o** is considered **octal** and **0x** as **hexadecimal**."
   ]
  },
  {
   "cell_type": "code",
   "execution_count": 15,
   "id": "6b846c29",
   "metadata": {},
   "outputs": [
    {
     "name": "stdout",
     "output_type": "stream",
     "text": [
      "Enter any decimal value: 678\n"
     ]
    },
    {
     "data": {
      "text/plain": [
       "'The binary, octal and hexadecimal values of the decimal 678 are: 0b1010100110, 0o1246 and 0x2a6 respectively.'"
      ]
     },
     "execution_count": 15,
     "metadata": {},
     "output_type": "execute_result"
    }
   ],
   "source": [
    "def convertDec():\n",
    "    dec = int(input(\"Enter any decimal value: \"))\n",
    "    return f\"The binary, octal and hexadecimal values of the decimal {dec} are: {bin(dec)}, {oct(dec)} and {hex(dec)} respectively.\"\n",
    "convertDec()"
   ]
  },
  {
   "cell_type": "markdown",
   "id": "c1061f27",
   "metadata": {},
   "source": [
    "## 4. Write a Python Program To Find ASCII value of a character?"
   ]
  },
  {
   "cell_type": "code",
   "execution_count": 25,
   "id": "01410feb",
   "metadata": {},
   "outputs": [
    {
     "name": "stdout",
     "output_type": "stream",
     "text": [
      "Enter any single character to find its ASCII value: \n",
      "No input found!\n",
      "Enter any single character to find its ASCII value: \n",
      "No input found!\n",
      "Enter any single character to find its ASCII value: rt\n",
      "Kindly enter a single character value!\n",
      "Enter any single character to find its ASCII value: r\n"
     ]
    },
    {
     "data": {
      "text/plain": [
       "'ASCII value of r is: 114.'"
      ]
     },
     "execution_count": 25,
     "metadata": {},
     "output_type": "execute_result"
    }
   ],
   "source": [
    "def findAscii():\n",
    "    while True:\n",
    "        char = input('Enter any single character to find its ASCII value: ')\n",
    "        if len(char) > 1:\n",
    "            print(\"Kindly enter a single character value!\" )\n",
    "            continue\n",
    "        elif len(char) == 0:\n",
    "            print(\"No input found!\")\n",
    "        else:\n",
    "            break\n",
    "        \n",
    "    return f\"ASCII value of {char} is: {ord(char)}.\"\n",
    "findAscii()"
   ]
  },
  {
   "cell_type": "markdown",
   "id": "cf005bae",
   "metadata": {},
   "source": [
    "## 5. Write a Python Program to Make a Simple Calculator with 4 basic mathematical operations?"
   ]
  },
  {
   "cell_type": "markdown",
   "id": "cb0f7259",
   "metadata": {},
   "source": [
    "### I have already made a tkinter based simple Calc in recent past. Thus, I am sharing its link instead. "
   ]
  },
  {
   "cell_type": "markdown",
   "id": "a1c5dd95",
   "metadata": {},
   "source": [
    "https://github.com/suryanshyaknow/mini-projects/blob/main/2__OOPs/calc%20(by%20Tkinter)/Calc%20(by%20Tkinter).ipynb\n",
    "<br>**Kindly refer to this link.**"
   ]
  }
 ],
 "metadata": {
  "kernelspec": {
   "display_name": "Python 3 (ipykernel)",
   "language": "python",
   "name": "python3"
  },
  "language_info": {
   "codemirror_mode": {
    "name": "ipython",
    "version": 3
   },
   "file_extension": ".py",
   "mimetype": "text/x-python",
   "name": "python",
   "nbconvert_exporter": "python",
   "pygments_lexer": "ipython3",
   "version": "3.9.7"
  }
 },
 "nbformat": 4,
 "nbformat_minor": 5
}
