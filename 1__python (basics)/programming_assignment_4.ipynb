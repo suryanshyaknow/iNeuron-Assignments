{
 "cells": [
  {
   "cell_type": "markdown",
   "id": "e9bd6b4f",
   "metadata": {},
   "source": [
    "## 1.\tWrite a Python Program to Find the Factorial of a Number?"
   ]
  },
  {
   "cell_type": "code",
   "execution_count": 14,
   "id": "2fe4967c",
   "metadata": {},
   "outputs": [
    {
     "name": "stdout",
     "output_type": "stream",
     "text": [
      "Enter a number to find its factorial: 9\n",
      "Factorial: \n"
     ]
    },
    {
     "data": {
      "text/plain": [
       "362880"
      ]
     },
     "execution_count": 14,
     "metadata": {},
     "output_type": "execute_result"
    }
   ],
   "source": [
    "def fact():\n",
    "    n = int(input(\"Enter a number to find its factorial: \"))\n",
    "    factorial = 1\n",
    "    for i in range(1, n+1):\n",
    "        factorial = i*factorial\n",
    "    print(\"Factorial: \")\n",
    "    return factorial\n",
    "fact()"
   ]
  },
  {
   "cell_type": "markdown",
   "id": "c968a42a",
   "metadata": {},
   "source": [
    "## 2.\tWrite a Python Program to Display the multiplication Table?\n"
   ]
  },
  {
   "cell_type": "code",
   "execution_count": 12,
   "id": "80c9f3b1",
   "metadata": {},
   "outputs": [
    {
     "name": "stdout",
     "output_type": "stream",
     "text": [
      "Enter a number to display its multiplication table: 98\n",
      "98 x 1 = 98\n",
      "98 x 2 = 196\n",
      "98 x 3 = 294\n",
      "98 x 4 = 392\n",
      "98 x 5 = 490\n",
      "98 x 6 = 588\n",
      "98 x 7 = 686\n",
      "98 x 8 = 784\n",
      "98 x 9 = 882\n",
      "98 x 10 = 980\n"
     ]
    }
   ],
   "source": [
    "def MulTab():\n",
    "    num = int(input(\"Enter a number to display its multiplication table: \"))\n",
    "    i = 1\n",
    "    while i<=10:\n",
    "        print(f\"{num} x {i} =\", num*i)\n",
    "        i+=1\n",
    "MulTab()"
   ]
  },
  {
   "cell_type": "markdown",
   "id": "07ab1d7c",
   "metadata": {},
   "source": [
    "## 3.\tWrite a Python Program to Print the Fibonacci sequence?\n"
   ]
  },
  {
   "cell_type": "code",
   "execution_count": 8,
   "id": "05d3cca7",
   "metadata": {},
   "outputs": [
    {
     "name": "stdout",
     "output_type": "stream",
     "text": [
      "how many terms of Fibonacci series you want? -9\n",
      "No. of terms can't be Negative or None, Enter again!!\n",
      "how many terms of Fibonacci series you want? 0\n",
      "No. of terms can't be Negative or None, Enter again!!\n",
      "how many terms of Fibonacci series you want? 12\n",
      "0\n",
      "1\n",
      "1\n",
      "2\n",
      "3\n",
      "5\n",
      "8\n",
      "13\n",
      "21\n",
      "34\n",
      "55\n",
      "89\n"
     ]
    }
   ],
   "source": [
    "def genFib():\n",
    "    while True:\n",
    "        n = int(input(\"how many terms of Fibonacci series you want? \"))\n",
    "        if n<=0:\n",
    "            print(\"No. of terms can't be Negative or None, Enter again!!\")\n",
    "            continue\n",
    "        else:\n",
    "            a = 0\n",
    "            b = 1\n",
    "            for i in range(n):\n",
    "                print(a)\n",
    "                a,b = b,a+b\n",
    "            break\n",
    "genFib()"
   ]
  },
  {
   "cell_type": "markdown",
   "id": "a125630b",
   "metadata": {},
   "source": [
    "## 4.\tWrite a Python Program to Check Armstrong Number?\n"
   ]
  },
  {
   "cell_type": "markdown",
   "id": "bb4b6650",
   "metadata": {},
   "source": [
    "In case of an Armstrong number of 3 digits, the sum of cubes of each digit is equal to the number itself.<br>\n",
    "For example: **153 = 1x1x1 + 5x5x5 + 3x3x3**<br>\n",
    "**153 is an Armstrong number.**"
   ]
  },
  {
   "cell_type": "code",
   "execution_count": 29,
   "id": "0088fb1e",
   "metadata": {},
   "outputs": [
    {
     "name": "stdout",
     "output_type": "stream",
     "text": [
      "Enter a number to check if it's an Armstrong number: 1634\n",
      "1634 is an ARMSTRONG number.\n"
     ]
    }
   ],
   "source": [
    "def checkArms():\n",
    "    num = int(input(\"Enter a number to check if it's an Armstrong number: \"))\n",
    "    dig = len(str(num))\n",
    "    indi_dig = [] #list that will contain individual digits of a number.\n",
    "    indi_dig += str(num)\n",
    "    cond = 0 #RHS condition for an Armstrong number.\n",
    "    for i in indi_dig:\n",
    "        cond += int(i)**dig\n",
    "    if num == cond:\n",
    "        print(f\"{num} is an ARMSTRONG number.\")\n",
    "    else:\n",
    "        print(\"NOT an Armstrong number.\")\n",
    "try:\n",
    "    checkArms()\n",
    "except Exception as e:\n",
    "    print(e)"
   ]
  },
  {
   "cell_type": "code",
   "execution_count": 30,
   "id": "c2f8bc09",
   "metadata": {},
   "outputs": [
    {
     "name": "stdout",
     "output_type": "stream",
     "text": [
      "Enter a number to check if it's an Armstrong number: 153\n",
      "153 is an ARMSTRONG number.\n"
     ]
    }
   ],
   "source": [
    "checkArms()"
   ]
  },
  {
   "cell_type": "markdown",
   "id": "3d2ec5c3",
   "metadata": {},
   "source": [
    "## 5.\tWrite a Python Program to Find Armstrong Number in an Interval?\n"
   ]
  },
  {
   "cell_type": "code",
   "execution_count": 44,
   "id": "34c6b9a4",
   "metadata": {},
   "outputs": [
    {
     "name": "stdout",
     "output_type": "stream",
     "text": [
      "Enter the upper limit of the interval you desire: 1635\n"
     ]
    },
    {
     "data": {
      "text/plain": [
       "[1, 2, 3, 4, 5, 6, 7, 8, 9, 153, 370, 371, 407, 1634]"
      ]
     },
     "execution_count": 44,
     "metadata": {},
     "output_type": "execute_result"
    }
   ],
   "source": [
    "def Arms():\n",
    "    try:\n",
    "        uL=int(input(\"Enter the upper limit of the interval you desire: \"))\n",
    "        \n",
    "        #list which will contain armstrong numbers from the given interval.\n",
    "        armsNum = [] \n",
    "        \n",
    "        for num in range(1, uL+1):  \n",
    "            #fetching the digits of the number at hand.\n",
    "            dig = len(str(num))\n",
    "            \n",
    "            #Creating a list that will contain individual digits of a number.\n",
    "            indi_dig = [] \n",
    "            indi_dig += str(num)\n",
    "            \n",
    "            #RHS that is vital to prove what we desire i.e. condition for an Armstrong number.\n",
    "            cond = 0\n",
    "            \n",
    "            for i in indi_dig:\n",
    "                cond += int(i)**dig\n",
    "            \n",
    "            if num == cond:\n",
    "                armsNum.append(num)\n",
    "                \n",
    "        return armsNum\n",
    "    except Exception as e:\n",
    "        print(e)\n",
    "Arms()"
   ]
  },
  {
   "cell_type": "markdown",
   "id": "f986f156",
   "metadata": {},
   "source": [
    "## 6.\tWrite a Python Program to Find the Sum of Natural Numbers?"
   ]
  },
  {
   "cell_type": "code",
   "execution_count": 49,
   "id": "79a5e18c",
   "metadata": {},
   "outputs": [
    {
     "name": "stdout",
     "output_type": "stream",
     "text": [
      "Enter the upper limit for natural numbers interval: 90\n",
      "Sum of Natural numbers: 2475880078570760549798248356\n"
     ]
    }
   ],
   "source": [
    "def sumN():\n",
    "    try:\n",
    "        while True:\n",
    "            uL = int(input(\"Enter the upper limit for natural numbers interval: \"))\n",
    "            if uL<=0:\n",
    "                print(\"The upper limit for natural numbers set can't be equal or less than zero.\")\n",
    "                continue\n",
    "            else:\n",
    "                break\n",
    "        sumNat = 0\n",
    "        for i in range(1, uL+1):\n",
    "            sumNat += sumNat+i\n",
    "\n",
    "        print(\"Sum of Natural numbers:\", sumNat)\n",
    "    except Exception as e:\n",
    "        print(e)\n",
    "sumN()"
   ]
  }
 ],
 "metadata": {
  "kernelspec": {
   "display_name": "Python 3 (ipykernel)",
   "language": "python",
   "name": "python3"
  },
  "language_info": {
   "codemirror_mode": {
    "name": "ipython",
    "version": 3
   },
   "file_extension": ".py",
   "mimetype": "text/x-python",
   "name": "python",
   "nbconvert_exporter": "python",
   "pygments_lexer": "ipython3",
   "version": "3.9.7"
  }
 },
 "nbformat": 4,
 "nbformat_minor": 5
}
