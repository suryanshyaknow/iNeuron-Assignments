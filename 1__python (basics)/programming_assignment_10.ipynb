{
 "cells": [
  {
   "cell_type": "markdown",
   "id": "87f5d9cc",
   "metadata": {},
   "source": [
    "### 1. Write a Python program to find sum of elements in list?\n"
   ]
  },
  {
   "cell_type": "code",
   "execution_count": 5,
   "id": "377ea4cd",
   "metadata": {},
   "outputs": [],
   "source": [
    "def sum_the_list(l):\n",
    "    sum = 0\n",
    "    \n",
    "    for i in l:\n",
    "        sum += i\n",
    "    return sum"
   ]
  },
  {
   "cell_type": "code",
   "execution_count": 6,
   "id": "9ecbc94e",
   "metadata": {},
   "outputs": [
    {
     "data": {
      "text/plain": [
       "21"
      ]
     },
     "execution_count": 6,
     "metadata": {},
     "output_type": "execute_result"
    }
   ],
   "source": [
    "sum_the_list([1,2,3,4,5,6])"
   ]
  },
  {
   "cell_type": "code",
   "execution_count": 7,
   "id": "25fc3dac",
   "metadata": {},
   "outputs": [
    {
     "data": {
      "text/plain": [
       "8676"
      ]
     },
     "execution_count": 7,
     "metadata": {},
     "output_type": "execute_result"
    }
   ],
   "source": [
    "sum_the_list([12,34,456,34,23,45,45,423,23,23,35,465,6576,23,23,2,434])"
   ]
  },
  {
   "cell_type": "markdown",
   "id": "f632c065",
   "metadata": {},
   "source": [
    "### 2. Write a Python program to Multiply all numbers in the list?\n"
   ]
  },
  {
   "cell_type": "code",
   "execution_count": 8,
   "id": "52705985",
   "metadata": {},
   "outputs": [],
   "source": [
    "def mul_the_list(l):\n",
    "    mul = 1\n",
    "    \n",
    "    for i in l:\n",
    "        mul = mul*i\n",
    "    return mul    "
   ]
  },
  {
   "cell_type": "code",
   "execution_count": 10,
   "id": "8efd53db",
   "metadata": {},
   "outputs": [
    {
     "data": {
      "text/plain": [
       "720"
      ]
     },
     "execution_count": 10,
     "metadata": {},
     "output_type": "execute_result"
    }
   ],
   "source": [
    "mul_the_list([1,2,3,4,5,6])"
   ]
  },
  {
   "cell_type": "code",
   "execution_count": 9,
   "id": "b1937318",
   "metadata": {},
   "outputs": [
    {
     "data": {
      "text/plain": [
       "3239746465712498614665354240000"
      ]
     },
     "execution_count": 9,
     "metadata": {},
     "output_type": "execute_result"
    }
   ],
   "source": [
    "mul_the_list([12,34,456,34,23,45,45,423,23,23,35,465,6576,23,23,2,434])"
   ]
  },
  {
   "cell_type": "markdown",
   "id": "d09dcd1d",
   "metadata": {},
   "source": [
    "### 3. Write a Python program to find smallest number in a list?\n"
   ]
  },
  {
   "cell_type": "code",
   "execution_count": 15,
   "id": "ac064250",
   "metadata": {},
   "outputs": [],
   "source": [
    "def find_smallest(l):\n",
    "    smallest = l[0]\n",
    "    \n",
    "    for i in l:\n",
    "        if i <= smallest:\n",
    "            smallest = i\n",
    "            \n",
    "    return smallest"
   ]
  },
  {
   "cell_type": "code",
   "execution_count": 17,
   "id": "f58bc6a6",
   "metadata": {},
   "outputs": [
    {
     "data": {
      "text/plain": [
       "115"
      ]
     },
     "execution_count": 17,
     "metadata": {},
     "output_type": "execute_result"
    }
   ],
   "source": [
    "find_smallest([1111,223,133,456,115,2446])"
   ]
  },
  {
   "cell_type": "code",
   "execution_count": 18,
   "id": "3a352f80",
   "metadata": {},
   "outputs": [
    {
     "data": {
      "text/plain": [
       "1111"
      ]
     },
     "execution_count": 18,
     "metadata": {},
     "output_type": "execute_result"
    }
   ],
   "source": [
    "find_smallest([1111])"
   ]
  },
  {
   "cell_type": "code",
   "execution_count": 19,
   "id": "a4f96dfc",
   "metadata": {},
   "outputs": [
    {
     "data": {
      "text/plain": [
       "2"
      ]
     },
     "execution_count": 19,
     "metadata": {},
     "output_type": "execute_result"
    }
   ],
   "source": [
    "find_smallest([12,34,456,34,23,45,45,423,23,23,35,465,6576,23,23,2,434])"
   ]
  },
  {
   "cell_type": "markdown",
   "id": "09f66a44",
   "metadata": {},
   "source": [
    "### 4. Write a Python program to find largest number in a list?\n"
   ]
  },
  {
   "cell_type": "code",
   "execution_count": 38,
   "id": "d8e5d7f6",
   "metadata": {},
   "outputs": [],
   "source": [
    "def find_largest(l):\n",
    "    try:\n",
    "        largest = l[0]\n",
    "\n",
    "        for i in l:\n",
    "            if i >= largest:\n",
    "                largest = i\n",
    "        return largest\n",
    "    except Exception as e:\n",
    "        print(e)"
   ]
  },
  {
   "cell_type": "code",
   "execution_count": 39,
   "id": "c6dcbfb9",
   "metadata": {},
   "outputs": [
    {
     "data": {
      "text/plain": [
       "2446"
      ]
     },
     "execution_count": 39,
     "metadata": {},
     "output_type": "execute_result"
    }
   ],
   "source": [
    "find_largest([1111,223,133,456,115,2446])"
   ]
  },
  {
   "cell_type": "code",
   "execution_count": 40,
   "id": "60bb99c5",
   "metadata": {},
   "outputs": [
    {
     "data": {
      "text/plain": [
       "1111"
      ]
     },
     "execution_count": 40,
     "metadata": {},
     "output_type": "execute_result"
    }
   ],
   "source": [
    "find_largest([1111])"
   ]
  },
  {
   "cell_type": "code",
   "execution_count": 41,
   "id": "208847c4",
   "metadata": {},
   "outputs": [
    {
     "data": {
      "text/plain": [
       "6576"
      ]
     },
     "execution_count": 41,
     "metadata": {},
     "output_type": "execute_result"
    }
   ],
   "source": [
    "find_largest([12,34,456,34,23,45,45,423,23,23,35,465,6576,23,23,2,434])"
   ]
  },
  {
   "cell_type": "markdown",
   "id": "5b648402",
   "metadata": {},
   "source": [
    "### 5. Write a Python program to find second largest number in a list?\n"
   ]
  },
  {
   "cell_type": "code",
   "execution_count": 35,
   "id": "5ff3d49c",
   "metadata": {},
   "outputs": [],
   "source": [
    "def find_second_largest(l):\n",
    "    try:\n",
    "        if len(l) == 1:\n",
    "            return \"list is having a mere single element and you wanna know the second highest?\"\n",
    "\n",
    "        largest = find_largest(l)\n",
    "\n",
    "        idx = l.index(largest)\n",
    "        l.pop(idx)\n",
    "\n",
    "        return find_largest(l)\n",
    "    \n",
    "    except Exception as e:\n",
    "        print(e)"
   ]
  },
  {
   "cell_type": "code",
   "execution_count": 36,
   "id": "9a58235b",
   "metadata": {},
   "outputs": [
    {
     "data": {
      "text/plain": [
       "1111"
      ]
     },
     "execution_count": 36,
     "metadata": {},
     "output_type": "execute_result"
    }
   ],
   "source": [
    "find_second_largest([1111,223,133,456,115,2446])"
   ]
  },
  {
   "cell_type": "code",
   "execution_count": 37,
   "id": "eac8cf66",
   "metadata": {},
   "outputs": [
    {
     "data": {
      "text/plain": [
       "'list is having a mere single element and you wanna know the second highest?'"
      ]
     },
     "execution_count": 37,
     "metadata": {},
     "output_type": "execute_result"
    }
   ],
   "source": [
    "find_second_largest([1111])"
   ]
  },
  {
   "cell_type": "code",
   "execution_count": 34,
   "id": "5b1ab19e",
   "metadata": {},
   "outputs": [
    {
     "data": {
      "text/plain": [
       "465"
      ]
     },
     "execution_count": 34,
     "metadata": {},
     "output_type": "execute_result"
    }
   ],
   "source": [
    "find_second_largest([12,34,456,34,23,45,45,423,23,23,35,465,6576,23,23,2,434])"
   ]
  },
  {
   "cell_type": "markdown",
   "id": "e533887a",
   "metadata": {},
   "source": [
    "### 6. Write a Python program to find Nth largest element from a list?\n"
   ]
  },
  {
   "cell_type": "code",
   "execution_count": 81,
   "id": "95579e4b",
   "metadata": {},
   "outputs": [],
   "source": [
    "def find_nth_largest(l, nth):\n",
    "    \n",
    "    if nth > len(l): # since not possible\n",
    "        return \"No kidding!\"\n",
    "    \n",
    "    elif nth == 1: # finding the largest\n",
    "        return find_largest(l)\n",
    "    \n",
    "    else: \n",
    "        for i in range(1, nth+1): # will run loop for nth number of times to find the nth greatest..\n",
    "            largest = find_largest(l)\n",
    "            if i == nth: # if we are at the nth greatest, return it\n",
    "                return find_largest(l)\n",
    "\n",
    "            idx = l.index(largest) # the index of the greatest elements than nth so that they can be removed \n",
    "            l.pop(idx) "
   ]
  },
  {
   "cell_type": "code",
   "execution_count": 82,
   "id": "33399a3e",
   "metadata": {},
   "outputs": [
    {
     "data": {
      "text/plain": [
       "3"
      ]
     },
     "execution_count": 82,
     "metadata": {},
     "output_type": "execute_result"
    }
   ],
   "source": [
    "find_nth_largest([1,2,3,4,5], 3)"
   ]
  },
  {
   "cell_type": "code",
   "execution_count": 84,
   "id": "b7287e56",
   "metadata": {},
   "outputs": [
    {
     "data": {
      "text/plain": [
       "223"
      ]
     },
     "execution_count": 84,
     "metadata": {},
     "output_type": "execute_result"
    }
   ],
   "source": [
    "find_nth_largest([1111,223,133,456,115,2446], 4)"
   ]
  },
  {
   "cell_type": "markdown",
   "id": "f5a7401d",
   "metadata": {},
   "source": [
    "### 7. Write a Python program to print even numbers in a list?\n"
   ]
  },
  {
   "cell_type": "code",
   "execution_count": 42,
   "id": "68b11ca5",
   "metadata": {},
   "outputs": [],
   "source": [
    "def print_even(l):\n",
    "    for i in l:\n",
    "        if i%2 == 0:\n",
    "            print(i)"
   ]
  },
  {
   "cell_type": "code",
   "execution_count": 43,
   "id": "e1688809",
   "metadata": {},
   "outputs": [
    {
     "name": "stdout",
     "output_type": "stream",
     "text": [
      "456\n",
      "2446\n"
     ]
    }
   ],
   "source": [
    "print_even([1111,223,133,456,115,2446])"
   ]
  },
  {
   "cell_type": "code",
   "execution_count": 44,
   "id": "a39fb331",
   "metadata": {},
   "outputs": [
    {
     "name": "stdout",
     "output_type": "stream",
     "text": [
      "12\n",
      "34\n",
      "456\n",
      "34\n",
      "6576\n",
      "2\n",
      "434\n"
     ]
    }
   ],
   "source": [
    "print_even([12,34,456,34,23,45,45,423,23,23,35,465,6576,23,23,2,434])"
   ]
  },
  {
   "cell_type": "markdown",
   "id": "ec7fb34a",
   "metadata": {},
   "source": [
    "### 8. Write a Python program to print odd numbers in a List?\n"
   ]
  },
  {
   "cell_type": "code",
   "execution_count": 45,
   "id": "f9e71d73",
   "metadata": {},
   "outputs": [],
   "source": [
    "def print_odd(l):\n",
    "    for i in l:\n",
    "        if i%2 != 0:\n",
    "            print(i)"
   ]
  },
  {
   "cell_type": "code",
   "execution_count": 46,
   "id": "ad84b10f",
   "metadata": {},
   "outputs": [
    {
     "name": "stdout",
     "output_type": "stream",
     "text": [
      "1111\n",
      "223\n",
      "133\n",
      "115\n"
     ]
    }
   ],
   "source": [
    "print_odd([1111,223,133,456,115,2446])"
   ]
  },
  {
   "cell_type": "code",
   "execution_count": 47,
   "id": "5b23f6b2",
   "metadata": {},
   "outputs": [
    {
     "name": "stdout",
     "output_type": "stream",
     "text": [
      "23\n",
      "45\n",
      "45\n",
      "423\n",
      "23\n",
      "23\n",
      "35\n",
      "465\n",
      "23\n",
      "23\n"
     ]
    }
   ],
   "source": [
    "print_odd([12,34,456,34,23,45,45,423,23,23,35,465,6576,23,23,2,434])"
   ]
  },
  {
   "cell_type": "markdown",
   "id": "f5919e02",
   "metadata": {},
   "source": [
    "### 9. Write a Python program to Remove empty List from List?\n"
   ]
  },
  {
   "cell_type": "code",
   "execution_count": 35,
   "id": "a0885783",
   "metadata": {},
   "outputs": [],
   "source": [
    "import copy\n",
    "\n",
    "def rem_empty_list(lst):\n",
    "    \n",
    "    l = copy.deepcopy(lst)    \n",
    "    i= 0\n",
    "    while i < len(l):\n",
    "        if (type(l[i]) == list) and (len(l[i]) == 0):\n",
    "            l.pop(i) # removing the empty list\n",
    "            continue\n",
    "        i += 1\n",
    "\n",
    "    if len(lst) != len(l):\n",
    "        return l\n",
    "    else:\n",
    "        return \"No empty list found in the list!\""
   ]
  },
  {
   "cell_type": "code",
   "execution_count": 36,
   "id": "2b66407f",
   "metadata": {},
   "outputs": [
    {
     "data": {
      "text/plain": [
       "[1, 2, 4, [3, 4, 5, 5], 23, 45, 234]"
      ]
     },
     "execution_count": 36,
     "metadata": {},
     "output_type": "execute_result"
    }
   ],
   "source": [
    "rem_empty_list([1,2,4,[3,4,5,5],23,45,[],234])"
   ]
  },
  {
   "cell_type": "code",
   "execution_count": 37,
   "id": "2ce9cc04",
   "metadata": {},
   "outputs": [
    {
     "data": {
      "text/plain": [
       "'No empty list found in the list!'"
      ]
     },
     "execution_count": 37,
     "metadata": {},
     "output_type": "execute_result"
    }
   ],
   "source": [
    "rem_empty_list([1, 2, 4, [3, 4, 5, 5], 23, 45, 234])"
   ]
  },
  {
   "cell_type": "code",
   "execution_count": 38,
   "id": "73df7cce",
   "metadata": {},
   "outputs": [
    {
     "data": {
      "text/plain": [
       "[1, 2, 4, [3, 4, 5, 5], 23, 45, 234]"
      ]
     },
     "execution_count": 38,
     "metadata": {},
     "output_type": "execute_result"
    }
   ],
   "source": [
    "rem_empty_list([1, 2, 4, [3, 4, 5, 5], 23, [], 45, [], 234, []])"
   ]
  },
  {
   "cell_type": "markdown",
   "id": "00ad3c85",
   "metadata": {},
   "source": [
    "### 10. Write a Python program to Cloning or Copying a list?\n"
   ]
  },
  {
   "cell_type": "code",
   "execution_count": 40,
   "id": "d9440dda",
   "metadata": {},
   "outputs": [],
   "source": [
    "import copy\n",
    "\n",
    "def cloned_list(l):\n",
    "    \"\"\"\n",
    "    This function returns the deep copy rather than shallow copy\n",
    "    as we wouldn't want the changes made in the clone list to be reflected in the original list.\n",
    "    \"\"\"\n",
    "    return copy.deepcopy(l)"
   ]
  },
  {
   "cell_type": "code",
   "execution_count": 41,
   "id": "31aa281e",
   "metadata": {},
   "outputs": [
    {
     "data": {
      "text/plain": [
       "[1, 2, 4, [3, 4, 5, 5], 23, [], 45, [], 234, []]"
      ]
     },
     "execution_count": 41,
     "metadata": {},
     "output_type": "execute_result"
    }
   ],
   "source": [
    "cloned_list([1, 2, 4, [3, 4, 5, 5], 23, [], 45, [], 234, []])"
   ]
  },
  {
   "cell_type": "markdown",
   "id": "80b4ba99",
   "metadata": {},
   "source": [
    "### 11. Write a Python program to Count occurrences of an element in a list?"
   ]
  },
  {
   "cell_type": "code",
   "execution_count": 42,
   "id": "42bf0019",
   "metadata": {},
   "outputs": [],
   "source": [
    "def count_(l, x): # x is the element of which the occurrences are to be found\n",
    "    \n",
    "    count = 0 # count of x\n",
    "    for i in l:\n",
    "        if i == x: count += 1\n",
    "            \n",
    "    return count    "
   ]
  },
  {
   "cell_type": "code",
   "execution_count": 44,
   "id": "1133c33e",
   "metadata": {},
   "outputs": [
    {
     "data": {
      "text/plain": [
       "3"
      ]
     },
     "execution_count": 44,
     "metadata": {},
     "output_type": "execute_result"
    }
   ],
   "source": [
    "count_([1, 2, 4, [3, 4, 5, 5], 23, [], 45, [], 234, []], [])"
   ]
  },
  {
   "cell_type": "code",
   "execution_count": 46,
   "id": "8854cb34",
   "metadata": {},
   "outputs": [
    {
     "data": {
      "text/plain": [
       "2"
      ]
     },
     "execution_count": 46,
     "metadata": {},
     "output_type": "execute_result"
    }
   ],
   "source": [
    "count_([1, 2, 4, [3, 4, 5, 5], 23, [], 45, [], 234, 33, 2, 2.56, 2332, []], 2)"
   ]
  }
 ],
 "metadata": {
  "kernelspec": {
   "display_name": "Python 3 (ipykernel)",
   "language": "python",
   "name": "python3"
  },
  "language_info": {
   "codemirror_mode": {
    "name": "ipython",
    "version": 3
   },
   "file_extension": ".py",
   "mimetype": "text/x-python",
   "name": "python",
   "nbconvert_exporter": "python",
   "pygments_lexer": "ipython3",
   "version": "3.10.5"
  }
 },
 "nbformat": 4,
 "nbformat_minor": 5
}
