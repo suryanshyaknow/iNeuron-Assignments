{
 "cells": [
  {
   "cell_type": "markdown",
   "id": "e16db5f4",
   "metadata": {},
   "source": [
    "### 1. Write a Python program to find sum of elements in list."
   ]
  },
  {
   "cell_type": "code",
   "execution_count": 1,
   "id": "6701093f",
   "metadata": {},
   "outputs": [],
   "source": [
    "## Assuming elements here are only numbers\n",
    "\n",
    "from typing import List\n",
    "\n",
    "def get_sum_of_list_elements(lst: List):\n",
    "    \"\"\"Returns sum of elements of the given list.\"\"\"\n",
    "    try:\n",
    "        sum_ = 0\n",
    "        for i in lst:\n",
    "            sum_+=i\n",
    "        return sum_\n",
    "    except Exception as e:\n",
    "        print(\"Only numbers are allowed, you li'l shit!\")\n",
    "        print(e)"
   ]
  },
  {
   "cell_type": "code",
   "execution_count": 2,
   "id": "dd4f8a3c",
   "metadata": {},
   "outputs": [
    {
     "name": "stdout",
     "output_type": "stream",
     "text": [
      "2036\n",
      "---------------------------------\n",
      "Only numbers are allowed, you li'l shit!\n",
      "unsupported operand type(s) for +=: 'int' and 'str'\n",
      "None\n"
     ]
    }
   ],
   "source": [
    "## Examples\n",
    "\n",
    "print(get_sum_of_list_elements([26, 11, 1999]))\n",
    "print(\"---------------------------------\")\n",
    "print(get_sum_of_list_elements([26, \"11\", 1999]))"
   ]
  },
  {
   "cell_type": "markdown",
   "id": "75454529",
   "metadata": {},
   "source": [
    "### 2. Write a Python program to multiply all numbers in the list."
   ]
  },
  {
   "cell_type": "code",
   "execution_count": 3,
   "id": "2af88dd7",
   "metadata": {},
   "outputs": [],
   "source": [
    "## Assuming elements here are only numbers\n",
    "\n",
    "from typing import List\n",
    "\n",
    "def get_product_of_list_elements(lst: List):\n",
    "    \"\"\"Returns product of elements of the given list.\"\"\"\n",
    "    try:\n",
    "        prod = 1\n",
    "        for i in lst:\n",
    "            if type(i) in [int, float]:\n",
    "                prod*=i\n",
    "            else:\n",
    "                print(\"Only numbers are allowed, you li'l shit!\")\n",
    "                return None\n",
    "        return prod\n",
    "    except Exception as e:\n",
    "        print(e)"
   ]
  },
  {
   "cell_type": "code",
   "execution_count": 4,
   "id": "620b1b85",
   "metadata": {},
   "outputs": [
    {
     "name": "stdout",
     "output_type": "stream",
     "text": [
      "571714\n",
      "---------------------------------\n",
      "Only numbers are allowed, you li'l shit!\n",
      "None\n"
     ]
    }
   ],
   "source": [
    "## Examples\n",
    "\n",
    "print(get_product_of_list_elements([26, 11, 1999]))\n",
    "print(\"---------------------------------\")\n",
    "print(get_product_of_list_elements([26, \"11\", 1999]))"
   ]
  },
  {
   "cell_type": "markdown",
   "id": "205ee77e",
   "metadata": {},
   "source": [
    "### 3. Write a Python program to find smallest number in a list."
   ]
  },
  {
   "cell_type": "code",
   "execution_count": 5,
   "id": "518c061f",
   "metadata": {},
   "outputs": [],
   "source": [
    "## Assuming elements here are only numbers\n",
    "\n",
    "from typing import List\n",
    "\n",
    "def get_smallest_list_element(lst: List):\n",
    "    \"\"\"Returns the smallest element of the given list.\"\"\"\n",
    "    try:\n",
    "        for i in lst:  # making sure all elements of list are in numerical form\n",
    "            if type(i) not in [int, float]:\n",
    "                print(\"Only numbers are allowed, you li'l shit!\")\n",
    "                return None\n",
    "        lst.sort()\n",
    "        return lst[0]\n",
    "        ...\n",
    "    except Exception as e:\n",
    "        print(e)"
   ]
  },
  {
   "cell_type": "code",
   "execution_count": 6,
   "id": "78b86ebf",
   "metadata": {},
   "outputs": [
    {
     "name": "stdout",
     "output_type": "stream",
     "text": [
      "8\n",
      "---------------------------------\n",
      "Only numbers are allowed, you li'l shit!\n",
      "None\n"
     ]
    }
   ],
   "source": [
    "## Examples\n",
    "\n",
    "print(get_smallest_list_element([26, 11, 1999, 15, 9, 1972, 1976, 8, 17]))\n",
    "print(\"---------------------------------\")\n",
    "print(get_smallest_list_element([26, \"11\", 1999]))"
   ]
  },
  {
   "cell_type": "markdown",
   "id": "cc04083b",
   "metadata": {},
   "source": [
    "### 4. Write a Python program to find the largest number in a list."
   ]
  },
  {
   "cell_type": "code",
   "execution_count": 7,
   "id": "a1ba8ea1",
   "metadata": {},
   "outputs": [],
   "source": [
    "## Assuming elements here are only numbers\n",
    "\n",
    "from typing import List\n",
    "\n",
    "def get_largest_list_element(lst: List):\n",
    "    \"\"\"Returns the largest element of the given list.\"\"\"\n",
    "    try:\n",
    "        for i in lst:  \n",
    "            # making sure all elements of list are in numerical form\n",
    "            if type(i) not in [int, float]:\n",
    "                print(\"Only numbers are allowed, you li'l shit!\")\n",
    "                return None\n",
    "        lst.sort()\n",
    "        return lst[-1]\n",
    "        ...\n",
    "    except Exception as e:\n",
    "        print(e)"
   ]
  },
  {
   "cell_type": "code",
   "execution_count": 8,
   "id": "db901908",
   "metadata": {},
   "outputs": [
    {
     "name": "stdout",
     "output_type": "stream",
     "text": [
      "1999\n",
      "---------------------------------\n",
      "Only numbers are allowed, you li'l shit!\n",
      "None\n"
     ]
    }
   ],
   "source": [
    "## Examples\n",
    "\n",
    "print(get_largest_list_element([26, 11, 1999, 15, 9, 1972, 1976, 8, 17]))\n",
    "print(\"---------------------------------\")\n",
    "print(get_largest_list_element([26, \"11\", 1999]))"
   ]
  },
  {
   "cell_type": "markdown",
   "id": "1eb3ce52",
   "metadata": {},
   "source": [
    "### 5. Write a Python program to find second largest number in a list."
   ]
  },
  {
   "cell_type": "code",
   "execution_count": 9,
   "id": "2424b01c",
   "metadata": {},
   "outputs": [],
   "source": [
    "## Assuming elements here are only numbers\n",
    "\n",
    "from typing import List\n",
    "\n",
    "def get_second_smallest_list_element(lst: List):\n",
    "    \"\"\"Returns the second smallest element of the given list.\"\"\"\n",
    "    try:\n",
    "        for i in lst:  \n",
    "            # making sure all elements of list are in numerical form\n",
    "            if type(i) not in [int, float]:\n",
    "                print(\"Only numbers are allowed, you li'l shit!\")\n",
    "                return None\n",
    "        lst.sort()\n",
    "        return lst[1]\n",
    "        ...\n",
    "    except Exception as e:\n",
    "        print(e)"
   ]
  },
  {
   "cell_type": "code",
   "execution_count": 10,
   "id": "48ff7267",
   "metadata": {},
   "outputs": [
    {
     "name": "stdout",
     "output_type": "stream",
     "text": [
      "9\n",
      "---------------------------------\n",
      "Only numbers are allowed, you li'l shit!\n",
      "None\n"
     ]
    }
   ],
   "source": [
    "## Examples\n",
    "\n",
    "print(get_second_smallest_list_element([26, 11, 1999, 15, 9, 1972, 1976, 8, 17]))\n",
    "print(\"---------------------------------\")\n",
    "print(get_second_smallest_list_element([26, \"11\", 1999]))"
   ]
  },
  {
   "cell_type": "markdown",
   "id": "d88eabb2",
   "metadata": {},
   "source": [
    "### 6. Write a Python program to find the Nth largest elements from a list."
   ]
  },
  {
   "cell_type": "code",
   "execution_count": 11,
   "id": "da9d0bd9",
   "metadata": {},
   "outputs": [],
   "source": [
    "## Assuming elements here are only numbers\n",
    "\n",
    "from typing import List\n",
    "\n",
    "def get_Nth_largest_number(lst: List, nth_largest: int):\n",
    "    \"\"\"Returns the Nth largest element of the given list.\"\"\"\n",
    "    try:\n",
    "        for i in lst:  \n",
    "            # making sure all elements of list are in numerical form\n",
    "            if type(i) not in [int, float]:\n",
    "                print(\"Only numbers are allowed, you li'l shit!\")\n",
    "                return None\n",
    "        lst.sort()\n",
    "        return lst[nth_largest-1]\n",
    "        ...\n",
    "    except Exception as e:\n",
    "        print(e)"
   ]
  },
  {
   "cell_type": "code",
   "execution_count": 12,
   "id": "f4dd25f0",
   "metadata": {},
   "outputs": [
    {
     "name": "stdout",
     "output_type": "stream",
     "text": [
      "15\n",
      "---------------------------------\n",
      "Only numbers are allowed, you li'l shit!\n",
      "None\n"
     ]
    }
   ],
   "source": [
    "## Examples\n",
    "\n",
    "print(get_Nth_largest_number([26, 11, 1999, 15, 9, 1972, 1976, 8, 17], nth_largest=4))\n",
    "print(\"---------------------------------\")\n",
    "print(get_Nth_largest_number([26, \"11\", 1999], nth_largest=4))"
   ]
  },
  {
   "cell_type": "markdown",
   "id": "08a45aa7",
   "metadata": {},
   "source": [
    "### 7. Write a Python program to print even numbers in a list?"
   ]
  },
  {
   "cell_type": "code",
   "execution_count": 13,
   "id": "afec526a",
   "metadata": {},
   "outputs": [],
   "source": [
    "## Assuming elements here are only numbers\n",
    "\n",
    "from typing import List\n",
    "\n",
    "def print_list_even_nums(lst: List):\n",
    "    \"\"\"Prints even elements of the given list.\"\"\"\n",
    "    try:\n",
    "        for i in lst:  \n",
    "            # making sure all elements of list are in numerical form\n",
    "            if type(i) not in [int, float]:\n",
    "                print(\"Only numbers are allowed, you li'l shit!\")\n",
    "                return None\n",
    "            else:\n",
    "                if i%2 == 0:\n",
    "                    print(i)\n",
    "        ...\n",
    "    except Exception as e:\n",
    "        print(e)\n",
    "    "
   ]
  },
  {
   "cell_type": "code",
   "execution_count": 14,
   "id": "b6bf38c1",
   "metadata": {},
   "outputs": [
    {
     "name": "stdout",
     "output_type": "stream",
     "text": [
      "26\n",
      "1972\n",
      "1976\n",
      "8\n",
      "---------------------------------\n",
      "26\n",
      "Only numbers are allowed, you li'l shit!\n"
     ]
    }
   ],
   "source": [
    "## Examples\n",
    "\n",
    "print_list_even_nums([26, 11, 1999, 15, 9, 1972, 1976, 8, 17])\n",
    "print(\"---------------------------------\")\n",
    "print_list_even_nums([26, \"11\", 1999])"
   ]
  },
  {
   "cell_type": "markdown",
   "id": "92afec89",
   "metadata": {},
   "source": [
    "### 8. Write a Python program to print odd numbers in a List."
   ]
  },
  {
   "cell_type": "code",
   "execution_count": 15,
   "id": "4990f627",
   "metadata": {},
   "outputs": [],
   "source": [
    "## Assuming elements here are only numbers\n",
    "\n",
    "from typing import List\n",
    "\n",
    "def print_list_odd_nums(lst: List):\n",
    "    \"\"\"Prints odd elements of the given list.\"\"\"\n",
    "    try:\n",
    "        for i in lst:  \n",
    "            # making sure all elements of list are in numerical form\n",
    "            if type(i) not in [int, float]:\n",
    "                print(\"Only numbers are allowed, you li'l shit!\")\n",
    "                return None\n",
    "            else:\n",
    "                if i%2 != 0:\n",
    "                    print(i)\n",
    "        ...\n",
    "    except Exception as e:\n",
    "        print(e)\n",
    "    "
   ]
  },
  {
   "cell_type": "code",
   "execution_count": 16,
   "id": "52d530cc",
   "metadata": {},
   "outputs": [
    {
     "name": "stdout",
     "output_type": "stream",
     "text": [
      "11\n",
      "1999\n",
      "15\n",
      "9\n",
      "17\n",
      "---------------------------------\n",
      "Only numbers are allowed, you li'l shit!\n"
     ]
    }
   ],
   "source": [
    "## Examples\n",
    "\n",
    "print_list_odd_nums([26, 11, 1999, 15, 9, 1972, 1976, 8, 17])\n",
    "print(\"---------------------------------\")\n",
    "print_list_odd_nums([26, \"11\", 1999])"
   ]
  },
  {
   "cell_type": "markdown",
   "id": "09b6fc08",
   "metadata": {},
   "source": [
    "### 9. Write a Python program to Remove empty List from List."
   ]
  },
  {
   "cell_type": "code",
   "execution_count": 17,
   "id": "404b9354",
   "metadata": {},
   "outputs": [],
   "source": [
    "def remove_empty_list_from_list(lst: List):\n",
    "    \"\"\"Removes all empty lists from the given lists.\"\"\"\n",
    "    try:\n",
    "        empty_lists_idx = []\n",
    "        for i, ele in enumerate(lst):\n",
    "            if type(ele) == list and len(ele) == 0:\n",
    "                empty_lists_idx.append(i)\n",
    "        \n",
    "        for i in empty_lists_idx:\n",
    "            lst.pop(i)\n",
    "            \n",
    "        return lst\n",
    "        ...\n",
    "    except Exception as e:\n",
    "        print(e)"
   ]
  },
  {
   "cell_type": "code",
   "execution_count": 18,
   "id": "33b41fe2",
   "metadata": {},
   "outputs": [
    {
     "data": {
      "text/plain": [
       "[26, 11, 1999, 15, 9, 1972, ['flight-828'], 1976, 'callings', 8, 17]"
      ]
     },
     "execution_count": 18,
     "metadata": {},
     "output_type": "execute_result"
    }
   ],
   "source": [
    "## Examples\n",
    "\n",
    "remove_empty_list_from_list(\n",
    "    [26, 11, [], 1999, 15, 9, 1972, [\"flight-828\"], 1976, \"callings\", 8, 17])"
   ]
  },
  {
   "cell_type": "markdown",
   "id": "8f5d39a4",
   "metadata": {},
   "source": [
    "### 10. Write a Python program to Cloning or Copying a list."
   ]
  },
  {
   "cell_type": "code",
   "execution_count": 19,
   "id": "4158a372",
   "metadata": {},
   "outputs": [
    {
     "data": {
      "text/plain": [
       "[26, 11, [], 1999, 15, 9, 1972, ['flight-828'], 1976, 'callings', 8, 17]"
      ]
     },
     "execution_count": 19,
     "metadata": {},
     "output_type": "execute_result"
    }
   ],
   "source": [
    "lst = [26, 11, [], 1999, 15, 9, 1972, [\"flight-828\"], 1976, \"callings\", 8, 17]\n",
    "\n",
    "# creating a shallow copy of the above list\n",
    "lst_copy = lst.copy()\n",
    "lst_copy"
   ]
  },
  {
   "cell_type": "markdown",
   "id": "2a16d5f6",
   "metadata": {},
   "source": [
    "### 11. Write a Python program to count occurrences of an element in a list."
   ]
  },
  {
   "cell_type": "code",
   "execution_count": 20,
   "id": "be73a966",
   "metadata": {},
   "outputs": [],
   "source": [
    "def return_count_of_list_element(lst: List, ele):\n",
    "    \"\"\"Returns count of a given element in the given list.\"\"\"\n",
    "    try:\n",
    "        count_ele = 0\n",
    "        if ele in lst:\n",
    "            for i in lst:\n",
    "                if i == ele:\n",
    "                    count_ele+=1\n",
    "        else:\n",
    "            return 0\n",
    "        return count_ele\n",
    "        ...\n",
    "    except Exception as e:\n",
    "        print(e)"
   ]
  },
  {
   "cell_type": "code",
   "execution_count": 21,
   "id": "05b7274d",
   "metadata": {},
   "outputs": [
    {
     "data": {
      "text/plain": [
       "2"
      ]
     },
     "execution_count": 21,
     "metadata": {},
     "output_type": "execute_result"
    }
   ],
   "source": [
    "## Examples\n",
    "\n",
    "l = [\"callings\", 828, \"callings\", 828, [\"callings\"], \"manifest\", \"82:8\", 26, \"cave\"]\n",
    "return_count_of_list_element(l, ele=\"callings\")"
   ]
  }
 ],
 "metadata": {
  "kernelspec": {
   "display_name": "Python 3 (ipykernel)",
   "language": "python",
   "name": "python3"
  },
  "language_info": {
   "codemirror_mode": {
    "name": "ipython",
    "version": 3
   },
   "file_extension": ".py",
   "mimetype": "text/x-python",
   "name": "python",
   "nbconvert_exporter": "python",
   "pygments_lexer": "ipython3",
   "version": "3.9.12"
  }
 },
 "nbformat": 4,
 "nbformat_minor": 5
}
