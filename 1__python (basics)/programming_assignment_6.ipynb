{
 "cells": [
  {
   "cell_type": "markdown",
   "id": "8d5a93db",
   "metadata": {},
   "source": [
    "## 1.\tWrite a Python Program to Display Fibonacci Sequence Using Recursion?"
   ]
  },
  {
   "cell_type": "code",
   "execution_count": 21,
   "id": "483d1f68",
   "metadata": {},
   "outputs": [],
   "source": [
    "# first of all, we'll find the nth term\n",
    "def fib_nth(n):\n",
    "    if n <= 1:\n",
    "        return n\n",
    "    \n",
    "    else:\n",
    "        return fib_nth(n-1) + fib_nth(n-2)\n",
    "\n",
    "# function to display the fib series\n",
    "def display_fib(n):\n",
    "    for i in range(n):\n",
    "        print(fib_nth(i))"
   ]
  },
  {
   "cell_type": "code",
   "execution_count": 26,
   "id": "1a478fd8",
   "metadata": {},
   "outputs": [
    {
     "name": "stdout",
     "output_type": "stream",
     "text": [
      "Enter the number of elements you desire in the series: 11\n"
     ]
    }
   ],
   "source": [
    "while True:\n",
    "    try:\n",
    "        n = int(input(\"Enter the number of elements you desire in the series: \"))\n",
    "    except Exception as e:\n",
    "        print(e)\n",
    "        \n",
    "    if n>=0:\n",
    "        break\n",
    "    else:\n",
    "        print(\"Enter again! How can you have negative number of elements in the series?!\")"
   ]
  },
  {
   "cell_type": "code",
   "execution_count": 27,
   "id": "c7c815dd",
   "metadata": {},
   "outputs": [
    {
     "name": "stdout",
     "output_type": "stream",
     "text": [
      "0\n",
      "1\n",
      "1\n",
      "2\n",
      "3\n",
      "5\n",
      "8\n",
      "13\n",
      "21\n",
      "34\n",
      "55\n"
     ]
    }
   ],
   "source": [
    "display_fib(n)"
   ]
  },
  {
   "cell_type": "markdown",
   "id": "10a48a26",
   "metadata": {},
   "source": [
    "## 2.\tWrite a Python Program to Find Factorial of Number Using Recursion?\n"
   ]
  },
  {
   "cell_type": "markdown",
   "id": "be8fd77d",
   "metadata": {},
   "source": [
    "**n! = n \\* (n-1) \\* (n-2) \\* (n-3) \\* ............. 1**\n",
    "<br>\n",
    "**Also,**\n",
    "<br>\n",
    "**n! = n  \\* (n-1)!**"
   ]
  },
  {
   "cell_type": "code",
   "execution_count": 28,
   "id": "b21a6670",
   "metadata": {},
   "outputs": [],
   "source": [
    "def fac_recursive(n):\n",
    "    try:\n",
    "        if n == 0 or n == 1:\n",
    "            fac =  1\n",
    "        elif n < 0:\n",
    "            return (\"The notion 'factorial of negative numbers' doesn't make any sense!\")\n",
    "        else:\n",
    "            fac = n * fac_recursive(n-1)\n",
    "    \n",
    "    except Exception as e:\n",
    "        print(e)\n",
    "        \n",
    "    else:\n",
    "        return fac"
   ]
  },
  {
   "cell_type": "code",
   "execution_count": 29,
   "id": "a86e901d",
   "metadata": {},
   "outputs": [
    {
     "data": {
      "text/plain": [
       "\"The notion 'factorial of negative numbers' doesn't make any sense!\""
      ]
     },
     "execution_count": 29,
     "metadata": {},
     "output_type": "execute_result"
    }
   ],
   "source": [
    "fac_recursive(-8)"
   ]
  },
  {
   "cell_type": "code",
   "execution_count": 30,
   "id": "a30dec86",
   "metadata": {},
   "outputs": [
    {
     "data": {
      "text/plain": [
       "120"
      ]
     },
     "execution_count": 30,
     "metadata": {},
     "output_type": "execute_result"
    }
   ],
   "source": [
    "fac_recursive(5)"
   ]
  },
  {
   "cell_type": "code",
   "execution_count": 31,
   "id": "0fe8ea18",
   "metadata": {},
   "outputs": [
    {
     "data": {
      "text/plain": [
       "479001600"
      ]
     },
     "execution_count": 31,
     "metadata": {},
     "output_type": "execute_result"
    }
   ],
   "source": [
    "fac_recursive(12)"
   ]
  },
  {
   "cell_type": "markdown",
   "id": "e4333dcf",
   "metadata": {},
   "source": [
    "## 3.\tWrite a Python Program to calculate your Body Mass Index?\n"
   ]
  },
  {
   "cell_type": "markdown",
   "id": "52d3a7e7",
   "metadata": {},
   "source": [
    "### BMI = weight / (height/100)\\**2\n",
    "\n",
    "- **if BMI <=  18.4 ------> UNDERWEIGHT**\n",
    "- **if 18.5 <= BMI <= 24.9 ------> HEALTHY**\n",
    "- **if 25 <= BMI <= --------> OVER WEIGHT**\n",
    "- **if 30 <= BMI <= 34.9 --------> SEVERLEY OVER WEIGHT**\n",
    "- **if 35 <= BMI <= 39.9 --------> OBESE**\n",
    "- **if BMI >= 40 ----------> SEVERELY OBESE**\n"
   ]
  },
  {
   "cell_type": "code",
   "execution_count": 36,
   "id": "e4bb2bf3",
   "metadata": {},
   "outputs": [],
   "source": [
    "def BMI(weight, height): # gotta pass height in cms and weight in kgs\n",
    "    try:\n",
    "        w = weight\n",
    "        h = height\n",
    "        \n",
    "        bmi = w/(h/100)**2\n",
    "        bmi = round(bmi, 2) # rounding off to 2 digits\n",
    "        \n",
    "        if bmi >= 40:\n",
    "            return f\"Your BMI is {bmi} and accordingly you are SEVERELY OBESE!\"\n",
    "        elif bmi >= 35:\n",
    "            return f\"Your BMI is {bmi} and accordingly you are OBESE!\"\n",
    "        elif bmi >= 30:\n",
    "            return f\"Your BMI is {bmi} and accordingly you are SEVERLY OVER WEIGHT!\"\n",
    "        elif bmi >= 25:\n",
    "            return f\"Your BMI is {bmi} and accordingly you are OVER WEIGHT!\"\n",
    "        elif bmi >= 18.5:\n",
    "            return f\"Your BMI is {bmi} and accordingly you are HEALTHY!\"\n",
    "        else:\n",
    "            return f\"Your BMI is {bmi} and accordingly you are UNDER WEIGHT!\"\n",
    "        \n",
    "    except Exception as e:\n",
    "        print(e)\n",
    "    "
   ]
  },
  {
   "cell_type": "code",
   "execution_count": 37,
   "id": "1ca8718d",
   "metadata": {},
   "outputs": [
    {
     "data": {
      "text/plain": [
       "'Your BMI is 28.53 and accordingly you are OVER WEIGHT!'"
      ]
     },
     "execution_count": 37,
     "metadata": {},
     "output_type": "execute_result"
    }
   ],
   "source": [
    "BMI(91.5, 179.07)"
   ]
  },
  {
   "cell_type": "code",
   "execution_count": 38,
   "id": "7ad91ad4",
   "metadata": {},
   "outputs": [
    {
     "data": {
      "text/plain": [
       "'Your BMI is 26.51 and accordingly you are OVER WEIGHT!'"
      ]
     },
     "execution_count": 38,
     "metadata": {},
     "output_type": "execute_result"
    }
   ],
   "source": [
    "BMI(85, 179.07)"
   ]
  },
  {
   "cell_type": "code",
   "execution_count": 39,
   "id": "550c7320",
   "metadata": {},
   "outputs": [
    {
     "data": {
      "text/plain": [
       "'Your BMI is 24.95 and accordingly you are HEALTHY!'"
      ]
     },
     "execution_count": 39,
     "metadata": {},
     "output_type": "execute_result"
    }
   ],
   "source": [
    "BMI(80, 179.07)"
   ]
  },
  {
   "cell_type": "markdown",
   "id": "b3938de2",
   "metadata": {},
   "source": [
    "## 4.\tWrite a Python Program to calculate the natural logarithm of any number?\n"
   ]
  },
  {
   "cell_type": "code",
   "execution_count": 23,
   "id": "39a82377",
   "metadata": {},
   "outputs": [
    {
     "data": {
      "text/plain": [
       "'The Logarithm of negative numbers does not exist!'"
      ]
     },
     "execution_count": 23,
     "metadata": {},
     "output_type": "execute_result"
    }
   ],
   "source": [
    "import math\n",
    "def log(n):\n",
    "    try:\n",
    "        if n < 0:\n",
    "            return \"The Logarithm of negative numbers does not exist!\"\n",
    "        return math.log(n) # by default base = \"e\"\n",
    "    \n",
    "    except Exception as e:\n",
    "        print(e)\n",
    "log(-10)    "
   ]
  },
  {
   "cell_type": "code",
   "execution_count": 24,
   "id": "7a5a582e",
   "metadata": {},
   "outputs": [
    {
     "data": {
      "text/plain": [
       "3.2188758248682006"
      ]
     },
     "execution_count": 24,
     "metadata": {},
     "output_type": "execute_result"
    }
   ],
   "source": [
    "log(25)    "
   ]
  },
  {
   "cell_type": "markdown",
   "id": "bd1ae6a8",
   "metadata": {},
   "source": [
    "## 5.\tWrite a Python Program for cube sum of first n natural numbers?\n"
   ]
  },
  {
   "cell_type": "code",
   "execution_count": 16,
   "id": "10db19e8",
   "metadata": {},
   "outputs": [
    {
     "data": {
      "text/plain": [
       "3025"
      ]
     },
     "execution_count": 16,
     "metadata": {},
     "output_type": "execute_result"
    }
   ],
   "source": [
    "def cube_sum(n):\n",
    "    cum_sum = 0\n",
    "    try:    \n",
    "        for i in range(1, n+1): # because first n natural numbers are to be considered\n",
    "            cum_sum += i**3\n",
    "        return cum_sum\n",
    "    \n",
    "    except Exception as e:\n",
    "        print(e)\n",
    "cube_sum(10)"
   ]
  }
 ],
 "metadata": {
  "kernelspec": {
   "display_name": "Python 3 (ipykernel)",
   "language": "python",
   "name": "python3"
  },
  "language_info": {
   "codemirror_mode": {
    "name": "ipython",
    "version": 3
   },
   "file_extension": ".py",
   "mimetype": "text/x-python",
   "name": "python",
   "nbconvert_exporter": "python",
   "pygments_lexer": "ipython3",
   "version": "3.10.5"
  }
 },
 "nbformat": 4,
 "nbformat_minor": 5
}
