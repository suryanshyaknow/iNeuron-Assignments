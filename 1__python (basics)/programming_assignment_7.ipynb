{
 "cells": [
  {
   "cell_type": "code",
   "execution_count": 1,
   "id": "837937bf",
   "metadata": {},
   "outputs": [],
   "source": [
    "import numpy as np, pandas as pd\n",
    "import random"
   ]
  },
  {
   "cell_type": "markdown",
   "id": "24c90e61",
   "metadata": {},
   "source": [
    "## 1.\tWrite a Python Program to find sum of array?"
   ]
  },
  {
   "cell_type": "code",
   "execution_count": 2,
   "id": "a07ad90a",
   "metadata": {},
   "outputs": [
    {
     "data": {
      "text/plain": [
       "array([[ 1.76405235,  0.40015721,  0.97873798],\n",
       "       [ 2.2408932 ,  1.86755799, -0.97727788],\n",
       "       [ 0.95008842, -0.15135721, -0.10321885]])"
      ]
     },
     "execution_count": 2,
     "metadata": {},
     "output_type": "execute_result"
    }
   ],
   "source": [
    "np.random.seed(0)\n",
    "arr = np.random.randn(3,3) #generating a 3-Dimensional array.\n",
    "arr"
   ]
  },
  {
   "cell_type": "code",
   "execution_count": 3,
   "id": "13f9a8a0",
   "metadata": {},
   "outputs": [
    {
     "data": {
      "text/plain": [
       "6.969633205349975"
      ]
     },
     "execution_count": 3,
     "metadata": {},
     "output_type": "execute_result"
    }
   ],
   "source": [
    "arr.sum()"
   ]
  },
  {
   "cell_type": "markdown",
   "id": "7ca37a95",
   "metadata": {},
   "source": [
    "**Or:**"
   ]
  },
  {
   "cell_type": "code",
   "execution_count": 4,
   "id": "dfcb6b3a",
   "metadata": {},
   "outputs": [
    {
     "data": {
      "text/plain": [
       "'The sum of the inputted array is 6.969633205349975'"
      ]
     },
     "execution_count": 4,
     "metadata": {},
     "output_type": "execute_result"
    }
   ],
   "source": [
    "def sum_array(arr):\n",
    "    x = 0\n",
    "    for i in range(len(arr)):\n",
    "        for j in arr[i]:\n",
    "            x += j\n",
    "    return f\"The sum of the inputted array is {x}\"\n",
    "sum_array(arr)"
   ]
  },
  {
   "cell_type": "markdown",
   "id": "4595cb8a",
   "metadata": {},
   "source": [
    "## 2.\tWrite a Python Program to find largest element in an array?"
   ]
  },
  {
   "cell_type": "code",
   "execution_count": 5,
   "id": "1e6f8dca",
   "metadata": {},
   "outputs": [
    {
     "data": {
      "text/plain": [
       "array([[ 1.76405235,  0.40015721,  0.97873798],\n",
       "       [ 2.2408932 ,  1.86755799, -0.97727788],\n",
       "       [ 0.95008842, -0.15135721, -0.10321885]])"
      ]
     },
     "execution_count": 5,
     "metadata": {},
     "output_type": "execute_result"
    }
   ],
   "source": [
    "arr"
   ]
  },
  {
   "cell_type": "code",
   "execution_count": 6,
   "id": "70e5d4ee",
   "metadata": {},
   "outputs": [
    {
     "data": {
      "text/plain": [
       "2.240893199201458"
      ]
     },
     "execution_count": 6,
     "metadata": {},
     "output_type": "execute_result"
    }
   ],
   "source": [
    "arr.max() #largest element"
   ]
  },
  {
   "cell_type": "markdown",
   "id": "6ce1a3a5",
   "metadata": {},
   "source": [
    "**Or:**"
   ]
  },
  {
   "cell_type": "code",
   "execution_count": 7,
   "id": "54cea389",
   "metadata": {},
   "outputs": [
    {
     "data": {
      "text/plain": [
       "'The greatest element of this array is 2.240893199201458'"
      ]
     },
     "execution_count": 7,
     "metadata": {},
     "output_type": "execute_result"
    }
   ],
   "source": [
    "def greatest_ele(arr):\n",
    "    max = 0\n",
    "    for i in range(len(arr)):\n",
    "        for j in arr[i]:\n",
    "            if max < j:\n",
    "                max = j\n",
    "\n",
    "    return f\"The greatest element of this array is {max}\"\n",
    "greatest_ele(arr)"
   ]
  },
  {
   "cell_type": "markdown",
   "id": "a2d4ac8b",
   "metadata": {},
   "source": [
    "## 3.\tWrite a Python Program for array rotation?"
   ]
  },
  {
   "cell_type": "code",
   "execution_count": 8,
   "id": "6156fa66",
   "metadata": {},
   "outputs": [
    {
     "data": {
      "text/plain": [
       "array([[ 1.76405235,  0.40015721,  0.97873798],\n",
       "       [ 2.2408932 ,  1.86755799, -0.97727788],\n",
       "       [ 0.95008842, -0.15135721, -0.10321885]])"
      ]
     },
     "execution_count": 8,
     "metadata": {},
     "output_type": "execute_result"
    }
   ],
   "source": [
    "arr"
   ]
  },
  {
   "cell_type": "code",
   "execution_count": 9,
   "id": "1bb34168",
   "metadata": {},
   "outputs": [
    {
     "data": {
      "text/plain": [
       "array([[ 1.76405235,  2.2408932 ,  0.95008842],\n",
       "       [ 0.40015721,  1.86755799, -0.15135721],\n",
       "       [ 0.97873798, -0.97727788, -0.10321885]])"
      ]
     },
     "execution_count": 9,
     "metadata": {},
     "output_type": "execute_result"
    }
   ],
   "source": [
    "#Rotation i.e. Transpose\n",
    "arr.T"
   ]
  },
  {
   "cell_type": "markdown",
   "id": "0fe8dee6",
   "metadata": {},
   "source": [
    "## 4.\tWrite a Python Program to Split the array and add the first part to the end?"
   ]
  },
  {
   "cell_type": "code",
   "execution_count": 10,
   "id": "e04a4a53",
   "metadata": {},
   "outputs": [
    {
     "data": {
      "text/plain": [
       "array([[ 2.2408932 ,  1.86755799, -0.97727788],\n",
       "       [ 0.95008842, -0.15135721, -0.10321885],\n",
       "       [ 1.76405235,  0.40015721,  0.97873798]])"
      ]
     },
     "execution_count": 10,
     "metadata": {},
     "output_type": "execute_result"
    }
   ],
   "source": [
    "def split_add(arr):\n",
    "    \n",
    "    a = arr[1:]\n",
    "    a = pd.DataFrame(a) # Converting 'a' to DataFrame so that an additional row can be appended.\n",
    "    a.loc[len(a)+1] = arr[0]\n",
    "    a = np.array(a) # converting the 'a' back to array.\n",
    "    return a\n",
    "    \n",
    "split_add(arr)"
   ]
  },
  {
   "cell_type": "markdown",
   "id": "7c0a7e7c",
   "metadata": {},
   "source": [
    "## 5.\tWrite a Python Program to check if given array is Monotonic?"
   ]
  },
  {
   "cell_type": "markdown",
   "id": "422a449c",
   "metadata": {},
   "source": [
    "**Monotonicity means either the array is in increasing order or in decreasing order.**"
   ]
  },
  {
   "cell_type": "code",
   "execution_count": 11,
   "id": "735b9fed",
   "metadata": {},
   "outputs": [
    {
     "data": {
      "text/plain": [
       "array([[ 1.76405235,  0.40015721,  0.97873798],\n",
       "       [ 2.2408932 ,  1.86755799, -0.97727788],\n",
       "       [ 0.95008842, -0.15135721, -0.10321885]])"
      ]
     },
     "execution_count": 11,
     "metadata": {},
     "output_type": "execute_result"
    }
   ],
   "source": [
    "arr"
   ]
  },
  {
   "cell_type": "code",
   "execution_count": 37,
   "id": "6e76f566",
   "metadata": {},
   "outputs": [
    {
     "data": {
      "text/plain": [
       "'The given array is montonic!'"
      ]
     },
     "execution_count": 37,
     "metadata": {},
     "output_type": "execute_result"
    }
   ],
   "source": [
    "def if_mono(arr):\n",
    "    \n",
    "    a = [] # a list containing all the elements of arr.\n",
    "    \n",
    "    i = 0\n",
    "    j = 0\n",
    "    while i < len(arr): #if our array is not 1-dimensional.\n",
    "        while j < len(arr):\n",
    "            a.append(arr[i][j])\n",
    "            j +=1\n",
    "        i+=1\n",
    "    \n",
    "    if all(a[i]>=a[i+1] for i in range(0,len(a)-1) or a[i]<=a[i+1] for i in range(0,len(a)-1)):\n",
    "            return \"The given array is montonic!\"\n",
    "    else:\n",
    "        return \"The given array ain't montonic!\"\n",
    "    \n",
    "if_mono(arr)"
   ]
  }
 ],
 "metadata": {
  "kernelspec": {
   "display_name": "Python 3 (ipykernel)",
   "language": "python",
   "name": "python3"
  },
  "language_info": {
   "codemirror_mode": {
    "name": "ipython",
    "version": 3
   },
   "file_extension": ".py",
   "mimetype": "text/x-python",
   "name": "python",
   "nbconvert_exporter": "python",
   "pygments_lexer": "ipython3",
   "version": "3.9.7"
  }
 },
 "nbformat": 4,
 "nbformat_minor": 5
}
