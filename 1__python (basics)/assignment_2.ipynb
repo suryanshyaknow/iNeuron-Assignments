{
 "cells": [
  {
   "cell_type": "markdown",
   "id": "17765705",
   "metadata": {},
   "source": [
    "## 1. What are the two values of the Boolean data type? How do you write them?"
   ]
  },
  {
   "cell_type": "markdown",
   "id": "f406b14f",
   "metadata": {},
   "source": [
    "**Ans:** The two values of the boolean data type are -- True and False. And this is exactly how we write them.\n",
    "\n",
    "Moreover, in python, 1 and 0 are also interpeted as boolean values by the compiler as True and False respectively."
   ]
  },
  {
   "cell_type": "markdown",
   "id": "6e5d23eb",
   "metadata": {},
   "source": [
    "## 2. What are the three different types of Boolean operators?"
   ]
  },
  {
   "cell_type": "markdown",
   "id": "67c627fa",
   "metadata": {},
   "source": [
    "**Ans:** The three basic types of boolean operators are:\n",
    "\n",
    " - **AND**;\n",
    "    AND operator find all of the search terms. It tells the compiler that all search items must be present in the result.   \n",
    "    **For example:** Searching on x AND y AND z returns only results that contain all of the three search terms.  \n",
    "    Very limited results are generated.\n",
    "    <br>\n",
    "\n",
    " - **OR**;\n",
    "    OR operator find one term or the other. It tells the compiler that atleast one of the search items must be present in the result.<br>**For example:** Searching on x OR y OR z returns all items that contain any of the three search terms.  \n",
    "    Returns a large number of results.\n",
    "    <br>\n",
    "\n",
    " - **NOT**;\n",
    "    NOT eliminates items that contain the specified term.<br>**For ex:** Searching on x NOT y returns items that are about x, but will specifically NOT return items that contain y.  \n",
    "    This is a way to fine-tune results.\n",
    "    <br>"
   ]
  },
  {
   "cell_type": "markdown",
   "id": "ddf3f04b",
   "metadata": {},
   "source": [
    "## 3. Make a list of each Boolean operator's truth tables (i.e. every possible combination of Boolean values for the operator and what it evaluates )."
   ]
  },
  {
   "cell_type": "markdown",
   "id": "7cf128e7",
   "metadata": {},
   "source": [
    "**Ans:**\n",
    "\n",
    "**AND**<br>\n",
    "\n",
    "Input A&emsp;     Input B&emsp;     Output<br>\n",
    "0&emsp;&emsp;&emsp;&emsp;           0&emsp;&emsp;&emsp;&emsp;           0<br>\n",
    "0&emsp;&emsp;&emsp;&emsp;           1&emsp;&emsp;&emsp;&emsp;           0<br>\n",
    "1&emsp;&emsp;&emsp;&emsp;           0&emsp;&emsp;&emsp;&emsp;           0<br>\n",
    "1&emsp;&emsp;&emsp;&emsp;           1&emsp;&emsp;&emsp;&emsp;           1<br>\n",
    "\n",
    "**OR**<br>\n",
    "\n",
    "Input A&emsp;      Input B&emsp;      Output<br>\n",
    "0&emsp;&emsp;&emsp;&emsp;           0&emsp;&emsp;&emsp;&emsp;           0<br>\n",
    "0&emsp;&emsp;&emsp;&emsp;           1&emsp;&emsp;&emsp;&emsp;           1<br>\n",
    "1&emsp;&emsp;&emsp;&emsp;           0&emsp;&emsp;&emsp;&emsp;           1<br>\n",
    "1&emsp;&emsp;&emsp;&emsp;           1&emsp;&emsp;&emsp;&emsp;           1<br>\n",
    "\n",
    "**NOT**<br>\n",
    "\n",
    "Input A&emsp;      Output<br>\n",
    "0&emsp;&emsp;&emsp;&emsp;           1<br>\n",
    "1&emsp;&emsp;&emsp;&emsp;           0<br>"
   ]
  },
  {
   "cell_type": "markdown",
   "id": "364ce7a1",
   "metadata": {},
   "source": [
    "## 4. What are the values of the following expressions?\n",
    "### (5 > 4) and (3 == 5)\n",
    "### not (5 > 4)\n",
    "### (5 > 4) or (3 == 5)\n",
    "### not ((5 > 4) or (3 == 5))\n",
    "### (True and True) and (True == False)\n",
    "### (not False) or (not True)"
   ]
  },
  {
   "cell_type": "markdown",
   "id": "6432d5a4",
   "metadata": {},
   "source": [
    "**Ans:** Let's evaluate them step by step;\n",
    "\n",
    "#### (5 > 4) and (3 == 5)    \n",
    "True and False    \n",
    "False    \n",
    "\n",
    "#### not (5 > 4)    \n",
    "not True    \n",
    "False    \n",
    "\n",
    "#### (5 > 4) or (3 == 5)    \n",
    "True or False    \n",
    "True    \n",
    "\n",
    "#### not ((5 > 4) or (3 == 5))    \n",
    "not (True or False)    \n",
    "not True   \n",
    "False    \n",
    "\n",
    "#### (True and True) and (True == False)    \n",
    "True and False    \n",
    "False    \n",
    "\n",
    "#### (not False) or (not True)    \n",
    "True or False    \n",
    "True    "
   ]
  },
  {
   "cell_type": "code",
   "execution_count": 1,
   "id": "3cf4ffcc",
   "metadata": {},
   "outputs": [
    {
     "data": {
      "text/plain": [
       "False"
      ]
     },
     "execution_count": 1,
     "metadata": {},
     "output_type": "execute_result"
    }
   ],
   "source": [
    "(5 > 4) and (3 == 5)"
   ]
  },
  {
   "cell_type": "code",
   "execution_count": 2,
   "id": "49d9a3b0",
   "metadata": {},
   "outputs": [
    {
     "data": {
      "text/plain": [
       "False"
      ]
     },
     "execution_count": 2,
     "metadata": {},
     "output_type": "execute_result"
    }
   ],
   "source": [
    "not (5 > 4)"
   ]
  },
  {
   "cell_type": "code",
   "execution_count": 3,
   "id": "d4333955",
   "metadata": {},
   "outputs": [
    {
     "data": {
      "text/plain": [
       "True"
      ]
     },
     "execution_count": 3,
     "metadata": {},
     "output_type": "execute_result"
    }
   ],
   "source": [
    "(5 > 4) or (3 == 5)"
   ]
  },
  {
   "cell_type": "code",
   "execution_count": 4,
   "id": "df1e243a",
   "metadata": {},
   "outputs": [
    {
     "data": {
      "text/plain": [
       "False"
      ]
     },
     "execution_count": 4,
     "metadata": {},
     "output_type": "execute_result"
    }
   ],
   "source": [
    "not ((5 > 4) or (3 == 5))"
   ]
  },
  {
   "cell_type": "code",
   "execution_count": 5,
   "id": "6a2669bd",
   "metadata": {},
   "outputs": [
    {
     "data": {
      "text/plain": [
       "False"
      ]
     },
     "execution_count": 5,
     "metadata": {},
     "output_type": "execute_result"
    }
   ],
   "source": [
    "(True and True) and (True == False)"
   ]
  },
  {
   "cell_type": "code",
   "execution_count": 6,
   "id": "13e61285",
   "metadata": {},
   "outputs": [
    {
     "data": {
      "text/plain": [
       "True"
      ]
     },
     "execution_count": 6,
     "metadata": {},
     "output_type": "execute_result"
    }
   ],
   "source": [
    "(not False) or (not True)"
   ]
  },
  {
   "cell_type": "code",
   "execution_count": null,
   "id": "97ac8ba0",
   "metadata": {},
   "outputs": [],
   "source": []
  },
  {
   "cell_type": "markdown",
   "id": "0e3065be",
   "metadata": {},
   "source": [
    "## 5. What are the six comparison operators?\n",
    "\n",
    "**Ans:** The six types of comparison operators are:\n",
    "\n",
    " - #### equals to, ==\n",
    "to check the equality between two values.\n",
    "\n",
    " - #### greater than '>'\n",
    "to check if the value at left hand side is greater than the righthand side value and returns True if condition is satisfied.\n",
    "\n",
    " - #### greater than or equals to '>='\n",
    "to check if the value at left hand side is greater than or equals to the righthand side value and returns True if condition is satisfied.\n",
    "\n",
    " - #### less than '<'  \n",
    "to check if the value at left hand side is less than to the righthand side and returns True if condition is satisfied.\n",
    "\n",
    " - #### less than equals to '<='\n",
    "to check if the value at left hand side is less than or equals to the righthand side and returns True if condition is satisfied.\n",
    "\n",
    " - #### not equals to  '!='\n",
    "Checks if the LHS value is NOT equals to RHS value and returns True if satisfied.\n"
   ]
  },
  {
   "cell_type": "code",
   "execution_count": 7,
   "id": "7650e48f",
   "metadata": {},
   "outputs": [
    {
     "data": {
      "text/plain": [
       "True"
      ]
     },
     "execution_count": 7,
     "metadata": {},
     "output_type": "execute_result"
    }
   ],
   "source": [
    "#For examples\n",
    "\n",
    "2 == 2"
   ]
  },
  {
   "cell_type": "code",
   "execution_count": 8,
   "id": "fe5a55c9",
   "metadata": {},
   "outputs": [
    {
     "data": {
      "text/plain": [
       "False"
      ]
     },
     "execution_count": 8,
     "metadata": {},
     "output_type": "execute_result"
    }
   ],
   "source": [
    "3 > 4"
   ]
  },
  {
   "cell_type": "code",
   "execution_count": 9,
   "id": "30db56d3",
   "metadata": {},
   "outputs": [
    {
     "data": {
      "text/plain": [
       "True"
      ]
     },
     "execution_count": 9,
     "metadata": {},
     "output_type": "execute_result"
    }
   ],
   "source": [
    "3 >= 2"
   ]
  },
  {
   "cell_type": "code",
   "execution_count": 10,
   "id": "01cf1e70",
   "metadata": {},
   "outputs": [
    {
     "data": {
      "text/plain": [
       "True"
      ]
     },
     "execution_count": 10,
     "metadata": {},
     "output_type": "execute_result"
    }
   ],
   "source": [
    "3 < 4"
   ]
  },
  {
   "cell_type": "code",
   "execution_count": 11,
   "id": "0a8f9a1b",
   "metadata": {},
   "outputs": [
    {
     "data": {
      "text/plain": [
       "True"
      ]
     },
     "execution_count": 11,
     "metadata": {},
     "output_type": "execute_result"
    }
   ],
   "source": [
    "3 <= 4"
   ]
  },
  {
   "cell_type": "code",
   "execution_count": 12,
   "id": "065ff8eb",
   "metadata": {},
   "outputs": [
    {
     "data": {
      "text/plain": [
       "True"
      ]
     },
     "execution_count": 12,
     "metadata": {},
     "output_type": "execute_result"
    }
   ],
   "source": [
    "3 != 4"
   ]
  },
  {
   "cell_type": "code",
   "execution_count": null,
   "id": "1afe7865",
   "metadata": {},
   "outputs": [],
   "source": []
  },
  {
   "cell_type": "markdown",
   "id": "cc688ef0",
   "metadata": {},
   "source": [
    "## 6. How do you tell the difference between the equal to and assignment operators? Describe a condition and when you would use one.\n",
    "\n",
    "**Ans:** Their appearances are more than enough to tell the difference between them.\n",
    "\n",
    "'==' is equal to operator and '=' is the assignment operator."
   ]
  },
  {
   "cell_type": "code",
   "execution_count": 13,
   "id": "2ae44a8f",
   "metadata": {},
   "outputs": [
    {
     "data": {
      "text/plain": [
       "False"
      ]
     },
     "execution_count": 13,
     "metadata": {},
     "output_type": "execute_result"
    }
   ],
   "source": [
    "'''\n",
    "if I want to check whether two values are equal or not, then I'ma use '==' operator\n",
    "And if I want to allot or assign a certain value to a certain variable (can be new or can be the one already pointing \n",
    "to a value) then I am supposed to use the assignment '=' operator.\n",
    "'''\n",
    "#for ex:\n",
    "x = 4 #assigning the value 4 to the variable x\n",
    "y = 7\n",
    "#checking whether x is equals to y\n",
    "x == y"
   ]
  },
  {
   "cell_type": "code",
   "execution_count": null,
   "id": "05a64949",
   "metadata": {},
   "outputs": [],
   "source": []
  },
  {
   "cell_type": "markdown",
   "id": "026b9838",
   "metadata": {},
   "source": [
    "## 7. Identify the three blocks in this code:\n",
    "\n",
    "**spam = 0\n",
    "if spam == 10:<br>\n",
    "print('eggs')<br>\n",
    "if spam > 5:<br>\n",
    "print('bacon')<br>\n",
    "else:<br>\n",
    "print('ham')<br>\n",
    "print('spam')<br>\n",
    "print('spam')**<br>\n",
    "\n",
    "**Ans:** \n",
    "**first block:**     \n",
    "spam = 0    \n",
    "if spam > 5:        \n",
    "&emsp;print('bacon')\n",
    "                 \n",
    "**second block:**     \n",
    "if spam == 10:      \n",
    "&emsp;print('eggs')\n",
    "                  \n",
    "                  \n",
    "**third block:**    \n",
    "else:    \n",
    "&emsp;print('ham')    \n",
    "&emsp;print('spam')    \n",
    "&emsp;print('spam)\n"
   ]
  },
  {
   "cell_type": "markdown",
   "id": "82e0fa8e",
   "metadata": {},
   "source": [
    "## 8. Write code that prints Hello if 1 is stored in spam, prints Howdy if 2 is stored in spam, and print Greetings! if anything else is stored in spam."
   ]
  },
  {
   "cell_type": "code",
   "execution_count": 26,
   "id": "ebcd7f9c",
   "metadata": {},
   "outputs": [
    {
     "name": "stdout",
     "output_type": "stream",
     "text": [
      "2\n",
      "Howdy\n"
     ]
    }
   ],
   "source": [
    "#Ans:\n",
    "\n",
    "spam = int(input())\n",
    "\n",
    "if spam == 1:\n",
    "    print(\"Hello\")\n",
    "elif spam == 2:\n",
    "    print(\"Howdy\")\n",
    "else:\n",
    "    print(\"Greetings!\")"
   ]
  },
  {
   "cell_type": "markdown",
   "id": "0f5c074e",
   "metadata": {},
   "source": [
    "## 9. If your programm is stuck in an endless loop, what keys you’ll press?\n",
    "\n",
    "**Ans:** Ctrl + C or I'll just restart the kernel."
   ]
  },
  {
   "cell_type": "markdown",
   "id": "a6083537",
   "metadata": {},
   "source": [
    "## 10. How can you tell the difference between break and continue?\n",
    "\n",
    "**Ans:** Both of these keywords are supposed to be used inside the loops.    \n",
    "    \n",
    "When we use break inside the loops, what it does is that it immediately **breaks out of the loop** regardless of what statements are present after the break keyword at the time inside the loop.    \n",
    "Whereas in the case of continue, compiler **redirects the control to the beginning of loop** regardless of what statements are present after the continue keyword."
   ]
  },
  {
   "cell_type": "code",
   "execution_count": 2,
   "id": "fde22072",
   "metadata": {},
   "outputs": [
    {
     "name": "stdout",
     "output_type": "stream",
     "text": [
      "0\n",
      "2\n",
      "4\n",
      "6\n",
      "8\n",
      "10\n",
      "12\n",
      "14\n",
      "16\n",
      "18\n",
      "20\n",
      "22\n",
      "24\n",
      "26\n",
      "28\n",
      "30\n",
      "32\n",
      "34\n",
      "36\n",
      "38\n",
      "40\n",
      "42\n",
      "44\n",
      "46\n",
      "48\n"
     ]
    }
   ],
   "source": [
    "#For ex:\n",
    "for i in range(0, 49):\n",
    "    if i%2 != 0:\n",
    "        i += 1\n",
    "        continue \n",
    "    elif i == 99:\n",
    "        break\n",
    "    else:\n",
    "        print(i)\n",
    "    "
   ]
  },
  {
   "cell_type": "markdown",
   "id": "06847f17",
   "metadata": {},
   "source": [
    "## 11. In a for loop, what is the difference between range(10), range(0, 10), and range(0, 10, 1)?\n",
    "\n",
    "**Ans:** There is no difference between these given ranges whatsoever.     \n",
    "    \n",
    "\n",
    "range(10) is the range starting from 0 till 10 excluding 10, with the default step size of 1.\n",
    "    \n",
    "range(0, 10) is the range starting from 0 till 10 excluding 10, with the default step size of 1.\n",
    "    \n",
    "range(0, 10, 1) is the range starting from 0 till 10 excluding 10, with the step size of 1."
   ]
  },
  {
   "cell_type": "markdown",
   "id": "99bdf8b7",
   "metadata": {},
   "source": [
    "## 12. Write a short program that prints the numbers 1 to 10 using a for loop. Then write an equivalent program that prints the numbers 1 to 10 using a while loop."
   ]
  },
  {
   "cell_type": "code",
   "execution_count": 14,
   "id": "299ca72a",
   "metadata": {},
   "outputs": [
    {
     "name": "stdout",
     "output_type": "stream",
     "text": [
      "1\n",
      "2\n",
      "3\n",
      "4\n",
      "5\n",
      "6\n",
      "7\n",
      "8\n",
      "9\n",
      "10\n",
      "--------------\n",
      "1\n",
      "2\n",
      "3\n",
      "4\n",
      "5\n",
      "6\n",
      "7\n",
      "8\n",
      "9\n",
      "10\n"
     ]
    }
   ],
   "source": [
    "#Ans:\n",
    "\n",
    "#using for loop\n",
    "for i in range(1, 11):\n",
    "    print(i)\n",
    "    \n",
    "print(\"--------------\")\n",
    "#using while loop:\n",
    "i = 1\n",
    "while i <= 10:\n",
    "    print(i)\n",
    "    i += 1"
   ]
  },
  {
   "cell_type": "markdown",
   "id": "159d55ae",
   "metadata": {},
   "source": [
    "## 13. If you had a function named bacon() inside a module named spam, how would you call it after importing spam?\n",
    "\n",
    "**Ans:** There are actually two ways:\n",
    "\n",
    " - #### from spam import *<br>bacon()\n",
    " - #### import spam<br>spam.bacon()"
   ]
  }
 ],
 "metadata": {
  "kernelspec": {
   "display_name": "Python 3 (ipykernel)",
   "language": "python",
   "name": "python3"
  },
  "language_info": {
   "codemirror_mode": {
    "name": "ipython",
    "version": 3
   },
   "file_extension": ".py",
   "mimetype": "text/x-python",
   "name": "python",
   "nbconvert_exporter": "python",
   "pygments_lexer": "ipython3",
   "version": "3.9.7"
  }
 },
 "nbformat": 4,
 "nbformat_minor": 5
}
