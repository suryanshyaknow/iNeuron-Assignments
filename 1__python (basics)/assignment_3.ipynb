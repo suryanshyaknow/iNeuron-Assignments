{
 "cells": [
  {
   "cell_type": "markdown",
   "id": "2de4488e",
   "metadata": {},
   "source": [
    "### 1. Why are functions advantageous to have in your programs?\n",
    "\n",
    "**Ans:** They are advantageous because of the following reasons:\n",
    "\n",
    " - By using them we can avoid the repetition of codes.\n",
    " - They increases program readability, or we can say our code looks more clean by the virtue of them.\n",
    " - By using functions we can divide a complex problem into simpler and smaller chunks.\n",
    " - Modifying a program becomes easier by using functions.\n",
    " - They reduces chances of error."
   ]
  },
  {
   "cell_type": "markdown",
   "id": "5adc206e",
   "metadata": {},
   "source": [
    "### 2. When does the code in a function run: when it's specified or when it's called?\n",
    "\n",
    "**Ans:** The code or the logic in the function runs only when it is called by passing the required parameters if any.\n",
    "On the other hand, when it is specified, it only means that code is being readied to be used up in the later stages when required. "
   ]
  },
  {
   "cell_type": "markdown",
   "id": "585e26a6",
   "metadata": {},
   "source": [
    "### 3. What statement creates a function?\n",
    "\n",
    "**Ans:** The statement:\n",
    "\n",
    "**def function_name()** marks the commence of the function.\n",
    "\n",
    "**Syntax:** **def func_name (arg1, arg2, .....argn):**\n",
    "                \n",
    "                '''\n",
    "                some code or logic to be executed\n",
    "                when desired, by calling.\n",
    "                '''\n",
    "                "
   ]
  },
  {
   "cell_type": "markdown",
   "id": "0aaa3aa6",
   "metadata": {},
   "source": [
    "### 4. What is the difference between a function and a function call?\n",
    "\n",
    "**Ans:** In layman terms, A function is the logic or code that is to be executed when required **by calling it**.\n",
    "\n",
    "The function call is, now, calling that code or logic that was meant to be used apparently now, this very momemt."
   ]
  },
  {
   "cell_type": "markdown",
   "id": "d61e9d33",
   "metadata": {},
   "source": [
    "### 5. How many global scopes are there in a Python program? How many local scopes?\n",
    "\n",
    "**Ans:** A variable is only available from inside the space it is created. This is called **scope**.\n",
    "\n",
    "**There is only one global scope per program execution. This scope remains in existence until the program terminates and all its names are forgotten.**\n",
    "\n",
    "A variable created inside a function belongs to the local scope of that function, and can only be used inside that function. Just right outside the function the variables declared globally will overrule. And thus there will be as many local scopes in a program as there are number of functions in that very program.\n",
    "\n",
    "Moreover,\n",
    "At any given time during execution, we'll have ***at most four active Python scopes***— **local, enclosing, global, and built-in** —depending on where we are in the code. And this summarizes not only the Python scope levels but also the sequence of steps that Python follows when resolving names in a program.\n",
    "This is a **LEGB** rule.\n",
    "\n",
    "**Enclosing (or nonlocal) scope is a special scope that only exists for nested functions.** If the local scope is an inner or nested function, then the enclosing scope is the scope of the outer or enclosing function. This scope contains the names that you define in the enclosing function."
   ]
  },
  {
   "cell_type": "markdown",
   "id": "4547c610",
   "metadata": {},
   "source": [
    "### 6. What happens to variables in a local scope when the function call returns?\n",
    "\n",
    "**Ans:** Just after the function call returns, ***control returns to the calling statement***. And now the local variable can be used outside the function any time after the function call completes, until and unless that very function is called again and new parameters are passed that might change the values of that local variables. "
   ]
  },
  {
   "cell_type": "markdown",
   "id": "7230f091",
   "metadata": {},
   "source": [
    "### 7. What is the concept of a return value? Is it possible to have a return value in an expression?\n",
    "\n",
    "**Ans:** A return is a value that a function returns (rather than directly printing in the console) to the calling script or function when it completes its task. Moreover, the return statement terminates the function execution.\n",
    "\n",
    "No, it's not possible to have a return value in the expression because a variabe or another function is a must to extract the value that is returned by the function (always) or we won't get any kind of result or o/p. Now if we want to implement that value returned we can simply use the variable or function that conatins it(or to be more precise, points towards it.)."
   ]
  },
  {
   "cell_type": "markdown",
   "id": "e76971cd",
   "metadata": {},
   "source": [
    "### 8. If a function does not have a return statement, what is the return value of a call to that function?\n",
    "\n",
    "**Ans:** **None or undefined** i.e if no return statement appears in a function definition, control automatically returns to the calling function after the last statement of the called function is executed. In this case, the return value of the called function is undefined.\n",
    "\n",
    "It will just print statements directly in the console provided it is using a print function in it **OR** execute the logic written inside it."
   ]
  },
  {
   "cell_type": "markdown",
   "id": "a54c7aec",
   "metadata": {},
   "source": [
    "### 9. How do you make a function variable refer to the global variable?\n",
    "\n",
    "**Ans:** By making that function return the value of that very variable and reassign it to the variable that is present in the global scope.\n",
    "\n",
    "OR simply by using the keyword **global** before the variable name. Now, it will have same value in all scopes until or unless reassgined by again using the global keyword."
   ]
  },
  {
   "cell_type": "code",
   "execution_count": 1,
   "id": "f5584fa9",
   "metadata": {},
   "outputs": [],
   "source": [
    "#for ex:\n",
    "\n",
    "a = 10 #global variable\n",
    "\n",
    "def ret_var(a = 12):\n",
    "    return a"
   ]
  },
  {
   "cell_type": "code",
   "execution_count": 2,
   "id": "04e459c4",
   "metadata": {},
   "outputs": [
    {
     "data": {
      "text/plain": [
       "10"
      ]
     },
     "execution_count": 2,
     "metadata": {},
     "output_type": "execute_result"
    }
   ],
   "source": [
    "a"
   ]
  },
  {
   "cell_type": "code",
   "execution_count": 5,
   "id": "5e8752cd",
   "metadata": {},
   "outputs": [
    {
     "data": {
      "text/plain": [
       "12"
      ]
     },
     "execution_count": 5,
     "metadata": {},
     "output_type": "execute_result"
    }
   ],
   "source": [
    "a = ret_var() #this is how we refer a function variable to the global variable.\n",
    "a"
   ]
  },
  {
   "cell_type": "markdown",
   "id": "76e4cb61",
   "metadata": {},
   "source": [
    "**Or by using the global keyword:** "
   ]
  },
  {
   "cell_type": "code",
   "execution_count": 5,
   "id": "9738f9e3",
   "metadata": {},
   "outputs": [
    {
     "data": {
      "text/plain": [
       "12"
      ]
     },
     "execution_count": 5,
     "metadata": {},
     "output_type": "execute_result"
    }
   ],
   "source": [
    "x = 10\n",
    "\n",
    "def var():\n",
    "    global x\n",
    "    x = 12\n",
    "    return x\n",
    "var()\n",
    "x"
   ]
  },
  {
   "cell_type": "markdown",
   "id": "d56747e8",
   "metadata": {},
   "source": [
    "### 10. What is the data type of None?\n",
    "\n",
    "**Ans:** NoneType"
   ]
  },
  {
   "cell_type": "code",
   "execution_count": 7,
   "id": "29ec630b",
   "metadata": {},
   "outputs": [
    {
     "data": {
      "text/plain": [
       "NoneType"
      ]
     },
     "execution_count": 7,
     "metadata": {},
     "output_type": "execute_result"
    }
   ],
   "source": [
    "type(None)"
   ]
  },
  {
   "cell_type": "markdown",
   "id": "6957ef82",
   "metadata": {},
   "source": [
    "### 11. What does the sentence import areallyourpetsnamederic do?\n",
    "\n",
    "**Ans:** import areallyourpetsnamederic\n",
    "\n",
    "It just imports the library or package named 'areallyourpetsnamederic' provided if there is such a library or package actually available i.e. if it is created by someone."
   ]
  },
  {
   "cell_type": "markdown",
   "id": "a281da3f",
   "metadata": {},
   "source": [
    "### 12. If you had a bacon() feature in a spam module, what would you call it after importing spam?\n",
    "\n",
    "**Ans:** There are two ways:\n",
    "\n",
    " - #### import spam<br>spam.bacon()\n",
    "       \n",
    " - #### from spam import *<br>bacon()"
   ]
  },
  {
   "cell_type": "markdown",
   "id": "21f437b2",
   "metadata": {},
   "source": [
    "### 13. What can you do to save a programme from crashing if it encounters an error?\n",
    "\n",
    "**Ans:** We can use simply **try**, **except** and **else** clause.\n",
    "\n",
    "What **try** clause will do is it will redirect the control to the **except** clause just after trying to execute the statement, that will crash the whole program, and execute whatever is written inside the except clause. \n",
    "\n",
    "And if in case there ain't no error in the **try** clasue, **else** clause will be automatically executed. And now there is no role for **except** clause to play."
   ]
  },
  {
   "cell_type": "markdown",
   "id": "6a49c79b",
   "metadata": {},
   "source": [
    "### 14. What is the purpose of the try clause? What is the purpose of the except clause?\n",
    "\n",
    "**Ans:** try clause will redirect the control to the **except** clause just after trying to execute the statement, that will crash the whole program or for the least will cause an error, and execute whatever is written inside the except clause.\n",
    "\n",
    "Generally what we do in the except clause is:\n",
    "\n",
    "**except** Exception as e:<br>\n",
    "&emsp;&emsp;&emsp;&emsp;&emsp;&emsp;&emsp;print(e)\n",
    "        \n",
    "By doing this we'll know the error as well as our program won't be crashed too. "
   ]
  }
 ],
 "metadata": {
  "kernelspec": {
   "display_name": "Python 3 (ipykernel)",
   "language": "python",
   "name": "python3"
  },
  "language_info": {
   "codemirror_mode": {
    "name": "ipython",
    "version": 3
   },
   "file_extension": ".py",
   "mimetype": "text/x-python",
   "name": "python",
   "nbconvert_exporter": "python",
   "pygments_lexer": "ipython3",
   "version": "3.9.7"
  }
 },
 "nbformat": 4,
 "nbformat_minor": 5
}
