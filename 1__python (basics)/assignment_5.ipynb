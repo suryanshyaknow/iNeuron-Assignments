{
 "cells": [
  {
   "cell_type": "markdown",
   "id": "c25c1ee3",
   "metadata": {},
   "source": [
    "### 1. What does an empty dictionary's code look like?\n",
    "**Ans:** Empty dictionary can look like in two not so different ways:\n",
    " - #### var_name = {}\n",
    " - #### var_name = dict()"
   ]
  },
  {
   "cell_type": "markdown",
   "id": "051f3c1e",
   "metadata": {},
   "source": [
    "### 2. What is the value of a dictionary value with the key 'foo' and the value 42?\n",
    "**Ans:** 42"
   ]
  },
  {
   "cell_type": "markdown",
   "id": "852a7d6d",
   "metadata": {},
   "source": [
    "### 3. What is the most significant distinction between a dictionary and a list?\n",
    "**Ans:** Most significant distinction between a dict and a list is that **dictionaries are an unordered sequence of objects**, while **lists are an ordered sequences**. In addition, dictionary follows the key-value pairs pattern whereas list just store the values in a linear fashion.    \n",
    "Thus, unlike lists, values in the dictionaries are accessed by the keys and not by the index.\n"
   ]
  },
  {
   "cell_type": "markdown",
   "id": "5e0ef24a",
   "metadata": {},
   "source": [
    "### 4. What happens if you try to access spam['foo'] if spam is {'bar': 100}?\n",
    "**Ans:** Will give **KeyError**.  "
   ]
  },
  {
   "cell_type": "markdown",
   "id": "7c44fb68",
   "metadata": {},
   "source": [
    "### 5. If a dictionary is stored in spam, what is the difference between the expressions 'cat' in spam and 'cat' in spam.keys()?\n",
    "**Ans:** The difference would be none.<br>\n",
    "**'cat' in spam** will check whether there's a key 'cat' in spam.<br>\n",
    "**'cat' in spam.keys()** will also check whether there's a key 'cat' among all the keys in spam. "
   ]
  },
  {
   "cell_type": "markdown",
   "id": "695427c0",
   "metadata": {},
   "source": [
    "### 6. If a dictionary is stored in spam, what is the difference between the expressions 'cat' in spam and 'cat' in spam.values()?\n",
    "**Ans:** The first expression **'cat' in spam** will check for the key 'cat' if there's any among the keys in spam **by default**.<br>\n",
    "While the expression **'cat' in spam.values()** will check for the **value 'cat'** amonng the values of spam. "
   ]
  },
  {
   "cell_type": "markdown",
   "id": "687f25db",
   "metadata": {},
   "source": [
    "### 7. What is a shortcut for the following code?\n",
    "**if 'color' not in spam:<br>\n",
    "&emsp;&emsp;spam['color'] = 'black'**<br>\n",
    "**Ans: shortcut:** spam['color'] = 'black'"
   ]
  },
  {
   "cell_type": "markdown",
   "id": "03705236",
   "metadata": {},
   "source": [
    "### 8. How do you \"pretty print\" dictionary values using which module and function?\n",
    "**Ans:** pprint.pprint()"
   ]
  }
 ],
 "metadata": {
  "kernelspec": {
   "display_name": "Python 3 (ipykernel)",
   "language": "python",
   "name": "python3"
  },
  "language_info": {
   "codemirror_mode": {
    "name": "ipython",
    "version": 3
   },
   "file_extension": ".py",
   "mimetype": "text/x-python",
   "name": "python",
   "nbconvert_exporter": "python",
   "pygments_lexer": "ipython3",
   "version": "3.9.7"
  }
 },
 "nbformat": 4,
 "nbformat_minor": 5
}
