{
 "cells": [
  {
   "cell_type": "markdown",
   "id": "12da650a",
   "metadata": {},
   "source": [
    "### 1.\n",
    "Define a class with a generator which can iterate the numbers, which are divisible by 7, between a given range 0 and n."
   ]
  },
  {
   "cell_type": "code",
   "execution_count": 1,
   "id": "d4fd4af0",
   "metadata": {},
   "outputs": [],
   "source": [
    "class Solution:\n",
    "    \n",
    "    @classmethod\n",
    "    def yield_numbers_divisible_by_x(cls, n, x=7):\n",
    "        try:\n",
    "            for i in range(0, n):\n",
    "                if i%7 == 0:\n",
    "                    yield i\n",
    "        except Exception as e:\n",
    "            print(e)"
   ]
  },
  {
   "cell_type": "code",
   "execution_count": 2,
   "id": "338a83ef",
   "metadata": {},
   "outputs": [
    {
     "name": "stdout",
     "output_type": "stream",
     "text": [
      "0\n",
      "7\n",
      "14\n",
      "21\n",
      "28\n",
      "35\n",
      "42\n",
      "49\n"
     ]
    }
   ],
   "source": [
    "# Generator that yield numbers divisible by 5 within range(0, 5)\n",
    "gen = Solution.yield_numbers_divisible_by_x(n=50)\n",
    "\n",
    "# Those numbers\n",
    "for i in gen:\n",
    "    print(i)"
   ]
  },
  {
   "cell_type": "markdown",
   "id": "963bae6c",
   "metadata": {},
   "source": [
    "### 2. \n",
    "Write a program to compute the frequency of the words from the input. The output should be returned after sorting the key alphanumerically.\n",
    "\n",
    "Suppose the following input is supplied to the program: `New to Python or choosing between Python 2 and Python 3? Read Python 2 or Python 3.`\n",
    "\n",
    "Then, the output should be:\n",
    "`2:2\n",
    "3.:1\n",
    "3?:1\n",
    "New:1\n",
    "Python:5\n",
    "Read:1\n",
    "and:1\n",
    "between:1\n",
    "choosing:1\n",
    "or:2\n",
    "to:1`"
   ]
  },
  {
   "cell_type": "code",
   "execution_count": 3,
   "id": "1f804b9c",
   "metadata": {},
   "outputs": [],
   "source": [
    "from typing import Dict\n",
    "from collections import OrderedDict\n",
    "\n",
    "def solution(input_: str) -> OrderedDict:\n",
    "    words = input_.split()\n",
    "    \n",
    "    od = OrderedDict()\n",
    "    for word in sorted(words):\n",
    "        if word in od.keys():\n",
    "            od[word] += 1\n",
    "        else:\n",
    "            od[word] = 1\n",
    "    return od"
   ]
  },
  {
   "cell_type": "code",
   "execution_count": 4,
   "id": "35877d8c",
   "metadata": {},
   "outputs": [
    {
     "data": {
      "text/plain": [
       "OrderedDict([('2', 2),\n",
       "             ('3.', 1),\n",
       "             ('3?', 1),\n",
       "             ('New', 1),\n",
       "             ('Python', 5),\n",
       "             ('Read', 1),\n",
       "             ('and', 1),\n",
       "             ('between', 1),\n",
       "             ('choosing', 1),\n",
       "             ('or', 2),\n",
       "             ('to', 1)])"
      ]
     },
     "execution_count": 4,
     "metadata": {},
     "output_type": "execute_result"
    }
   ],
   "source": [
    "solution(input_=\"New to Python or choosing between Python 2 and Python 3? Read Python 2 or Python 3.\")"
   ]
  },
  {
   "cell_type": "markdown",
   "id": "42414aad",
   "metadata": {},
   "source": [
    "### 3.\n",
    "Define a class Person and its two child classes: Male and Female. All classes have a\n",
    "method &quot;getGender&quot; which can print &quot;Male&quot; for Male class and &quot;Female&quot; for Female\n",
    "class."
   ]
  },
  {
   "cell_type": "code",
   "execution_count": 5,
   "id": "e345a206",
   "metadata": {},
   "outputs": [],
   "source": [
    "class Person:\n",
    "    def getGender(self):\n",
    "        pass\n",
    "\n",
    "class Male(Person):\n",
    "    def getGender(self):\n",
    "        print(\"Male\")\n",
    "        \n",
    "class Female(Person):\n",
    "    def getGender(self):\n",
    "        print(\"Female\")"
   ]
  },
  {
   "cell_type": "code",
   "execution_count": 6,
   "id": "b3a0962e",
   "metadata": {},
   "outputs": [
    {
     "name": "stdout",
     "output_type": "stream",
     "text": [
      "Male\n",
      "Female\n"
     ]
    }
   ],
   "source": [
    "Male().getGender()\n",
    "Female().getGender()"
   ]
  },
  {
   "cell_type": "markdown",
   "id": "c5d7cf78",
   "metadata": {},
   "source": [
    "### 4.\n",
    "Please write a program to generate all sentences where subject is in [&quot;I&quot;, &quot;You&quot;] and\n",
    "verb is in [&quot;Play&quot;, &quot;Love&quot;] and the object is in [&quot;Hockey&quot;,&quot;Football&quot;]."
   ]
  },
  {
   "cell_type": "code",
   "execution_count": 7,
   "id": "a376a9a3",
   "metadata": {},
   "outputs": [],
   "source": [
    "def generate_BS():\n",
    "    for sub in [\"I\", \"You\"]:\n",
    "        for verb in [\"Play\", \"Love\"]:\n",
    "            for obj in [\"Hockey\", \"Football\"]:\n",
    "                yield f\"{sub} {verb} {obj}\""
   ]
  },
  {
   "cell_type": "code",
   "execution_count": 8,
   "id": "4949e7e5",
   "metadata": {},
   "outputs": [
    {
     "data": {
      "text/plain": [
       "['I Play Hockey',\n",
       " 'I Play Football',\n",
       " 'I Love Hockey',\n",
       " 'I Love Football',\n",
       " 'You Play Hockey',\n",
       " 'You Play Football',\n",
       " 'You Love Hockey',\n",
       " 'You Love Football']"
      ]
     },
     "execution_count": 8,
     "metadata": {},
     "output_type": "execute_result"
    }
   ],
   "source": [
    "[i for i in generate_BS()]"
   ]
  },
  {
   "cell_type": "markdown",
   "id": "5456fbd4",
   "metadata": {},
   "source": [
    "### 5.\n",
    "Please write a program to compress and decompress the string &quot;hello world!hello\n",
    "world!hello world!hello world!&quot;."
   ]
  },
  {
   "cell_type": "code",
   "execution_count": 9,
   "id": "9d1cbfed",
   "metadata": {},
   "outputs": [],
   "source": [
    "def compress_hello_world():\n",
    "    try:\n",
    "        string = \"hello world!hello world!hello world!hello world!\"\n",
    "        hello_world = string.split('!')\n",
    "        counts = len(hello_world) - 1\n",
    "        \n",
    "        return f\"{hello_world[0]}!{counts}\"\n",
    "        ...\n",
    "    except Exception as e:\n",
    "        print(e)\n",
    "        \n",
    "def decompress_hello_world():\n",
    "    try:\n",
    "        string = compress_hello_world()\n",
    "        return string[:-1]*int(string[-1])\n",
    "        ...\n",
    "    except Exception as e:\n",
    "        print(e)"
   ]
  },
  {
   "cell_type": "code",
   "execution_count": 10,
   "id": "212a55e0",
   "metadata": {},
   "outputs": [
    {
     "name": "stdout",
     "output_type": "stream",
     "text": [
      "Compressed:  hello world!4\n",
      "Decompressed:  hello world!hello world!hello world!hello world!\n"
     ]
    }
   ],
   "source": [
    "print(\"Compressed: \", compress_hello_world())\n",
    "print(\"Decompressed: \", decompress_hello_world())"
   ]
  },
  {
   "cell_type": "markdown",
   "id": "e60b308a",
   "metadata": {},
   "source": [
    "### 6.\n",
    "Please write a binary search function which searches an item in a sorted list. The function should return the index of element to be searched in the list."
   ]
  },
  {
   "cell_type": "code",
   "execution_count": 11,
   "id": "6765f81d",
   "metadata": {},
   "outputs": [],
   "source": [
    "from typing import List\n",
    "\n",
    "def binary_search_for_x(lst: List, x) -> int:\n",
    "    try:\n",
    "        lst = sorted(lst)\n",
    "        start = 0\n",
    "        end = len(lst) - 1\n",
    "        \n",
    "        while(start <= end):\n",
    "            mid = int((start+end)/2)\n",
    "            \n",
    "            if lst[mid] == x:\n",
    "                return mid\n",
    "            elif lst[mid] < x:\n",
    "                start = mid+1\n",
    "            else:\n",
    "                high = mid-1                \n",
    "        ...\n",
    "    except Exception as e:\n",
    "        print(e)"
   ]
  },
  {
   "cell_type": "code",
   "execution_count": 12,
   "id": "eb973485",
   "metadata": {},
   "outputs": [
    {
     "data": {
      "text/plain": [
       "7"
      ]
     },
     "execution_count": 12,
     "metadata": {},
     "output_type": "execute_result"
    }
   ],
   "source": [
    "lst = [10, 15, 17, 18, 26, 1972, 1976, 1999, 2004, 2011]\n",
    "\n",
    "binary_search_for_x(lst, x=1999)"
   ]
  }
 ],
 "metadata": {
  "kernelspec": {
   "display_name": "Python 3 (ipykernel)",
   "language": "python",
   "name": "python3"
  },
  "language_info": {
   "codemirror_mode": {
    "name": "ipython",
    "version": 3
   },
   "file_extension": ".py",
   "mimetype": "text/x-python",
   "name": "python",
   "nbconvert_exporter": "python",
   "pygments_lexer": "ipython3",
   "version": "3.9.12"
  }
 },
 "nbformat": 4,
 "nbformat_minor": 5
}
