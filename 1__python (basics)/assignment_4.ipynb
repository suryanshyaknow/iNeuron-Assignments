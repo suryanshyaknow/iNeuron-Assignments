{
 "cells": [
  {
   "cell_type": "markdown",
   "id": "93bd9a27",
   "metadata": {},
   "source": [
    "### 1. What exactly is []?\n",
    "\n",
    "**Ans.** List"
   ]
  },
  {
   "cell_type": "markdown",
   "id": "27581ca8",
   "metadata": {},
   "source": [
    "### 2. In a list of values stored in a variable called spam, how would you assign the value &#39;hello&#39; as the third value? (Assume [2, 4, 6, 8, 10] are in spam.)\n",
    "**Ans.** spam[2] = 'hello'"
   ]
  },
  {
   "cell_type": "markdown",
   "id": "37d8a694",
   "metadata": {},
   "source": [
    "## Let's pretend the spam includes the list ['a', 'b', c', 'd'] for the next three queries."
   ]
  },
  {
   "cell_type": "markdown",
   "id": "d8d1c599",
   "metadata": {},
   "source": [
    "### 3. What is the value of spam[int(int('3' * 2) / 11)]?\n",
    "**Ans.** <br>\n",
    "         spam[int(int('3' * 2) / 11)]    \n",
    "         spam[int(int('33') / 11)]    \n",
    "         spam[int(33) / 11)]     \n",
    "         spam[int(3)]    \n",
    "         spam[3]    \n",
    "         \"d\"    "
   ]
  },
  {
   "cell_type": "markdown",
   "id": "a1434090",
   "metadata": {},
   "source": [
    "### 4. What is the value of spam[-1]?\n",
    "**Ans.** \"d\""
   ]
  },
  {
   "cell_type": "markdown",
   "id": "f9dc34c2",
   "metadata": {},
   "source": [
    "### 5. What is the value of spam[:2]?\n",
    "**Ans.** ['a', 'b']"
   ]
  },
  {
   "cell_type": "markdown",
   "id": "a342ccc9",
   "metadata": {},
   "source": [
    "## Let's pretend bacon has the list [3.14, 'cat', 11, 'cat', True] for the next three questions."
   ]
  },
  {
   "cell_type": "markdown",
   "id": "95645e63",
   "metadata": {},
   "source": [
    "### 6. What is the value of bacon.index('cat')?\n",
    "**Ans.** 1"
   ]
  },
  {
   "cell_type": "markdown",
   "id": "036c63af",
   "metadata": {},
   "source": [
    "### 7. How does bacon.append(99) change the look of the list value in bacon?\n",
    "**Ans.** By adding element 99 next to the last element of the list bacon.<br>\n",
    "&emsp;&emsp;&emsp;i.e. [3.14, 'cat', 11, 'cat', True, 99] "
   ]
  },
  {
   "cell_type": "markdown",
   "id": "008b5f69",
   "metadata": {},
   "source": [
    "### 8. How does bacon.remove('cat') change the look of the list in bacon?\n",
    "**Ans.** It will remove the first occurence of the element 'cat'.<br>\n",
    "&emsp;&emsp;&emsp;i.e. [3.14, 11, 'cat', True]"
   ]
  },
  {
   "cell_type": "markdown",
   "id": "ebf01688",
   "metadata": {},
   "source": [
    "### 9. What are the list concatenation and list replication operators?\n",
    "**Ans.** The **list concatenation operator** would be **\"+\"**. **Used to concatenate two lists or the same list to itself.**<br>\n",
    "&emsp;&emsp;The **list replication operator** would be **\"*\"**. **Containing each element of the list as many times the value of replication factor is.**<br>"
   ]
  },
  {
   "cell_type": "markdown",
   "id": "718e3b48",
   "metadata": {},
   "source": [
    "#### For example:"
   ]
  },
  {
   "cell_type": "code",
   "execution_count": 21,
   "id": "db9d18f1",
   "metadata": {},
   "outputs": [
    {
     "data": {
      "text/plain": [
       "[3.14, 'bat', 11, 'bat', False, 99, 3.14, 'cat', 11, 'cat', True, 99]"
      ]
     },
     "execution_count": 21,
     "metadata": {},
     "output_type": "execute_result"
    }
   ],
   "source": [
    "#list concatenation\n",
    "a = [3.14, 'bat', 11, 'bat', False, 99]\n",
    "b = [3.14, 'cat', 11, 'cat', True, 99]\n",
    "c = a + b #Two lists concatenated.\n",
    "c"
   ]
  },
  {
   "cell_type": "code",
   "execution_count": 26,
   "id": "992f4d2f",
   "metadata": {},
   "outputs": [
    {
     "data": {
      "text/plain": [
       "[3.14,\n",
       " 'bat',\n",
       " 11,\n",
       " 'bat',\n",
       " False,\n",
       " 99,\n",
       " 3.14,\n",
       " 'bat',\n",
       " 11,\n",
       " 'bat',\n",
       " False,\n",
       " 99,\n",
       " 3.14,\n",
       " 'bat',\n",
       " 11,\n",
       " 'bat',\n",
       " False,\n",
       " 99]"
      ]
     },
     "execution_count": 26,
     "metadata": {},
     "output_type": "execute_result"
    }
   ],
   "source": [
    "#list replication\n",
    "a = [3.14, 'bat', 11, 'bat', False, 99]\n",
    "b = [3.14, 'cat', 11, 'cat', True, 99]\n",
    "c = a * 3 #replication factor = 3\n",
    "c"
   ]
  },
  {
   "cell_type": "markdown",
   "id": "fce8e1fd",
   "metadata": {},
   "source": [
    "### 10. What is difference between the list methods append() and insert()?\n",
    "**Ans.** **append()**: Add the desired element to the very end (last index) of the list.<br>\n",
    "&emsp;&emsp; **insert()**: Expects two arguments i.e. index where we wanna append the desired element and the desired element itself."
   ]
  },
  {
   "cell_type": "markdown",
   "id": "9ca42c86",
   "metadata": {},
   "source": [
    "#### For example:"
   ]
  },
  {
   "cell_type": "code",
   "execution_count": 27,
   "id": "100e975b",
   "metadata": {},
   "outputs": [
    {
     "data": {
      "text/plain": [
       "[3.14, 'bat', 11, 'bat', False, 99, \"Now, I'm the last!\"]"
      ]
     },
     "execution_count": 27,
     "metadata": {},
     "output_type": "execute_result"
    }
   ],
   "source": [
    "#append()\n",
    "a = [3.14, 'bat', 11, 'bat', False, 99]\n",
    "a.append(\"Now, I'm the last!\")\n",
    "a"
   ]
  },
  {
   "cell_type": "code",
   "execution_count": 28,
   "id": "bfb7f7ea",
   "metadata": {},
   "outputs": [
    {
     "data": {
      "text/plain": [
       "[3.14, 'bat', 11, 'I can be anywhere I want!', 'bat', False, 99]"
      ]
     },
     "execution_count": 28,
     "metadata": {},
     "output_type": "execute_result"
    }
   ],
   "source": [
    "#insert()\n",
    "a = [3.14, 'bat', 11, 'bat', False, 99]\n",
    "a.insert(3, \"I can be anywhere I want!\")\n",
    "a"
   ]
  },
  {
   "cell_type": "markdown",
   "id": "2f7bf5e4",
   "metadata": {},
   "source": [
    "### 11. What are the two methods for removing items from a list?\n",
    "**Ans.** **remove()**: remove the first ocurrence of the element passed as an argument<br>&emsp;&emsp;**pop()**: Remove and return item at index (default last)."
   ]
  },
  {
   "cell_type": "markdown",
   "id": "c04582ca",
   "metadata": {},
   "source": [
    "### 12. Describe how list values and string values are identical.\n",
    "**Ans.** Lists are similar to strings, which are also **ordered collections of characters**. The similarity between Lists and Strings in Python is that both are sequences. "
   ]
  },
  {
   "cell_type": "markdown",
   "id": "2f921fe1",
   "metadata": {},
   "source": [
    "### 13. What's the difference between tuples and lists?\n",
    "**Ans.** **Immutability**.<br>**List** are **mutable** i.e. the values of the elements can be changed or new elements can be added anytime when desired. Whereas **tuples** are immutable. None of the aforementioned operations can be done on tuples."
   ]
  },
  {
   "cell_type": "markdown",
   "id": "fe5fbe94",
   "metadata": {},
   "source": [
    "### 14. How do you type a tuple value that only contains the integer 42?\n",
    "**Ans.** tup = (42,) The **trailing comma** is mandatory."
   ]
  },
  {
   "cell_type": "code",
   "execution_count": 32,
   "id": "76ee7347",
   "metadata": {},
   "outputs": [
    {
     "data": {
      "text/plain": [
       "(42,)"
      ]
     },
     "execution_count": 32,
     "metadata": {},
     "output_type": "execute_result"
    }
   ],
   "source": [
    "tup = (42,)\n",
    "tup"
   ]
  },
  {
   "cell_type": "markdown",
   "id": "091e61b3",
   "metadata": {},
   "source": [
    "### 15. How do you get a list value's tuple form? How do you get a tuple value's list form?\n",
    "**Ans.** Given a list, say x, can be converted into tuple by putting the x in paranthesis and adding the keyword **tuple** before it."
   ]
  },
  {
   "cell_type": "code",
   "execution_count": 34,
   "id": "586ed79c",
   "metadata": {},
   "outputs": [
    {
     "data": {
      "text/plain": [
       "(3.14, 'bat', 11, 'bat', False, 99)"
      ]
     },
     "execution_count": 34,
     "metadata": {},
     "output_type": "execute_result"
    }
   ],
   "source": [
    "a = [3.14, 'bat', 11, 'bat', False, 99]\n",
    "a = tuple(a)\n",
    "a"
   ]
  },
  {
   "cell_type": "markdown",
   "id": "205cebaa",
   "metadata": {},
   "source": [
    "Given a list, say tup, can be converted into the list by putting the tup in paranthesis and adding the keyword **list** before it."
   ]
  },
  {
   "cell_type": "code",
   "execution_count": 36,
   "id": "7cf8c5f4",
   "metadata": {},
   "outputs": [
    {
     "data": {
      "text/plain": [
       "[3.14, 'cat', 11, 'cat', True, 99]"
      ]
     },
     "execution_count": 36,
     "metadata": {},
     "output_type": "execute_result"
    }
   ],
   "source": [
    "tup = (3.14, 'cat', 11, 'cat', True, 99)\n",
    "l_tup = list(tup)\n",
    "l_tup"
   ]
  },
  {
   "cell_type": "markdown",
   "id": "0f67a568",
   "metadata": {},
   "source": [
    "### 16. Variables that \"contain\" list values are not necessarily lists themselves. Instead, what do they contain?\n",
    "**Ans.** Variables that \"contain\" list values **will contain references to list values** rather than the list values themselves.<br>\n",
    "<br>\n",
    "**Python uses references whenever variables must store values of mutable data types, such as lists or dictionaries. For values of immutable data types such as strings, integers, or tuples, Python variables will store the value itself.**"
   ]
  },
  {
   "cell_type": "code",
   "execution_count": 42,
   "id": "7f9e39f1",
   "metadata": {},
   "outputs": [
    {
     "data": {
      "text/plain": [
       "False"
      ]
     },
     "execution_count": 42,
     "metadata": {},
     "output_type": "execute_result"
    }
   ],
   "source": [
    "a = [3.14, 'bat', 11, 'bat', False, 99] \n",
    "x = a[4] #doesn't contain the list value itself, merely a reference or pointer to it.\n",
    "x"
   ]
  },
  {
   "cell_type": "markdown",
   "id": "2c629a45",
   "metadata": {},
   "source": [
    "### 17. How do you distinguish between copy.copy() and copy.deepcopy()?\n",
    "**Ans.** .copy() create reference to original object. If you change copied object - you change the original object. .deepcopy() creates new object and does real copying of original object to new one. Changing new deepcopied object doesn't affect original object."
   ]
  }
 ],
 "metadata": {
  "kernelspec": {
   "display_name": "Python 3 (ipykernel)",
   "language": "python",
   "name": "python3"
  },
  "language_info": {
   "codemirror_mode": {
    "name": "ipython",
    "version": 3
   },
   "file_extension": ".py",
   "mimetype": "text/x-python",
   "name": "python",
   "nbconvert_exporter": "python",
   "pygments_lexer": "ipython3",
   "version": "3.9.7"
  }
 },
 "nbformat": 4,
 "nbformat_minor": 5
}
