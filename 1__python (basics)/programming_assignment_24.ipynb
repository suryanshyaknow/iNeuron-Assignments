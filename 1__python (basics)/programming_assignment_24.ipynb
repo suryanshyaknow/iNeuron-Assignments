{
 "cells": [
  {
   "cell_type": "code",
   "execution_count": 1,
   "id": "5feb5783",
   "metadata": {},
   "outputs": [],
   "source": [
    "import logging as lg\n",
    "\n",
    "lg.basicConfig(level=lg.INFO)"
   ]
  },
  {
   "cell_type": "markdown",
   "id": "d582f52a",
   "metadata": {},
   "source": [
    "### 1.\n",
    "Create a function that takes an integer and returns a list from 1 to the given number, where:\n",
    "    \n",
    "1. If the number can be divided evenly by 4, amplify it by 10 (i.e. return 10 times the\n",
    "number).\n",
    "2. If the number cannot be divided evenly by 4, simply return the number.\n",
    "\n",
    "**Examples:**\n",
    "    \n",
    "amplify(4) ➞ [1, 2, 3, 40]<br>\n",
    "amplify(3) ➞ [1, 2, 3]<br>\n",
    "amplify(25) ➞ [1, 2, 3, 40, 5, 6, 7, 80, 9, 10, 11, 120, 13, 14, 15, 160,\n",
    "17, 18, 19, 200, 21, 22, 23, 240, 25]<br>\n",
    "\n",
    "**Notes:**\n",
    "    \n",
    "- The given integer will always be equal to or greater than 1.\n",
    "- Include the number (see example above).\n",
    "- To perform this problem with its intended purpose, try doing it with list\n",
    "comprehensions. If that&#39;s too difficult, just solve the challenge any way you can."
   ]
  },
  {
   "cell_type": "code",
   "execution_count": 2,
   "id": "ef1dcfb2",
   "metadata": {},
   "outputs": [],
   "source": [
    "from typing import List\n",
    "\n",
    "def amplify(num: int) -> List:\n",
    "    try:\n",
    "        res = []\n",
    "        [res.append(i*10) if i%4==0 else res.append(i) for i in range(1, num+1)]\n",
    "        return res\n",
    "        ...\n",
    "    except Exception as e:\n",
    "        lg.exception(e)"
   ]
  },
  {
   "cell_type": "code",
   "execution_count": 3,
   "id": "b73aaa35",
   "metadata": {},
   "outputs": [
    {
     "name": "stdout",
     "output_type": "stream",
     "text": [
      "[1, 2, 3, 40]\n",
      "[1, 2, 3]\n",
      "[1, 2, 3, 40, 5, 6, 7, 80, 9, 10, 11, 120, 13, 14, 15, 160, 17, 18, 19, 200, 21, 22, 23, 240, 25]\n"
     ]
    }
   ],
   "source": [
    "## Examples:\n",
    "\n",
    "print(amplify(4))\n",
    "print(amplify(3))\n",
    "print(amplify(25))"
   ]
  },
  {
   "cell_type": "markdown",
   "id": "69ca8e08",
   "metadata": {},
   "source": [
    "**PS:** Too difficult?! Frickin' toying w us, y'all?!"
   ]
  },
  {
   "cell_type": "markdown",
   "id": "11da0771",
   "metadata": {},
   "source": [
    "### 2.\n",
    "Create a function that takes a list of numbers and return the number that&#39;s unique.\n",
    "\n",
    "**Examples:**\n",
    "    \n",
    "unique([3, 3, 3, 7, 3, 3]) ➞ 7<br>\n",
    "unique([0, 0, 0.77, 0, 0]) ➞ 0.77<br>\n",
    "unique([0, 1, 1, 1, 1, 1, 1, 1]) ➞ 0<br>\n",
    "\n",
    "**Note:**\n",
    "    \n",
    "Test cases will always have exactly one unique number while all others are the same."
   ]
  },
  {
   "cell_type": "code",
   "execution_count": 4,
   "id": "b4ca05f2",
   "metadata": {},
   "outputs": [],
   "source": [
    "def unique(lst: list) -> float or int:\n",
    "    try:\n",
    "        uniques = list(set(lst))\n",
    "        dic = dict.fromkeys(uniques)  # Create a dict from unique entries of list\n",
    "        for i in lst:\n",
    "            if dic[i] is None:\n",
    "                dic[i] = 1\n",
    "            else:\n",
    "                dic[i] += 1\n",
    "                \n",
    "        for key in dic.keys():\n",
    "            if dic[key] == 1:\n",
    "                return key\n",
    "        ...\n",
    "    except Exception as e:\n",
    "        lg.exception(e)"
   ]
  },
  {
   "cell_type": "code",
   "execution_count": 5,
   "id": "9e162e3e",
   "metadata": {},
   "outputs": [
    {
     "name": "stdout",
     "output_type": "stream",
     "text": [
      "7\n",
      "0.77\n",
      "0\n"
     ]
    }
   ],
   "source": [
    "## Examples:\n",
    "\n",
    "print(unique([3, 3, 3, 7, 3, 3]))\n",
    "print(unique([0, 0, 0.77, 0, 0]))\n",
    "print(unique([0, 1, 1, 1, 1, 1, 1, 1]))"
   ]
  },
  {
   "cell_type": "markdown",
   "id": "e0a6e1a0",
   "metadata": {},
   "source": [
    "### 3.\n",
    "Your task is to create a Circle constructor that creates a circle with a radius provided by an\n",
    "argument. The circles constructed must have two getters getArea() (PIr^2) and\n",
    "getPerimeter() (2PI*r) which give both respective areas and perimeter (circumference).\n",
    "\n",
    "For help with this class, you've been provided with a Rectangle constructor which you can use\n",
    "as a base example.\n",
    "\n",
    "**Examples:**\n",
    "\n",
    "circy = Circle(11)<br>\n",
    "circy.getArea()<br>\n",
    "\\# Should return 380.132711084365<br>\n",
    "\n",
    "circy = Circle(4.44)<br>\n",
    "circy.getPerimeter()<br>\n",
    "\\# Should return 27.897342763877365<br>\n",
    "\n",
    "**Note:**\n",
    "Round results up to the nearest integer."
   ]
  },
  {
   "cell_type": "code",
   "execution_count": 6,
   "id": "449f671a",
   "metadata": {},
   "outputs": [],
   "source": [
    "from dataclasses import dataclass\n",
    "\n",
    "@dataclass\n",
    "class Circle:\n",
    "    rad: float\n",
    "    PI = 22/7\n",
    "        \n",
    "    def getArea(self):\n",
    "        try:\n",
    "            return round(self.PI * self.rad**2, 0)\n",
    "            ...\n",
    "        except Exception as e:\n",
    "            lg.exception(e)\n",
    "            \n",
    "    def getPerimeter(self):\n",
    "        try:\n",
    "            return round(2 * self.PI * self.rad, 0)\n",
    "            ...\n",
    "        except Exception as e:\n",
    "            lg.exception(e)"
   ]
  },
  {
   "cell_type": "code",
   "execution_count": 7,
   "id": "aafbf7e9",
   "metadata": {},
   "outputs": [
    {
     "name": "stdout",
     "output_type": "stream",
     "text": [
      "380.0\n",
      "28.0\n"
     ]
    }
   ],
   "source": [
    "## Examples:\n",
    "\n",
    "print(Circle(11).getArea())\n",
    "print(Circle(4.44).getPerimeter())"
   ]
  },
  {
   "cell_type": "markdown",
   "id": "f45ae28d",
   "metadata": {},
   "source": [
    "### 4.\n",
    "Create a function that takes a list of strings and return a list, sorted from shortest to longest.\n",
    "\n",
    "**Examples:**\n",
    "    \n",
    "sort_by_length([&quot;Google&quot;, &quot;Apple&quot;, &quot;Microsoft&quot;])\n",
    "➞ [&quot;Apple&quot;, &quot;Google&quot;, &quot;Microsoft&quot;]\n",
    "\n",
    "sort_by_length([&quot;Leonardo&quot;, &quot;Michelangelo&quot;, &quot;Raphael&quot;, &quot;Donatello&quot;])\n",
    "➞ [&quot;Raphael&quot;, &quot;Leonardo&quot;, &quot;Donatello&quot;, &quot;Michelangelo&quot;]\n",
    "\n",
    "sort_by_length([&quot;Turing&quot;, &quot;Einstein&quot;, &quot;Jung&quot;])\n",
    "➞ [&quot;Jung&quot;, &quot;Turing&quot;, &quot;Einstein&quot;]\n",
    "\n",
    "**Note:**\n",
    "All test cases contain lists with strings of different lengths, so you won&#39;t have to deal with\n",
    "multiple strings of the same length."
   ]
  },
  {
   "cell_type": "code",
   "execution_count": 8,
   "id": "ffb8244e",
   "metadata": {},
   "outputs": [],
   "source": [
    "def sort_by_length(lst: list) -> List:\n",
    "    try:\n",
    "        lst1 = []\n",
    "        [lst1.append((len(i), i)) for i in lst]\n",
    "        lst1.sort()\n",
    "               \n",
    "        return [i[1] for i in lst1]\n",
    "        ...\n",
    "    except Exception as e:\n",
    "        lg.exception(e)"
   ]
  },
  {
   "cell_type": "code",
   "execution_count": 9,
   "id": "73fc85e3",
   "metadata": {},
   "outputs": [
    {
     "name": "stdout",
     "output_type": "stream",
     "text": [
      "['Apple', 'Google', 'Microsoft']\n",
      "['Raphael', 'Leonardo', 'Donatello', 'Michelangelo']\n",
      "['Jung', 'Turing', 'Einstein']\n"
     ]
    }
   ],
   "source": [
    "## Examples:\n",
    "\n",
    "print(sort_by_length([\"Google\", \"Apple\", \"Microsoft\"]))\n",
    "print(sort_by_length([\"Leonardo\", \"Michelangelo\", \"Raphael\", \"Donatello\"]))\n",
    "print(sort_by_length([\"Turing\", \"Einstein\", \"Jung\"]))"
   ]
  },
  {
   "cell_type": "markdown",
   "id": "43ce9516",
   "metadata": {},
   "source": [
    "### 5.\n",
    "Create a function that validates whether three given integers form a Pythagorean triplet. The\n",
    "sum of the squares of the two smallest integers must equal the square of the largest number to\n",
    "be validated.\n",
    "\n",
    "**Examples:**\n",
    "    \n",
    "is_triplet(3, 4, 5) ➞ True<br>\n",
    "\\# 3² + 4² = 25<br>\n",
    "\\# 5² = 25<br>\n",
    "\n",
    "is_triplet(13, 5, 12) ➞ True<br>\n",
    "\\# 5² + 12² = 169<br>\n",
    "\\# 13² = 169<br>\n",
    "\n",
    "is_triplet(1, 2, 3) ➞ False<br>\n",
    "\\# 1² + 2² = 5<br>\n",
    "\\# 3² = 9<br>\n",
    "\n",
    "**Notes:**\n",
    "Numbers may not be given in a sorted order."
   ]
  },
  {
   "cell_type": "code",
   "execution_count": 10,
   "id": "2b2dcb51",
   "metadata": {},
   "outputs": [],
   "source": [
    "def is_triplet(a: int, b: int, c: int) -> bool:\n",
    "    try:\n",
    "        lst = []\n",
    "        lst.append(a)\n",
    "        lst.append(b)\n",
    "        lst.append(c)\n",
    "        lst.sort()\n",
    "        \n",
    "        return lst[0]**2 + lst[1]**2 == lst[2]**2\n",
    "        \n",
    "        ...\n",
    "    except Exception as e:\n",
    "        lg.exception(e)"
   ]
  },
  {
   "cell_type": "code",
   "execution_count": 11,
   "id": "09d43123",
   "metadata": {},
   "outputs": [
    {
     "name": "stdout",
     "output_type": "stream",
     "text": [
      "True\n",
      "True\n",
      "False\n"
     ]
    }
   ],
   "source": [
    "## Examples:\n",
    "\n",
    "print(is_triplet(3, 4, 5))\n",
    "print(is_triplet(13, 5, 12))\n",
    "print(is_triplet(1, 2, 3))"
   ]
  }
 ],
 "metadata": {
  "kernelspec": {
   "display_name": "Python 3 (ipykernel)",
   "language": "python",
   "name": "python3"
  },
  "language_info": {
   "codemirror_mode": {
    "name": "ipython",
    "version": 3
   },
   "file_extension": ".py",
   "mimetype": "text/x-python",
   "name": "python",
   "nbconvert_exporter": "python",
   "pygments_lexer": "ipython3",
   "version": "3.9.12"
  }
 },
 "nbformat": 4,
 "nbformat_minor": 5
}
